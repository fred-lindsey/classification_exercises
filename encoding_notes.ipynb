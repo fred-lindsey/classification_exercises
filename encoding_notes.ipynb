{
 "cells": [
  {
   "cell_type": "markdown",
   "id": "f27f2c82",
   "metadata": {},
   "source": [
    "## Rules for encoding data:\n",
    "1. explore unencoded data\n",
    "2. model encoded data"
   ]
  },
  {
   "cell_type": "markdown",
   "id": "b45b9ace",
   "metadata": {},
   "source": [
    "## Data Pre-Processing\n",
    "1. encode categorical features"
   ]
  },
  {
   "cell_type": "code",
   "execution_count": null,
   "id": "fbacae38",
   "metadata": {},
   "outputs": [],
   "source": [
    "categorical_columns = [column for column in df.columns if df[column].dtype == 'O']\n",
    "categorical_columns"
   ]
  },
  {
   "cell_type": "markdown",
   "id": "9e66e24a",
   "metadata": {},
   "source": [
    "## Two Options:\n",
    "1. make one big dataframe containing encoded and unencoded variables\n",
    "    - just explore the unencoded data, its easier to explore\n",
    "    - send the encoded data into the X_train df to train\n",
    "2. make two seperate dataframes\n",
    "    - one with encoded for modeling\n",
    "    - one unencoded for exploring"
   ]
  },
  {
   "cell_type": "markdown",
   "id": "a7491762",
   "metadata": {},
   "source": [
    "## When to Drop Columns:\n",
    "- drop columns when you seperate your train/validate/test into X&Y\n",
    "- just drop unencoded categorical columns (from your list), along with target variable for your X sets "
   ]
  },
  {
   "cell_type": "code",
   "execution_count": null,
   "id": "fac12fe2",
   "metadata": {},
   "outputs": [],
   "source": [
    "baseline = train.target.mode().values[0]"
   ]
  },
  {
   "cell_type": "code",
   "execution_count": null,
   "id": "77098c50",
   "metadata": {},
   "outputs": [],
   "source": [
    "baseline_accuracy = (train.time == baseline).mean().round(2)"
   ]
  }
 ],
 "metadata": {
  "kernelspec": {
   "display_name": "Python 3 (ipykernel)",
   "language": "python",
   "name": "python3"
  },
  "language_info": {
   "codemirror_mode": {
    "name": "ipython",
    "version": 3
   },
   "file_extension": ".py",
   "mimetype": "text/x-python",
   "name": "python",
   "nbconvert_exporter": "python",
   "pygments_lexer": "ipython3",
   "version": "3.9.7"
  }
 },
 "nbformat": 4,
 "nbformat_minor": 5
}

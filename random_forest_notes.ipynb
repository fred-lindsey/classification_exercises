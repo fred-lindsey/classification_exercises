{
 "cells": [
  {
   "cell_type": "markdown",
   "id": "87eeb9af",
   "metadata": {},
   "source": [
    "## It's an Ensemble Model"
   ]
  },
  {
   "cell_type": "markdown",
   "id": "de76492f",
   "metadata": {},
   "source": [
    "## Bootstrapping:\n",
    "- an average of many averages\n",
    "- uses central limit theorem for increased accuracy, from many bootstrapped samples"
   ]
  },
  {
   "cell_type": "markdown",
   "id": "b531122f",
   "metadata": {},
   "source": [
    "## Pros\n",
    "- reduction in over fitting\n",
    "- more accurate than decision trees in most cases\n",
    "- naturally performs feature selection\n",
    "\n",
    "## Cons\n",
    "- slow real time prediction\n",
    "- difficult to implement\n",
    "- complex algorithm, difficult to explain\n"
   ]
  }
 ],
 "metadata": {
  "kernelspec": {
   "display_name": "Python 3 (ipykernel)",
   "language": "python",
   "name": "python3"
  },
  "language_info": {
   "codemirror_mode": {
    "name": "ipython",
    "version": 3
   },
   "file_extension": ".py",
   "mimetype": "text/x-python",
   "name": "python",
   "nbconvert_exporter": "python",
   "pygments_lexer": "ipython3",
   "version": "3.9.7"
  }
 },
 "nbformat": 4,
 "nbformat_minor": 5
}

{
 "cells": [
  {
   "cell_type": "markdown",
   "id": "eebb8947",
   "metadata": {},
   "source": [
    "## Exercises\n",
    "\n",
    "### Using the titanic data, in your classification-exercises repository, create a notebook, model.ipynb where you will do the following:"
   ]
  },
  {
   "cell_type": "code",
   "execution_count": 16,
   "id": "d5a27d3b",
   "metadata": {},
   "outputs": [],
   "source": [
    "# ignore warnings\n",
    "import warnings\n",
    "warnings.filterwarnings(\"ignore\")\n",
    "\n",
    "import numpy as np\n",
    "\n",
    "from pydataset import data\n",
    "\n",
    "from sklearn.model_selection import train_test_split\n",
    "from sklearn.tree import DecisionTreeClassifier, plot_tree\n",
    "from sklearn.metrics import classification_report\n",
    "from sklearn.metrics import confusion_matrix\n",
    "from sklearn.impute import SimpleImputer\n",
    "\n",
    "import matplotlib.pyplot as plt\n",
    "import seaborn as sns"
   ]
  },
  {
   "cell_type": "code",
   "execution_count": 2,
   "id": "c45c6bf2",
   "metadata": {},
   "outputs": [],
   "source": [
    "import acquire\n",
    "import prepare\n",
    "import split"
   ]
  },
  {
   "cell_type": "code",
   "execution_count": 3,
   "id": "d032ee95",
   "metadata": {},
   "outputs": [
    {
     "data": {
      "text/html": [
       "<div><div id=c79688c4-fe11-4f02-9366-55123d58a7e1 style=\"display:none; background-color:#9D6CFF; color:white; width:200px; height:30px; padding-left:5px; border-radius:4px; flex-direction:row; justify-content:space-around; align-items:center;\" onmouseover=\"this.style.backgroundColor='#BA9BF8'\" onmouseout=\"this.style.backgroundColor='#9D6CFF'\" onclick=\"window.commands?.execute('create-mitosheet-from-dataframe-output');\">See Full Dataframe in Mito</div> <script> if (window.commands?.hasCommand('create-mitosheet-from-dataframe-output')) document.getElementById('c79688c4-fe11-4f02-9366-55123d58a7e1').style.display = 'flex' </script> <table border=\"1\" class=\"dataframe\">\n",
       "  <thead>\n",
       "    <tr style=\"text-align: right;\">\n",
       "      <th></th>\n",
       "      <th>survived</th>\n",
       "      <th>pclass</th>\n",
       "      <th>sex</th>\n",
       "      <th>age</th>\n",
       "      <th>sibsp</th>\n",
       "      <th>parch</th>\n",
       "      <th>fare</th>\n",
       "      <th>deck</th>\n",
       "      <th>embark_town</th>\n",
       "      <th>alone</th>\n",
       "      <th>embark_town_Queenstown</th>\n",
       "      <th>embark_town_Southampton</th>\n",
       "      <th>sex_male</th>\n",
       "      <th>deck_B</th>\n",
       "      <th>deck_C</th>\n",
       "      <th>deck_D</th>\n",
       "      <th>deck_E</th>\n",
       "      <th>deck_F</th>\n",
       "      <th>deck_G</th>\n",
       "    </tr>\n",
       "  </thead>\n",
       "  <tbody>\n",
       "    <tr>\n",
       "      <th>0</th>\n",
       "      <td>0</td>\n",
       "      <td>3</td>\n",
       "      <td>male</td>\n",
       "      <td>22.0</td>\n",
       "      <td>1</td>\n",
       "      <td>0</td>\n",
       "      <td>7.2500</td>\n",
       "      <td>NaN</td>\n",
       "      <td>Southampton</td>\n",
       "      <td>0</td>\n",
       "      <td>0</td>\n",
       "      <td>1</td>\n",
       "      <td>1</td>\n",
       "      <td>0</td>\n",
       "      <td>0</td>\n",
       "      <td>0</td>\n",
       "      <td>0</td>\n",
       "      <td>0</td>\n",
       "      <td>0</td>\n",
       "    </tr>\n",
       "    <tr>\n",
       "      <th>1</th>\n",
       "      <td>1</td>\n",
       "      <td>1</td>\n",
       "      <td>female</td>\n",
       "      <td>38.0</td>\n",
       "      <td>1</td>\n",
       "      <td>0</td>\n",
       "      <td>71.2833</td>\n",
       "      <td>C</td>\n",
       "      <td>Cherbourg</td>\n",
       "      <td>0</td>\n",
       "      <td>0</td>\n",
       "      <td>0</td>\n",
       "      <td>0</td>\n",
       "      <td>0</td>\n",
       "      <td>1</td>\n",
       "      <td>0</td>\n",
       "      <td>0</td>\n",
       "      <td>0</td>\n",
       "      <td>0</td>\n",
       "    </tr>\n",
       "    <tr>\n",
       "      <th>2</th>\n",
       "      <td>1</td>\n",
       "      <td>3</td>\n",
       "      <td>female</td>\n",
       "      <td>26.0</td>\n",
       "      <td>0</td>\n",
       "      <td>0</td>\n",
       "      <td>7.9250</td>\n",
       "      <td>NaN</td>\n",
       "      <td>Southampton</td>\n",
       "      <td>1</td>\n",
       "      <td>0</td>\n",
       "      <td>1</td>\n",
       "      <td>0</td>\n",
       "      <td>0</td>\n",
       "      <td>0</td>\n",
       "      <td>0</td>\n",
       "      <td>0</td>\n",
       "      <td>0</td>\n",
       "      <td>0</td>\n",
       "    </tr>\n",
       "    <tr>\n",
       "      <th>3</th>\n",
       "      <td>1</td>\n",
       "      <td>1</td>\n",
       "      <td>female</td>\n",
       "      <td>35.0</td>\n",
       "      <td>1</td>\n",
       "      <td>0</td>\n",
       "      <td>53.1000</td>\n",
       "      <td>C</td>\n",
       "      <td>Southampton</td>\n",
       "      <td>0</td>\n",
       "      <td>0</td>\n",
       "      <td>1</td>\n",
       "      <td>0</td>\n",
       "      <td>0</td>\n",
       "      <td>1</td>\n",
       "      <td>0</td>\n",
       "      <td>0</td>\n",
       "      <td>0</td>\n",
       "      <td>0</td>\n",
       "    </tr>\n",
       "    <tr>\n",
       "      <th>4</th>\n",
       "      <td>0</td>\n",
       "      <td>3</td>\n",
       "      <td>male</td>\n",
       "      <td>35.0</td>\n",
       "      <td>0</td>\n",
       "      <td>0</td>\n",
       "      <td>8.0500</td>\n",
       "      <td>NaN</td>\n",
       "      <td>Southampton</td>\n",
       "      <td>1</td>\n",
       "      <td>0</td>\n",
       "      <td>1</td>\n",
       "      <td>1</td>\n",
       "      <td>0</td>\n",
       "      <td>0</td>\n",
       "      <td>0</td>\n",
       "      <td>0</td>\n",
       "      <td>0</td>\n",
       "      <td>0</td>\n",
       "    </tr>\n",
       "  </tbody>\n",
       "</table></div>"
      ],
      "text/plain": [
       "   survived  pclass     sex   age  sibsp  parch     fare deck  embark_town  \\\n",
       "0         0       3    male  22.0      1      0   7.2500  NaN  Southampton   \n",
       "1         1       1  female  38.0      1      0  71.2833    C    Cherbourg   \n",
       "2         1       3  female  26.0      0      0   7.9250  NaN  Southampton   \n",
       "3         1       1  female  35.0      1      0  53.1000    C  Southampton   \n",
       "4         0       3    male  35.0      0      0   8.0500  NaN  Southampton   \n",
       "\n",
       "   alone  embark_town_Queenstown  embark_town_Southampton  sex_male  deck_B  \\\n",
       "0      0                       0                        1         1       0   \n",
       "1      0                       0                        0         0       0   \n",
       "2      1                       0                        1         0       0   \n",
       "3      0                       0                        1         0       0   \n",
       "4      1                       0                        1         1       0   \n",
       "\n",
       "   deck_C  deck_D  deck_E  deck_F  deck_G  \n",
       "0       0       0       0       0       0  \n",
       "1       1       0       0       0       0  \n",
       "2       0       0       0       0       0  \n",
       "3       1       0       0       0       0  \n",
       "4       0       0       0       0       0  "
      ]
     },
     "execution_count": 3,
     "metadata": {},
     "output_type": "execute_result"
    }
   ],
   "source": [
    "df = acquire.get_titanic_data()\n",
    "df = prepare.prep_titanic(df)\n",
    "df.head()"
   ]
  },
  {
   "cell_type": "code",
   "execution_count": 4,
   "id": "005431cd",
   "metadata": {},
   "outputs": [
    {
     "data": {
      "text/html": [
       "<div><div id=5260f978-660b-4c87-beba-a45a5c7ff771 style=\"display:none; background-color:#9D6CFF; color:white; width:200px; height:30px; padding-left:5px; border-radius:4px; flex-direction:row; justify-content:space-around; align-items:center;\" onmouseover=\"this.style.backgroundColor='#BA9BF8'\" onmouseout=\"this.style.backgroundColor='#9D6CFF'\" onclick=\"window.commands?.execute('create-mitosheet-from-dataframe-output');\">See Full Dataframe in Mito</div> <script> if (window.commands?.hasCommand('create-mitosheet-from-dataframe-output')) document.getElementById('5260f978-660b-4c87-beba-a45a5c7ff771').style.display = 'flex' </script> <table border=\"1\" class=\"dataframe\">\n",
       "  <thead>\n",
       "    <tr style=\"text-align: right;\">\n",
       "      <th></th>\n",
       "      <th>survived</th>\n",
       "      <th>pclass</th>\n",
       "      <th>sex</th>\n",
       "      <th>age</th>\n",
       "      <th>sibsp</th>\n",
       "      <th>parch</th>\n",
       "      <th>fare</th>\n",
       "      <th>deck</th>\n",
       "      <th>embark_town</th>\n",
       "      <th>alone</th>\n",
       "      <th>embark_town_Queenstown</th>\n",
       "      <th>embark_town_Southampton</th>\n",
       "      <th>sex_male</th>\n",
       "      <th>deck_B</th>\n",
       "      <th>deck_C</th>\n",
       "      <th>deck_D</th>\n",
       "      <th>deck_E</th>\n",
       "      <th>deck_F</th>\n",
       "      <th>deck_G</th>\n",
       "    </tr>\n",
       "  </thead>\n",
       "  <tbody>\n",
       "    <tr>\n",
       "      <th>583</th>\n",
       "      <td>0</td>\n",
       "      <td>1</td>\n",
       "      <td>male</td>\n",
       "      <td>36.0</td>\n",
       "      <td>0</td>\n",
       "      <td>0</td>\n",
       "      <td>40.1250</td>\n",
       "      <td>A</td>\n",
       "      <td>Cherbourg</td>\n",
       "      <td>1</td>\n",
       "      <td>0</td>\n",
       "      <td>0</td>\n",
       "      <td>1</td>\n",
       "      <td>0</td>\n",
       "      <td>0</td>\n",
       "      <td>0</td>\n",
       "      <td>0</td>\n",
       "      <td>0</td>\n",
       "      <td>0</td>\n",
       "    </tr>\n",
       "    <tr>\n",
       "      <th>165</th>\n",
       "      <td>1</td>\n",
       "      <td>3</td>\n",
       "      <td>male</td>\n",
       "      <td>9.0</td>\n",
       "      <td>0</td>\n",
       "      <td>2</td>\n",
       "      <td>20.5250</td>\n",
       "      <td>NaN</td>\n",
       "      <td>Southampton</td>\n",
       "      <td>0</td>\n",
       "      <td>0</td>\n",
       "      <td>1</td>\n",
       "      <td>1</td>\n",
       "      <td>0</td>\n",
       "      <td>0</td>\n",
       "      <td>0</td>\n",
       "      <td>0</td>\n",
       "      <td>0</td>\n",
       "      <td>0</td>\n",
       "    </tr>\n",
       "    <tr>\n",
       "      <th>50</th>\n",
       "      <td>0</td>\n",
       "      <td>3</td>\n",
       "      <td>male</td>\n",
       "      <td>7.0</td>\n",
       "      <td>4</td>\n",
       "      <td>1</td>\n",
       "      <td>39.6875</td>\n",
       "      <td>NaN</td>\n",
       "      <td>Southampton</td>\n",
       "      <td>0</td>\n",
       "      <td>0</td>\n",
       "      <td>1</td>\n",
       "      <td>1</td>\n",
       "      <td>0</td>\n",
       "      <td>0</td>\n",
       "      <td>0</td>\n",
       "      <td>0</td>\n",
       "      <td>0</td>\n",
       "      <td>0</td>\n",
       "    </tr>\n",
       "    <tr>\n",
       "      <th>259</th>\n",
       "      <td>1</td>\n",
       "      <td>2</td>\n",
       "      <td>female</td>\n",
       "      <td>50.0</td>\n",
       "      <td>0</td>\n",
       "      <td>1</td>\n",
       "      <td>26.0000</td>\n",
       "      <td>NaN</td>\n",
       "      <td>Southampton</td>\n",
       "      <td>0</td>\n",
       "      <td>0</td>\n",
       "      <td>1</td>\n",
       "      <td>0</td>\n",
       "      <td>0</td>\n",
       "      <td>0</td>\n",
       "      <td>0</td>\n",
       "      <td>0</td>\n",
       "      <td>0</td>\n",
       "      <td>0</td>\n",
       "    </tr>\n",
       "    <tr>\n",
       "      <th>306</th>\n",
       "      <td>1</td>\n",
       "      <td>1</td>\n",
       "      <td>female</td>\n",
       "      <td>NaN</td>\n",
       "      <td>0</td>\n",
       "      <td>0</td>\n",
       "      <td>110.8833</td>\n",
       "      <td>NaN</td>\n",
       "      <td>Cherbourg</td>\n",
       "      <td>1</td>\n",
       "      <td>0</td>\n",
       "      <td>0</td>\n",
       "      <td>0</td>\n",
       "      <td>0</td>\n",
       "      <td>0</td>\n",
       "      <td>0</td>\n",
       "      <td>0</td>\n",
       "      <td>0</td>\n",
       "      <td>0</td>\n",
       "    </tr>\n",
       "  </tbody>\n",
       "</table></div>"
      ],
      "text/plain": [
       "     survived  pclass     sex   age  sibsp  parch      fare deck  embark_town  \\\n",
       "583         0       1    male  36.0      0      0   40.1250    A    Cherbourg   \n",
       "165         1       3    male   9.0      0      2   20.5250  NaN  Southampton   \n",
       "50          0       3    male   7.0      4      1   39.6875  NaN  Southampton   \n",
       "259         1       2  female  50.0      0      1   26.0000  NaN  Southampton   \n",
       "306         1       1  female   NaN      0      0  110.8833  NaN    Cherbourg   \n",
       "\n",
       "     alone  embark_town_Queenstown  embark_town_Southampton  sex_male  deck_B  \\\n",
       "583      1                       0                        0         1       0   \n",
       "165      0                       0                        1         1       0   \n",
       "50       0                       0                        1         1       0   \n",
       "259      0                       0                        1         0       0   \n",
       "306      1                       0                        0         0       0   \n",
       "\n",
       "     deck_C  deck_D  deck_E  deck_F  deck_G  \n",
       "583       0       0       0       0       0  \n",
       "165       0       0       0       0       0  \n",
       "50        0       0       0       0       0  \n",
       "259       0       0       0       0       0  \n",
       "306       0       0       0       0       0  "
      ]
     },
     "execution_count": 4,
     "metadata": {},
     "output_type": "execute_result"
    }
   ],
   "source": [
    "train, validate, test = split.train_validate_test_split(df, 'survived')\n",
    "train.head()"
   ]
  },
  {
   "cell_type": "markdown",
   "id": "91d2014e",
   "metadata": {},
   "source": [
    "## 1. What is your baseline prediction? What is your baseline accuracy? remember: your baseline prediction for a classification problem is predicting the most prevalant class in the training dataset (the mode). When you make those predictions, what is your accuracy? This is your baseline accuracy."
   ]
  },
  {
   "cell_type": "code",
   "execution_count": 5,
   "id": "27d5608b",
   "metadata": {},
   "outputs": [],
   "source": [
    "## the baseline prediction is the modal outcome:\n",
    "survival_odds = df.survived.mean()\n",
    "non_survival_odds = (1 - survival_odds)"
   ]
  },
  {
   "cell_type": "code",
   "execution_count": 6,
   "id": "680dfd37",
   "metadata": {},
   "outputs": [
    {
     "data": {
      "text/plain": [
       "0.3838383838383838"
      ]
     },
     "execution_count": 6,
     "metadata": {},
     "output_type": "execute_result"
    }
   ],
   "source": [
    "survival_odds"
   ]
  },
  {
   "cell_type": "code",
   "execution_count": 7,
   "id": "03c31942",
   "metadata": {},
   "outputs": [
    {
     "data": {
      "text/plain": [
       "0.6161616161616161"
      ]
     },
     "execution_count": 7,
     "metadata": {},
     "output_type": "execute_result"
    }
   ],
   "source": [
    "non_survival_odds"
   ]
  },
  {
   "cell_type": "code",
   "execution_count": 8,
   "id": "99a73fba",
   "metadata": {},
   "outputs": [
    {
     "name": "stdout",
     "output_type": "stream",
     "text": [
      "The baseline prediction is that a given passenger on the Titanic will not survive\n"
     ]
    }
   ],
   "source": [
    "if non_survival_odds > survival_odds:\n",
    "    print(\"\"\"The baseline prediction is that a given passenger on the Titanic will not survive\"\"\")\n",
    "else:\n",
    "    print(\"\"\"The baseline prediction is that a given passenger on the Titanic will not survive\"\"\")"
   ]
  },
  {
   "cell_type": "code",
   "execution_count": 9,
   "id": "dc9d2dab",
   "metadata": {},
   "outputs": [
    {
     "data": {
      "text/html": [
       "<div><div id=b0c3b758-afae-484e-b3f8-06d2361a5415 style=\"display:none; background-color:#9D6CFF; color:white; width:200px; height:30px; padding-left:5px; border-radius:4px; flex-direction:row; justify-content:space-around; align-items:center;\" onmouseover=\"this.style.backgroundColor='#BA9BF8'\" onmouseout=\"this.style.backgroundColor='#9D6CFF'\" onclick=\"window.commands?.execute('create-mitosheet-from-dataframe-output');\">See Full Dataframe in Mito</div> <script> if (window.commands?.hasCommand('create-mitosheet-from-dataframe-output')) document.getElementById('b0c3b758-afae-484e-b3f8-06d2361a5415').style.display = 'flex' </script> <table border=\"1\" class=\"dataframe\">\n",
       "  <thead>\n",
       "    <tr style=\"text-align: right;\">\n",
       "      <th></th>\n",
       "      <th>survived</th>\n",
       "    </tr>\n",
       "  </thead>\n",
       "  <tbody>\n",
       "    <tr>\n",
       "      <th>583</th>\n",
       "      <td>0</td>\n",
       "    </tr>\n",
       "    <tr>\n",
       "      <th>165</th>\n",
       "      <td>1</td>\n",
       "    </tr>\n",
       "    <tr>\n",
       "      <th>50</th>\n",
       "      <td>0</td>\n",
       "    </tr>\n",
       "    <tr>\n",
       "      <th>259</th>\n",
       "      <td>1</td>\n",
       "    </tr>\n",
       "    <tr>\n",
       "      <th>306</th>\n",
       "      <td>1</td>\n",
       "    </tr>\n",
       "    <tr>\n",
       "      <th>...</th>\n",
       "      <td>...</td>\n",
       "    </tr>\n",
       "    <tr>\n",
       "      <th>313</th>\n",
       "      <td>0</td>\n",
       "    </tr>\n",
       "    <tr>\n",
       "      <th>636</th>\n",
       "      <td>0</td>\n",
       "    </tr>\n",
       "    <tr>\n",
       "      <th>222</th>\n",
       "      <td>0</td>\n",
       "    </tr>\n",
       "    <tr>\n",
       "      <th>485</th>\n",
       "      <td>0</td>\n",
       "    </tr>\n",
       "    <tr>\n",
       "      <th>744</th>\n",
       "      <td>1</td>\n",
       "    </tr>\n",
       "  </tbody>\n",
       "</table></div>"
      ],
      "text/plain": [
       "     survived\n",
       "583         0\n",
       "165         1\n",
       "50          0\n",
       "259         1\n",
       "306         1\n",
       "..        ...\n",
       "313         0\n",
       "636         0\n",
       "222         0\n",
       "485         0\n",
       "744         1\n",
       "\n",
       "[498 rows x 1 columns]"
      ]
     },
     "execution_count": 9,
     "metadata": {},
     "output_type": "execute_result"
    }
   ],
   "source": [
    "train_baseline = pd.DataFrame(train.survived)\n",
    "train_baseline"
   ]
  },
  {
   "cell_type": "code",
   "execution_count": 10,
   "id": "6176fc26",
   "metadata": {},
   "outputs": [
    {
     "data": {
      "text/html": [
       "<div><div id=c60e1771-8683-4dc3-be01-30de70c33106 style=\"display:none; background-color:#9D6CFF; color:white; width:200px; height:30px; padding-left:5px; border-radius:4px; flex-direction:row; justify-content:space-around; align-items:center;\" onmouseover=\"this.style.backgroundColor='#BA9BF8'\" onmouseout=\"this.style.backgroundColor='#9D6CFF'\" onclick=\"window.commands?.execute('create-mitosheet-from-dataframe-output');\">See Full Dataframe in Mito</div> <script> if (window.commands?.hasCommand('create-mitosheet-from-dataframe-output')) document.getElementById('c60e1771-8683-4dc3-be01-30de70c33106').style.display = 'flex' </script> <table border=\"1\" class=\"dataframe\">\n",
       "  <thead>\n",
       "    <tr style=\"text-align: right;\">\n",
       "      <th></th>\n",
       "      <th>survived</th>\n",
       "      <th>baseline</th>\n",
       "    </tr>\n",
       "  </thead>\n",
       "  <tbody>\n",
       "    <tr>\n",
       "      <th>583</th>\n",
       "      <td>0</td>\n",
       "      <td>0</td>\n",
       "    </tr>\n",
       "    <tr>\n",
       "      <th>165</th>\n",
       "      <td>1</td>\n",
       "      <td>0</td>\n",
       "    </tr>\n",
       "    <tr>\n",
       "      <th>50</th>\n",
       "      <td>0</td>\n",
       "      <td>0</td>\n",
       "    </tr>\n",
       "    <tr>\n",
       "      <th>259</th>\n",
       "      <td>1</td>\n",
       "      <td>0</td>\n",
       "    </tr>\n",
       "    <tr>\n",
       "      <th>306</th>\n",
       "      <td>1</td>\n",
       "      <td>0</td>\n",
       "    </tr>\n",
       "  </tbody>\n",
       "</table></div>"
      ],
      "text/plain": [
       "     survived  baseline\n",
       "583         0         0\n",
       "165         1         0\n",
       "50          0         0\n",
       "259         1         0\n",
       "306         1         0"
      ]
     },
     "execution_count": 10,
     "metadata": {},
     "output_type": "execute_result"
    }
   ],
   "source": [
    "train_baseline['baseline'] = 0\n",
    "train_baseline.head()"
   ]
  },
  {
   "cell_type": "code",
   "execution_count": 11,
   "id": "b17a240f",
   "metadata": {},
   "outputs": [
    {
     "data": {
      "text/plain": [
       "0.6164658634538153"
      ]
     },
     "execution_count": 11,
     "metadata": {},
     "output_type": "execute_result"
    }
   ],
   "source": [
    "# model accuracy\n",
    "(train_baseline.survived == train_baseline.baseline).mean()"
   ]
  },
  {
   "cell_type": "markdown",
   "id": "d357f776",
   "metadata": {},
   "source": [
    "## 2. Fit the decision tree classifier to your training sample and transform (i.e. make predictions on the training sample)"
   ]
  },
  {
   "cell_type": "code",
   "execution_count": 12,
   "id": "22b7effc",
   "metadata": {},
   "outputs": [
    {
     "data": {
      "text/plain": [
       "survived                     0\n",
       "pclass                       0\n",
       "sex                          0\n",
       "age                         97\n",
       "sibsp                        0\n",
       "parch                        0\n",
       "fare                         0\n",
       "deck                       392\n",
       "embark_town                  1\n",
       "alone                        0\n",
       "embark_town_Queenstown       0\n",
       "embark_town_Southampton      0\n",
       "sex_male                     0\n",
       "deck_B                       0\n",
       "deck_C                       0\n",
       "deck_D                       0\n",
       "deck_E                       0\n",
       "deck_F                       0\n",
       "deck_G                       0\n",
       "dtype: int64"
      ]
     },
     "execution_count": 12,
     "metadata": {},
     "output_type": "execute_result"
    }
   ],
   "source": [
    "train.isna().sum()"
   ]
  },
  {
   "cell_type": "code",
   "execution_count": 13,
   "id": "de48cc96",
   "metadata": {},
   "outputs": [
    {
     "data": {
      "text/html": [
       "<div><div id=efb533b9-bb26-434f-b4dc-244d6efc89f3 style=\"display:none; background-color:#9D6CFF; color:white; width:200px; height:30px; padding-left:5px; border-radius:4px; flex-direction:row; justify-content:space-around; align-items:center;\" onmouseover=\"this.style.backgroundColor='#BA9BF8'\" onmouseout=\"this.style.backgroundColor='#9D6CFF'\" onclick=\"window.commands?.execute('create-mitosheet-from-dataframe-output');\">See Full Dataframe in Mito</div> <script> if (window.commands?.hasCommand('create-mitosheet-from-dataframe-output')) document.getElementById('efb533b9-bb26-434f-b4dc-244d6efc89f3').style.display = 'flex' </script> <table border=\"1\" class=\"dataframe\">\n",
       "  <thead>\n",
       "    <tr style=\"text-align: right;\">\n",
       "      <th></th>\n",
       "      <th>survived</th>\n",
       "      <th>pclass</th>\n",
       "      <th>age</th>\n",
       "      <th>sibsp</th>\n",
       "      <th>parch</th>\n",
       "      <th>fare</th>\n",
       "      <th>alone</th>\n",
       "      <th>embark_town_Queenstown</th>\n",
       "      <th>embark_town_Southampton</th>\n",
       "      <th>sex_male</th>\n",
       "      <th>deck_B</th>\n",
       "      <th>deck_C</th>\n",
       "      <th>deck_D</th>\n",
       "      <th>deck_E</th>\n",
       "      <th>deck_F</th>\n",
       "      <th>deck_G</th>\n",
       "    </tr>\n",
       "  </thead>\n",
       "  <tbody>\n",
       "    <tr>\n",
       "      <th>583</th>\n",
       "      <td>0</td>\n",
       "      <td>1</td>\n",
       "      <td>36.0</td>\n",
       "      <td>0</td>\n",
       "      <td>0</td>\n",
       "      <td>40.1250</td>\n",
       "      <td>1</td>\n",
       "      <td>0</td>\n",
       "      <td>0</td>\n",
       "      <td>1</td>\n",
       "      <td>0</td>\n",
       "      <td>0</td>\n",
       "      <td>0</td>\n",
       "      <td>0</td>\n",
       "      <td>0</td>\n",
       "      <td>0</td>\n",
       "    </tr>\n",
       "    <tr>\n",
       "      <th>165</th>\n",
       "      <td>1</td>\n",
       "      <td>3</td>\n",
       "      <td>9.0</td>\n",
       "      <td>0</td>\n",
       "      <td>2</td>\n",
       "      <td>20.5250</td>\n",
       "      <td>0</td>\n",
       "      <td>0</td>\n",
       "      <td>1</td>\n",
       "      <td>1</td>\n",
       "      <td>0</td>\n",
       "      <td>0</td>\n",
       "      <td>0</td>\n",
       "      <td>0</td>\n",
       "      <td>0</td>\n",
       "      <td>0</td>\n",
       "    </tr>\n",
       "    <tr>\n",
       "      <th>50</th>\n",
       "      <td>0</td>\n",
       "      <td>3</td>\n",
       "      <td>7.0</td>\n",
       "      <td>4</td>\n",
       "      <td>1</td>\n",
       "      <td>39.6875</td>\n",
       "      <td>0</td>\n",
       "      <td>0</td>\n",
       "      <td>1</td>\n",
       "      <td>1</td>\n",
       "      <td>0</td>\n",
       "      <td>0</td>\n",
       "      <td>0</td>\n",
       "      <td>0</td>\n",
       "      <td>0</td>\n",
       "      <td>0</td>\n",
       "    </tr>\n",
       "    <tr>\n",
       "      <th>259</th>\n",
       "      <td>1</td>\n",
       "      <td>2</td>\n",
       "      <td>50.0</td>\n",
       "      <td>0</td>\n",
       "      <td>1</td>\n",
       "      <td>26.0000</td>\n",
       "      <td>0</td>\n",
       "      <td>0</td>\n",
       "      <td>1</td>\n",
       "      <td>0</td>\n",
       "      <td>0</td>\n",
       "      <td>0</td>\n",
       "      <td>0</td>\n",
       "      <td>0</td>\n",
       "      <td>0</td>\n",
       "      <td>0</td>\n",
       "    </tr>\n",
       "    <tr>\n",
       "      <th>306</th>\n",
       "      <td>1</td>\n",
       "      <td>1</td>\n",
       "      <td>NaN</td>\n",
       "      <td>0</td>\n",
       "      <td>0</td>\n",
       "      <td>110.8833</td>\n",
       "      <td>1</td>\n",
       "      <td>0</td>\n",
       "      <td>0</td>\n",
       "      <td>0</td>\n",
       "      <td>0</td>\n",
       "      <td>0</td>\n",
       "      <td>0</td>\n",
       "      <td>0</td>\n",
       "      <td>0</td>\n",
       "      <td>0</td>\n",
       "    </tr>\n",
       "  </tbody>\n",
       "</table></div>"
      ],
      "text/plain": [
       "     survived  pclass   age  sibsp  parch      fare  alone  \\\n",
       "583         0       1  36.0      0      0   40.1250      1   \n",
       "165         1       3   9.0      0      2   20.5250      0   \n",
       "50          0       3   7.0      4      1   39.6875      0   \n",
       "259         1       2  50.0      0      1   26.0000      0   \n",
       "306         1       1   NaN      0      0  110.8833      1   \n",
       "\n",
       "     embark_town_Queenstown  embark_town_Southampton  sex_male  deck_B  \\\n",
       "583                       0                        0         1       0   \n",
       "165                       0                        1         1       0   \n",
       "50                        0                        1         1       0   \n",
       "259                       0                        1         0       0   \n",
       "306                       0                        0         0       0   \n",
       "\n",
       "     deck_C  deck_D  deck_E  deck_F  deck_G  \n",
       "583       0       0       0       0       0  \n",
       "165       0       0       0       0       0  \n",
       "50        0       0       0       0       0  \n",
       "259       0       0       0       0       0  \n",
       "306       0       0       0       0       0  "
      ]
     },
     "execution_count": 13,
     "metadata": {},
     "output_type": "execute_result"
    }
   ],
   "source": [
    "#time to drop the unencoded, non-numerical columns\n",
    "train = train.drop(columns = ['sex', 'deck', 'embark_town'])\n",
    "validate = validate.drop(columns = ['sex', 'deck', 'embark_town'])\n",
    "test = test.drop(columns = ['sex', 'deck', 'embark_town'])\n",
    "\n",
    "train.head()"
   ]
  },
  {
   "cell_type": "code",
   "execution_count": 19,
   "id": "2c9b4641",
   "metadata": {},
   "outputs": [],
   "source": [
    "imputer = SimpleImputer(strategy='median', missing_values=np.nan)"
   ]
  },
  {
   "cell_type": "code",
   "execution_count": 20,
   "id": "3fa2dca5",
   "metadata": {},
   "outputs": [],
   "source": [
    "imputer = imputer.fit(train[['age']])"
   ]
  },
  {
   "cell_type": "code",
   "execution_count": 22,
   "id": "b10b1a44",
   "metadata": {},
   "outputs": [],
   "source": [
    "train[['age']] = imputer.transform(train[['age']])"
   ]
  },
  {
   "cell_type": "code",
   "execution_count": 24,
   "id": "2488c76d",
   "metadata": {},
   "outputs": [],
   "source": [
    "#now impute age values to take care of nulls \n",
    "train[['age']] = imputer.transform(train[['age']])\n",
    "validate[['age']] = imputer.transform(validate[['age']])\n",
    "test[['age']] = imputer.transform(test[['age']])"
   ]
  },
  {
   "cell_type": "code",
   "execution_count": 25,
   "id": "7882e80c",
   "metadata": {},
   "outputs": [],
   "source": [
    "# Classification is supervied ML, so we seperate data and labels\n",
    "# first we need to split the datasets into x and y versions:\n",
    "# x version drops 'survived'\n",
    "# y version is only the survived column\n",
    "\n",
    "X_train = train.drop(columns = ['survived'])\n",
    "Y_train = train.survived\n",
    "\n",
    "X_validate = validate.drop(columns = ['survived'])\n",
    "Y_validate = validate.survived\n",
    "\n",
    "X_test = test.drop(columns = ['survived'])\n",
    "Y_test = test.survived"
   ]
  },
  {
   "cell_type": "code",
   "execution_count": 26,
   "id": "bb5bfb8f",
   "metadata": {},
   "outputs": [],
   "source": [
    "# now we fit the model to the training data\n",
    "clf = DecisionTreeClassifier(max_depth=4, random_state=123)"
   ]
  },
  {
   "cell_type": "code",
   "execution_count": 27,
   "id": "c09dc5a2",
   "metadata": {},
   "outputs": [],
   "source": [
    "clf = clf.fit(X_train, Y_train)"
   ]
  },
  {
   "cell_type": "code",
   "execution_count": 30,
   "id": "a9ec77cb",
   "metadata": {},
   "outputs": [
    {
     "data": {
      "text/plain": [
       "[Text(462.024, 489.24, 'sex_male <= 0.5\\ngini = 0.473\\nsamples = 498\\nvalue = [307, 191]\\nclass = 0'),\n",
       " Text(220.96800000000002, 380.52000000000004, 'pclass <= 2.5\\ngini = 0.365\\nsamples = 175\\nvalue = [42, 133]\\nclass = 1'),\n",
       " Text(80.352, 271.8, 'age <= 3.0\\ngini = 0.081\\nsamples = 94\\nvalue = [4, 90]\\nclass = 1'),\n",
       " Text(40.176, 163.08000000000004, 'gini = 0.0\\nsamples = 1\\nvalue = [1, 0]\\nclass = 0'),\n",
       " Text(120.528, 163.08000000000004, 'fare <= 28.856\\ngini = 0.062\\nsamples = 93\\nvalue = [3, 90]\\nclass = 1'),\n",
       " Text(80.352, 54.360000000000014, 'gini = 0.133\\nsamples = 42\\nvalue = [3, 39]\\nclass = 1'),\n",
       " Text(160.704, 54.360000000000014, 'gini = 0.0\\nsamples = 51\\nvalue = [0, 51]\\nclass = 1'),\n",
       " Text(361.584, 271.8, 'fare <= 23.912\\ngini = 0.498\\nsamples = 81\\nvalue = [38, 43]\\nclass = 1'),\n",
       " Text(281.232, 163.08000000000004, 'age <= 35.0\\ngini = 0.476\\nsamples = 69\\nvalue = [27, 42]\\nclass = 1'),\n",
       " Text(241.056, 54.360000000000014, 'gini = 0.455\\nsamples = 63\\nvalue = [22, 41]\\nclass = 1'),\n",
       " Text(321.408, 54.360000000000014, 'gini = 0.278\\nsamples = 6\\nvalue = [5, 1]\\nclass = 0'),\n",
       " Text(441.93600000000004, 163.08000000000004, 'parch <= 4.0\\ngini = 0.153\\nsamples = 12\\nvalue = [11, 1]\\nclass = 0'),\n",
       " Text(401.76, 54.360000000000014, 'gini = 0.0\\nsamples = 10\\nvalue = [10, 0]\\nclass = 0'),\n",
       " Text(482.112, 54.360000000000014, 'gini = 0.5\\nsamples = 2\\nvalue = [1, 1]\\nclass = 0'),\n",
       " Text(703.08, 380.52000000000004, 'fare <= 18.275\\ngini = 0.295\\nsamples = 323\\nvalue = [265, 58]\\nclass = 0'),\n",
       " Text(562.464, 271.8, 'age <= 7.835\\ngini = 0.184\\nsamples = 205\\nvalue = [184, 21]\\nclass = 0'),\n",
       " Text(522.288, 163.08000000000004, 'gini = 0.0\\nsamples = 2\\nvalue = [0, 2]\\nclass = 1'),\n",
       " Text(602.64, 163.08000000000004, 'deck_D <= 0.5\\ngini = 0.17\\nsamples = 203\\nvalue = [184, 19]\\nclass = 0'),\n",
       " Text(562.464, 54.360000000000014, 'gini = 0.162\\nsamples = 202\\nvalue = [184, 18]\\nclass = 0'),\n",
       " Text(642.816, 54.360000000000014, 'gini = 0.0\\nsamples = 1\\nvalue = [0, 1]\\nclass = 1'),\n",
       " Text(843.696, 271.8, 'deck_E <= 0.5\\ngini = 0.43\\nsamples = 118\\nvalue = [81, 37]\\nclass = 0'),\n",
       " Text(763.344, 163.08000000000004, 'age <= 3.5\\ngini = 0.405\\nsamples = 110\\nvalue = [79, 31]\\nclass = 0'),\n",
       " Text(723.168, 54.360000000000014, 'gini = 0.48\\nsamples = 10\\nvalue = [4, 6]\\nclass = 1'),\n",
       " Text(803.52, 54.360000000000014, 'gini = 0.375\\nsamples = 100\\nvalue = [75, 25]\\nclass = 0'),\n",
       " Text(924.048, 163.08000000000004, 'age <= 44.0\\ngini = 0.375\\nsamples = 8\\nvalue = [2, 6]\\nclass = 1'),\n",
       " Text(883.8720000000001, 54.360000000000014, 'gini = 0.0\\nsamples = 5\\nvalue = [0, 5]\\nclass = 1'),\n",
       " Text(964.224, 54.360000000000014, 'gini = 0.444\\nsamples = 3\\nvalue = [2, 1]\\nclass = 0')]"
      ]
     },
     "execution_count": 30,
     "metadata": {},
     "output_type": "execute_result"
    },
    {
     "data": {
      "image/png": "[encoded data removed]",
      "text/plain": [
       "<Figure size 1296x720 with 1 Axes>"
      ]
     },
     "metadata": {
      "needs_background": "light"
     },
     "output_type": "display_data"
    }
   ],
   "source": [
    "plt.figure(figsize=(18, 10))\n",
    "plot_tree(clf, feature_names=X_train.columns, class_names=clf.classes_.astype(str), rounded=True)\n"
   ]
  },
  {
   "cell_type": "code",
   "execution_count": 39,
   "id": "ffdcaf8b",
   "metadata": {},
   "outputs": [
    {
     "data": {
      "text/plain": [
       "0    324\n",
       "1    174\n",
       "dtype: int64"
      ]
     },
     "execution_count": 39,
     "metadata": {},
     "output_type": "execute_result"
    }
   ],
   "source": [
    "#make predictions:\n",
    "survived_prediction = pd.DataFrame(clf.predict(X_train))\n",
    "survived_prediction.value_counts()"
   ]
  },
  {
   "cell_type": "code",
   "execution_count": 40,
   "id": "3a255a8a",
   "metadata": {},
   "outputs": [
    {
     "data": {
      "text/html": [
       "<div><div id=fb460fcb-c723-458e-b057-7683195cd037 style=\"display:none; background-color:#9D6CFF; color:white; width:200px; height:30px; padding-left:5px; border-radius:4px; flex-direction:row; justify-content:space-around; align-items:center;\" onmouseover=\"this.style.backgroundColor='#BA9BF8'\" onmouseout=\"this.style.backgroundColor='#9D6CFF'\" onclick=\"window.commands?.execute('create-mitosheet-from-dataframe-output');\">See Full Dataframe in Mito</div> <script> if (window.commands?.hasCommand('create-mitosheet-from-dataframe-output')) document.getElementById('fb460fcb-c723-458e-b057-7683195cd037').style.display = 'flex' </script> <table border=\"1\" class=\"dataframe\">\n",
       "  <thead>\n",
       "    <tr style=\"text-align: right;\">\n",
       "      <th></th>\n",
       "      <th>0</th>\n",
       "      <th>1</th>\n",
       "    </tr>\n",
       "  </thead>\n",
       "  <tbody>\n",
       "    <tr>\n",
       "      <th>0</th>\n",
       "      <td>0.750000</td>\n",
       "      <td>0.250000</td>\n",
       "    </tr>\n",
       "    <tr>\n",
       "      <th>1</th>\n",
       "      <td>0.750000</td>\n",
       "      <td>0.250000</td>\n",
       "    </tr>\n",
       "    <tr>\n",
       "      <th>2</th>\n",
       "      <td>0.750000</td>\n",
       "      <td>0.250000</td>\n",
       "    </tr>\n",
       "    <tr>\n",
       "      <th>3</th>\n",
       "      <td>0.071429</td>\n",
       "      <td>0.928571</td>\n",
       "    </tr>\n",
       "    <tr>\n",
       "      <th>4</th>\n",
       "      <td>0.000000</td>\n",
       "      <td>1.000000</td>\n",
       "    </tr>\n",
       "    <tr>\n",
       "      <th>...</th>\n",
       "      <td>...</td>\n",
       "      <td>...</td>\n",
       "    </tr>\n",
       "    <tr>\n",
       "      <th>493</th>\n",
       "      <td>0.910891</td>\n",
       "      <td>0.089109</td>\n",
       "    </tr>\n",
       "    <tr>\n",
       "      <th>494</th>\n",
       "      <td>0.910891</td>\n",
       "      <td>0.089109</td>\n",
       "    </tr>\n",
       "    <tr>\n",
       "      <th>495</th>\n",
       "      <td>0.910891</td>\n",
       "      <td>0.089109</td>\n",
       "    </tr>\n",
       "    <tr>\n",
       "      <th>496</th>\n",
       "      <td>1.000000</td>\n",
       "      <td>0.000000</td>\n",
       "    </tr>\n",
       "    <tr>\n",
       "      <th>497</th>\n",
       "      <td>0.910891</td>\n",
       "      <td>0.089109</td>\n",
       "    </tr>\n",
       "  </tbody>\n",
       "</table></div>"
      ],
      "text/plain": [
       "            0         1\n",
       "0    0.750000  0.250000\n",
       "1    0.750000  0.250000\n",
       "2    0.750000  0.250000\n",
       "3    0.071429  0.928571\n",
       "4    0.000000  1.000000\n",
       "..        ...       ...\n",
       "493  0.910891  0.089109\n",
       "494  0.910891  0.089109\n",
       "495  0.910891  0.089109\n",
       "496  1.000000  0.000000\n",
       "497  0.910891  0.089109\n",
       "\n",
       "[498 rows x 2 columns]"
      ]
     },
     "execution_count": 40,
     "metadata": {},
     "output_type": "execute_result"
    }
   ],
   "source": [
    "# Predict probability\n",
    "survival_prediction_proba = pd.DataFrame(clf.predict_proba(X_train))\n",
    "survival_prediction_proba"
   ]
  },
  {
   "cell_type": "markdown",
   "id": "6a656578",
   "metadata": {},
   "source": [
    "## 3. Evaluate your in-sample results using the model score, confusion matrix, and classification report."
   ]
  },
  {
   "cell_type": "code",
   "execution_count": 47,
   "id": "3056b52f",
   "metadata": {},
   "outputs": [
    {
     "name": "stdout",
     "output_type": "stream",
     "text": [
      "Accuracy of Decision Tree classifer on training set: 0.8493975903614458\n"
     ]
    }
   ],
   "source": [
    "# compute accuracy\n",
    "print(f\"Accuracy of Decision Tree classifer on training set: \"\\\n",
    "        f\"{clf.score(X_train, Y_train)}\")"
   ]
  },
  {
   "cell_type": "code",
   "execution_count": 48,
   "id": "216c9dc8",
   "metadata": {},
   "outputs": [
    {
     "data": {
      "text/plain": [
       "array([[278,  29],\n",
       "       [ 46, 145]])"
      ]
     },
     "execution_count": 48,
     "metadata": {},
     "output_type": "execute_result"
    }
   ],
   "source": [
    "# confusion matrix\n",
    "confusion_matrix(Y_train, survived_prediction)"
   ]
  },
  {
   "cell_type": "code",
   "execution_count": 49,
   "id": "f4ff1a54",
   "metadata": {},
   "outputs": [
    {
     "data": {
      "text/plain": [
       "0    307\n",
       "1    191\n",
       "Name: survived, dtype: int64"
      ]
     },
     "execution_count": 49,
     "metadata": {},
     "output_type": "execute_result"
    }
   ],
   "source": [
    "Y_train.value_counts()"
   ]
  },
  {
   "cell_type": "code",
   "execution_count": 51,
   "id": "effe1f89",
   "metadata": {},
   "outputs": [
    {
     "data": {
      "text/html": [
       "<div><div id=9fe12151-cfea-413c-8174-d52c91b31fa7 style=\"display:none; background-color:#9D6CFF; color:white; width:200px; height:30px; padding-left:5px; border-radius:4px; flex-direction:row; justify-content:space-around; align-items:center;\" onmouseover=\"this.style.backgroundColor='#BA9BF8'\" onmouseout=\"this.style.backgroundColor='#9D6CFF'\" onclick=\"window.commands?.execute('create-mitosheet-from-dataframe-output');\">See Full Dataframe in Mito</div> <script> if (window.commands?.hasCommand('create-mitosheet-from-dataframe-output')) document.getElementById('9fe12151-cfea-413c-8174-d52c91b31fa7').style.display = 'flex' </script> <table border=\"1\" class=\"dataframe\">\n",
       "  <thead>\n",
       "    <tr style=\"text-align: right;\">\n",
       "      <th></th>\n",
       "      <th>0</th>\n",
       "      <th>1</th>\n",
       "    </tr>\n",
       "  </thead>\n",
       "  <tbody>\n",
       "    <tr>\n",
       "      <th>0</th>\n",
       "      <td>278</td>\n",
       "      <td>29</td>\n",
       "    </tr>\n",
       "    <tr>\n",
       "      <th>1</th>\n",
       "      <td>46</td>\n",
       "      <td>145</td>\n",
       "    </tr>\n",
       "  </tbody>\n",
       "</table></div>"
      ],
      "text/plain": [
       "     0    1\n",
       "0  278   29\n",
       "1   46  145"
      ]
     },
     "execution_count": 51,
     "metadata": {},
     "output_type": "execute_result"
    }
   ],
   "source": [
    "labels = sorted(Y_train.unique())\n",
    "\n",
    "pd.DataFrame(confusion_matrix(Y_train, survived_prediction), index=labels, columns=labels)"
   ]
  },
  {
   "cell_type": "code",
   "execution_count": 52,
   "id": "e1f14f13",
   "metadata": {},
   "outputs": [
    {
     "name": "stdout",
     "output_type": "stream",
     "text": [
      "              precision    recall  f1-score   support\n",
      "\n",
      "           0       0.86      0.91      0.88       307\n",
      "           1       0.83      0.76      0.79       191\n",
      "\n",
      "    accuracy                           0.85       498\n",
      "   macro avg       0.85      0.83      0.84       498\n",
      "weighted avg       0.85      0.85      0.85       498\n",
      "\n"
     ]
    }
   ],
   "source": [
    "#classification report\n",
    "print(classification_report(Y_train, survived_prediction))"
   ]
  },
  {
   "cell_type": "markdown",
   "id": "100594c3",
   "metadata": {},
   "source": [
    "## 4. Compute: Accuracy, true positive rate, false positive rate, true negative rate, false negative rate, precision, recall, f1-score, and support."
   ]
  },
  {
   "cell_type": "code",
   "execution_count": 46,
   "id": "0ea2b09b",
   "metadata": {},
   "outputs": [
    {
     "name": "stdout",
     "output_type": "stream",
     "text": [
      "Accuracy of Decision Tree classifer on training set: 0.8493975903614458\n"
     ]
    }
   ],
   "source": [
    "# compute accuracy\n",
    "print(f\"Accuracy of Decision Tree classifer on training set: \"\\\n",
    "        f\"{clf.score(X_train, Y_train)}\")"
   ]
  },
  {
   "cell_type": "code",
   "execution_count": 53,
   "id": "170d87c7",
   "metadata": {},
   "outputs": [],
   "source": [
    "# true positive rate is the same as recall\n",
    "# Recall (True pos/ true pos + False neg) = 0.91 for deceased passengers, \n",
    "# 0.76 for survivors\n",
    "\n",
    "# Precision (True pos/true pos + False pos) = 0.86 for deceased, \n",
    "# 0.83 for survivors"
   ]
  },
  {
   "cell_type": "markdown",
   "id": "3142e9f9",
   "metadata": {},
   "source": [
    "## 5. Run through steps 2-4 using a different max_depth value."
   ]
  },
  {
   "cell_type": "code",
   "execution_count": 54,
   "id": "11e7957e",
   "metadata": {},
   "outputs": [],
   "source": [
    "# now we fit the model to the training data\n",
    "clf = DecisionTreeClassifier(max_depth=5, random_state=123)\n",
    "\n",
    "clf = clf.fit(X_train, Y_train)"
   ]
  },
  {
   "cell_type": "code",
   "execution_count": 55,
   "id": "0efa76ff",
   "metadata": {},
   "outputs": [
    {
     "data": {
      "text/plain": [
       "[Text(447.271875, 498.3, 'sex_male <= 0.5\\ngini = 0.473\\nsamples = 498\\nvalue = [307, 191]\\nclass = 0'),\n",
       " Text(196.17187500000003, 407.70000000000005, 'pclass <= 2.5\\ngini = 0.365\\nsamples = 175\\nvalue = [42, 133]\\nclass = 1'),\n",
       " Text(62.775000000000006, 317.1, 'age <= 3.0\\ngini = 0.081\\nsamples = 94\\nvalue = [4, 90]\\nclass = 1'),\n",
       " Text(31.387500000000003, 226.5, 'gini = 0.0\\nsamples = 1\\nvalue = [1, 0]\\nclass = 0'),\n",
       " Text(94.16250000000001, 226.5, 'fare <= 28.856\\ngini = 0.062\\nsamples = 93\\nvalue = [3, 90]\\nclass = 1'),\n",
       " Text(62.775000000000006, 135.89999999999998, 'fare <= 28.231\\ngini = 0.133\\nsamples = 42\\nvalue = [3, 39]\\nclass = 1'),\n",
       " Text(31.387500000000003, 45.299999999999955, 'gini = 0.093\\nsamples = 41\\nvalue = [2, 39]\\nclass = 1'),\n",
       " Text(94.16250000000001, 45.299999999999955, 'gini = 0.0\\nsamples = 1\\nvalue = [1, 0]\\nclass = 0'),\n",
       " Text(125.55000000000001, 135.89999999999998, 'gini = 0.0\\nsamples = 51\\nvalue = [0, 51]\\nclass = 1'),\n",
       " Text(329.56875, 317.1, 'fare <= 23.912\\ngini = 0.498\\nsamples = 81\\nvalue = [38, 43]\\nclass = 1'),\n",
       " Text(251.10000000000002, 226.5, 'age <= 35.0\\ngini = 0.476\\nsamples = 69\\nvalue = [27, 42]\\nclass = 1'),\n",
       " Text(188.32500000000002, 135.89999999999998, 'embark_town_Queenstown <= 0.5\\ngini = 0.455\\nsamples = 63\\nvalue = [22, 41]\\nclass = 1'),\n",
       " Text(156.9375, 45.299999999999955, 'gini = 0.487\\nsamples = 43\\nvalue = [18, 25]\\nclass = 1'),\n",
       " Text(219.71250000000003, 45.299999999999955, 'gini = 0.32\\nsamples = 20\\nvalue = [4, 16]\\nclass = 1'),\n",
       " Text(313.875, 135.89999999999998, 'age <= 55.0\\ngini = 0.278\\nsamples = 6\\nvalue = [5, 1]\\nclass = 0'),\n",
       " Text(282.4875, 45.299999999999955, 'gini = 0.0\\nsamples = 5\\nvalue = [5, 0]\\nclass = 0'),\n",
       " Text(345.26250000000005, 45.299999999999955, 'gini = 0.0\\nsamples = 1\\nvalue = [0, 1]\\nclass = 1'),\n",
       " Text(408.0375, 226.5, 'parch <= 4.0\\ngini = 0.153\\nsamples = 12\\nvalue = [11, 1]\\nclass = 0'),\n",
       " Text(376.65000000000003, 135.89999999999998, 'gini = 0.0\\nsamples = 10\\nvalue = [10, 0]\\nclass = 0'),\n",
       " Text(439.42500000000007, 135.89999999999998, 'fare <= 35.538\\ngini = 0.5\\nsamples = 2\\nvalue = [1, 1]\\nclass = 0'),\n",
       " Text(408.0375, 45.299999999999955, 'gini = 0.0\\nsamples = 1\\nvalue = [0, 1]\\nclass = 1'),\n",
       " Text(470.81250000000006, 45.299999999999955, 'gini = 0.0\\nsamples = 1\\nvalue = [1, 0]\\nclass = 0'),\n",
       " Text(698.371875, 407.70000000000005, 'fare <= 18.275\\ngini = 0.295\\nsamples = 323\\nvalue = [265, 58]\\nclass = 0'),\n",
       " Text(564.975, 317.1, 'age <= 7.835\\ngini = 0.184\\nsamples = 205\\nvalue = [184, 21]\\nclass = 0'),\n",
       " Text(533.5875000000001, 226.5, 'gini = 0.0\\nsamples = 2\\nvalue = [0, 2]\\nclass = 1'),\n",
       " Text(596.3625000000001, 226.5, 'deck_D <= 0.5\\ngini = 0.17\\nsamples = 203\\nvalue = [184, 19]\\nclass = 0'),\n",
       " Text(564.975, 135.89999999999998, 'fare <= 13.25\\ngini = 0.162\\nsamples = 202\\nvalue = [184, 18]\\nclass = 0'),\n",
       " Text(533.5875000000001, 45.299999999999955, 'gini = 0.175\\nsamples = 186\\nvalue = [168, 18]\\nclass = 0'),\n",
       " Text(596.3625000000001, 45.299999999999955, 'gini = 0.0\\nsamples = 16\\nvalue = [16, 0]\\nclass = 0'),\n",
       " Text(627.75, 135.89999999999998, 'gini = 0.0\\nsamples = 1\\nvalue = [0, 1]\\nclass = 1'),\n",
       " Text(831.7687500000001, 317.1, 'deck_E <= 0.5\\ngini = 0.43\\nsamples = 118\\nvalue = [81, 37]\\nclass = 0'),\n",
       " Text(753.3000000000001, 226.5, 'age <= 3.5\\ngini = 0.405\\nsamples = 110\\nvalue = [79, 31]\\nclass = 0'),\n",
       " Text(690.5250000000001, 135.89999999999998, 'sibsp <= 2.5\\ngini = 0.48\\nsamples = 10\\nvalue = [4, 6]\\nclass = 1'),\n",
       " Text(659.1375, 45.299999999999955, 'gini = 0.0\\nsamples = 5\\nvalue = [0, 5]\\nclass = 1'),\n",
       " Text(721.9125, 45.299999999999955, 'gini = 0.32\\nsamples = 5\\nvalue = [4, 1]\\nclass = 0'),\n",
       " Text(816.075, 135.89999999999998, 'pclass <= 1.5\\ngini = 0.375\\nsamples = 100\\nvalue = [75, 25]\\nclass = 0'),\n",
       " Text(784.6875000000001, 45.299999999999955, 'gini = 0.437\\nsamples = 59\\nvalue = [40, 19]\\nclass = 0'),\n",
       " Text(847.4625000000001, 45.299999999999955, 'gini = 0.25\\nsamples = 41\\nvalue = [35, 6]\\nclass = 0'),\n",
       " Text(910.2375000000001, 226.5, 'age <= 44.0\\ngini = 0.375\\nsamples = 8\\nvalue = [2, 6]\\nclass = 1'),\n",
       " Text(878.8500000000001, 135.89999999999998, 'gini = 0.0\\nsamples = 5\\nvalue = [0, 5]\\nclass = 1'),\n",
       " Text(941.6250000000001, 135.89999999999998, 'alone <= 0.5\\ngini = 0.444\\nsamples = 3\\nvalue = [2, 1]\\nclass = 0'),\n",
       " Text(910.2375000000001, 45.299999999999955, 'gini = 0.0\\nsamples = 1\\nvalue = [1, 0]\\nclass = 0'),\n",
       " Text(973.0125, 45.299999999999955, 'gini = 0.5\\nsamples = 2\\nvalue = [1, 1]\\nclass = 0')]"
      ]
     },
     "execution_count": 55,
     "metadata": {},
     "output_type": "execute_result"
    },
    {
     "data": {
      "image/png": "[encoded data removed]",
      "text/plain": [
       "<Figure size 1296x720 with 1 Axes>"
      ]
     },
     "metadata": {
      "needs_background": "light"
     },
     "output_type": "display_data"
    }
   ],
   "source": [
    "plt.figure(figsize=(18, 10))\n",
    "plot_tree(clf, feature_names=X_train.columns, class_names=clf.classes_.astype(str), rounded=True)"
   ]
  },
  {
   "cell_type": "code",
   "execution_count": 56,
   "id": "3e387fb3",
   "metadata": {},
   "outputs": [
    {
     "data": {
      "text/plain": [
       "0    328\n",
       "1    170\n",
       "dtype: int64"
      ]
     },
     "execution_count": 56,
     "metadata": {},
     "output_type": "execute_result"
    }
   ],
   "source": [
    "#make predictions:\n",
    "survived_prediction = pd.DataFrame(clf.predict(X_train))\n",
    "survived_prediction.value_counts()"
   ]
  },
  {
   "cell_type": "code",
   "execution_count": 57,
   "id": "1ed6adae",
   "metadata": {},
   "outputs": [
    {
     "data": {
      "text/html": [
       "<div><div id=53dd08eb-b34b-4c08-85f3-3d416dd9e2b9 style=\"display:none; background-color:#9D6CFF; color:white; width:200px; height:30px; padding-left:5px; border-radius:4px; flex-direction:row; justify-content:space-around; align-items:center;\" onmouseover=\"this.style.backgroundColor='#BA9BF8'\" onmouseout=\"this.style.backgroundColor='#9D6CFF'\" onclick=\"window.commands?.execute('create-mitosheet-from-dataframe-output');\">See Full Dataframe in Mito</div> <script> if (window.commands?.hasCommand('create-mitosheet-from-dataframe-output')) document.getElementById('53dd08eb-b34b-4c08-85f3-3d416dd9e2b9').style.display = 'flex' </script> <table border=\"1\" class=\"dataframe\">\n",
       "  <thead>\n",
       "    <tr style=\"text-align: right;\">\n",
       "      <th></th>\n",
       "      <th>0</th>\n",
       "      <th>1</th>\n",
       "    </tr>\n",
       "  </thead>\n",
       "  <tbody>\n",
       "    <tr>\n",
       "      <th>0</th>\n",
       "      <td>0.677966</td>\n",
       "      <td>0.322034</td>\n",
       "    </tr>\n",
       "    <tr>\n",
       "      <th>1</th>\n",
       "      <td>0.853659</td>\n",
       "      <td>0.146341</td>\n",
       "    </tr>\n",
       "    <tr>\n",
       "      <th>2</th>\n",
       "      <td>0.853659</td>\n",
       "      <td>0.146341</td>\n",
       "    </tr>\n",
       "    <tr>\n",
       "      <th>3</th>\n",
       "      <td>0.048780</td>\n",
       "      <td>0.951220</td>\n",
       "    </tr>\n",
       "    <tr>\n",
       "      <th>4</th>\n",
       "      <td>0.000000</td>\n",
       "      <td>1.000000</td>\n",
       "    </tr>\n",
       "    <tr>\n",
       "      <th>...</th>\n",
       "      <td>...</td>\n",
       "      <td>...</td>\n",
       "    </tr>\n",
       "    <tr>\n",
       "      <th>493</th>\n",
       "      <td>0.903226</td>\n",
       "      <td>0.096774</td>\n",
       "    </tr>\n",
       "    <tr>\n",
       "      <th>494</th>\n",
       "      <td>0.903226</td>\n",
       "      <td>0.096774</td>\n",
       "    </tr>\n",
       "    <tr>\n",
       "      <th>495</th>\n",
       "      <td>0.903226</td>\n",
       "      <td>0.096774</td>\n",
       "    </tr>\n",
       "    <tr>\n",
       "      <th>496</th>\n",
       "      <td>1.000000</td>\n",
       "      <td>0.000000</td>\n",
       "    </tr>\n",
       "    <tr>\n",
       "      <th>497</th>\n",
       "      <td>0.903226</td>\n",
       "      <td>0.096774</td>\n",
       "    </tr>\n",
       "  </tbody>\n",
       "</table></div>"
      ],
      "text/plain": [
       "            0         1\n",
       "0    0.677966  0.322034\n",
       "1    0.853659  0.146341\n",
       "2    0.853659  0.146341\n",
       "3    0.048780  0.951220\n",
       "4    0.000000  1.000000\n",
       "..        ...       ...\n",
       "493  0.903226  0.096774\n",
       "494  0.903226  0.096774\n",
       "495  0.903226  0.096774\n",
       "496  1.000000  0.000000\n",
       "497  0.903226  0.096774\n",
       "\n",
       "[498 rows x 2 columns]"
      ]
     },
     "execution_count": 57,
     "metadata": {},
     "output_type": "execute_result"
    }
   ],
   "source": [
    "# Predict probability\n",
    "survival_prediction_proba = pd.DataFrame(clf.predict_proba(X_train))\n",
    "survival_prediction_proba"
   ]
  },
  {
   "cell_type": "code",
   "execution_count": 58,
   "id": "9190865a",
   "metadata": {},
   "outputs": [
    {
     "name": "stdout",
     "output_type": "stream",
     "text": [
      "Accuracy of Decision Tree classifer on training set: 0.8614457831325302\n"
     ]
    }
   ],
   "source": [
    "# compute accuracy\n",
    "print(f\"Accuracy of Decision Tree classifer on training set: \"\\\n",
    "        f\"{clf.score(X_train, Y_train)}\")"
   ]
  },
  {
   "cell_type": "code",
   "execution_count": 59,
   "id": "aef33a40",
   "metadata": {},
   "outputs": [
    {
     "data": {
      "text/plain": [
       "array([[283,  24],\n",
       "       [ 45, 146]])"
      ]
     },
     "execution_count": 59,
     "metadata": {},
     "output_type": "execute_result"
    }
   ],
   "source": [
    "# confusion matrix\n",
    "confusion_matrix(Y_train, survived_prediction)"
   ]
  },
  {
   "cell_type": "code",
   "execution_count": 60,
   "id": "07a1ccfc",
   "metadata": {},
   "outputs": [
    {
     "data": {
      "text/plain": [
       "0    307\n",
       "1    191\n",
       "Name: survived, dtype: int64"
      ]
     },
     "execution_count": 60,
     "metadata": {},
     "output_type": "execute_result"
    }
   ],
   "source": [
    "Y_train.value_counts()"
   ]
  },
  {
   "cell_type": "code",
   "execution_count": 61,
   "id": "5cfeeaae",
   "metadata": {},
   "outputs": [
    {
     "data": {
      "text/html": [
       "<div><div id=f30e1a77-8a0c-4b6e-b12f-de6d606a8195 style=\"display:none; background-color:#9D6CFF; color:white; width:200px; height:30px; padding-left:5px; border-radius:4px; flex-direction:row; justify-content:space-around; align-items:center;\" onmouseover=\"this.style.backgroundColor='#BA9BF8'\" onmouseout=\"this.style.backgroundColor='#9D6CFF'\" onclick=\"window.commands?.execute('create-mitosheet-from-dataframe-output');\">See Full Dataframe in Mito</div> <script> if (window.commands?.hasCommand('create-mitosheet-from-dataframe-output')) document.getElementById('f30e1a77-8a0c-4b6e-b12f-de6d606a8195').style.display = 'flex' </script> <table border=\"1\" class=\"dataframe\">\n",
       "  <thead>\n",
       "    <tr style=\"text-align: right;\">\n",
       "      <th></th>\n",
       "      <th>0</th>\n",
       "      <th>1</th>\n",
       "    </tr>\n",
       "  </thead>\n",
       "  <tbody>\n",
       "    <tr>\n",
       "      <th>0</th>\n",
       "      <td>283</td>\n",
       "      <td>24</td>\n",
       "    </tr>\n",
       "    <tr>\n",
       "      <th>1</th>\n",
       "      <td>45</td>\n",
       "      <td>146</td>\n",
       "    </tr>\n",
       "  </tbody>\n",
       "</table></div>"
      ],
      "text/plain": [
       "     0    1\n",
       "0  283   24\n",
       "1   45  146"
      ]
     },
     "execution_count": 61,
     "metadata": {},
     "output_type": "execute_result"
    }
   ],
   "source": [
    "labels = sorted(Y_train.unique())\n",
    "\n",
    "pd.DataFrame(confusion_matrix(Y_train, survived_prediction), index=labels, columns=labels)"
   ]
  },
  {
   "cell_type": "code",
   "execution_count": 62,
   "id": "9d9a85c2",
   "metadata": {},
   "outputs": [
    {
     "name": "stdout",
     "output_type": "stream",
     "text": [
      "              precision    recall  f1-score   support\n",
      "\n",
      "           0       0.86      0.92      0.89       307\n",
      "           1       0.86      0.76      0.81       191\n",
      "\n",
      "    accuracy                           0.86       498\n",
      "   macro avg       0.86      0.84      0.85       498\n",
      "weighted avg       0.86      0.86      0.86       498\n",
      "\n"
     ]
    }
   ],
   "source": [
    "#classification report\n",
    "print(classification_report(Y_train, survived_prediction))"
   ]
  },
  {
   "cell_type": "markdown",
   "id": "4f5aee32",
   "metadata": {},
   "source": [
    "## 6. Which model performs better on your in-sample data?\n",
    "\n",
    "### Scores in sample all improve with additional max_depth (5 vs 4)."
   ]
  },
  {
   "cell_type": "markdown",
   "id": "424d77b8",
   "metadata": {},
   "source": [
    "## 7. Which model performs best on your out-of-sample data, the validate set?"
   ]
  },
  {
   "cell_type": "markdown",
   "id": "136a10f6",
   "metadata": {},
   "source": [
    "## A. MAX DEPTH level 5"
   ]
  },
  {
   "cell_type": "code",
   "execution_count": 63,
   "id": "6cd3d1c3",
   "metadata": {},
   "outputs": [],
   "source": [
    "# MAX DEPTH: 5\n",
    "# now we fit the model to the validate data\n",
    "clf = DecisionTreeClassifier(max_depth=5, random_state=123)\n",
    "\n",
    "clf = clf.fit(X_validate, Y_validate)"
   ]
  },
  {
   "cell_type": "code",
   "execution_count": 64,
   "id": "cf8930d3",
   "metadata": {},
   "outputs": [
    {
     "data": {
      "text/plain": [
       "[Text(467.5655172413793, 498.3, 'sex_male <= 0.5\\ngini = 0.473\\nsamples = 214\\nvalue = [132, 82]\\nclass = 0'),\n",
       " Text(233.78275862068966, 407.70000000000005, 'pclass <= 2.5\\ngini = 0.419\\nsamples = 77\\nvalue = [23, 54]\\nclass = 1'),\n",
       " Text(138.53793103448277, 317.1, 'age <= 55.0\\ngini = 0.184\\nsamples = 39\\nvalue = [4, 35]\\nclass = 1'),\n",
       " Text(103.90344827586208, 226.5, 'fare <= 28.5\\ngini = 0.145\\nsamples = 38\\nvalue = [3, 35]\\nclass = 1'),\n",
       " Text(69.26896551724138, 135.89999999999998, 'age <= 37.0\\ngini = 0.337\\nsamples = 14\\nvalue = [3, 11]\\nclass = 1'),\n",
       " Text(34.63448275862069, 45.299999999999955, 'gini = 0.198\\nsamples = 9\\nvalue = [1, 8]\\nclass = 1'),\n",
       " Text(103.90344827586208, 45.299999999999955, 'gini = 0.48\\nsamples = 5\\nvalue = [2, 3]\\nclass = 1'),\n",
       " Text(138.53793103448277, 135.89999999999998, 'gini = 0.0\\nsamples = 24\\nvalue = [0, 24]\\nclass = 1'),\n",
       " Text(173.17241379310346, 226.5, 'gini = 0.0\\nsamples = 1\\nvalue = [1, 0]\\nclass = 0'),\n",
       " Text(329.02758620689656, 317.1, 'embark_town_Southampton <= 0.5\\ngini = 0.5\\nsamples = 38\\nvalue = [19, 19]\\nclass = 0'),\n",
       " Text(242.44137931034484, 226.5, 'age <= 30.5\\ngini = 0.298\\nsamples = 11\\nvalue = [2, 9]\\nclass = 1'),\n",
       " Text(207.80689655172415, 135.89999999999998, 'fare <= 7.79\\ngini = 0.18\\nsamples = 10\\nvalue = [1, 9]\\nclass = 1'),\n",
       " Text(173.17241379310346, 45.299999999999955, 'gini = 0.444\\nsamples = 3\\nvalue = [1, 2]\\nclass = 1'),\n",
       " Text(242.44137931034484, 45.299999999999955, 'gini = 0.0\\nsamples = 7\\nvalue = [0, 7]\\nclass = 1'),\n",
       " Text(277.07586206896553, 135.89999999999998, 'gini = 0.0\\nsamples = 1\\nvalue = [1, 0]\\nclass = 0'),\n",
       " Text(415.6137931034483, 226.5, 'fare <= 20.663\\ngini = 0.466\\nsamples = 27\\nvalue = [17, 10]\\nclass = 0'),\n",
       " Text(346.3448275862069, 135.89999999999998, 'fare <= 11.469\\ngini = 0.5\\nsamples = 18\\nvalue = [9, 9]\\nclass = 0'),\n",
       " Text(311.71034482758625, 45.299999999999955, 'gini = 0.444\\nsamples = 12\\nvalue = [8, 4]\\nclass = 0'),\n",
       " Text(380.9793103448276, 45.299999999999955, 'gini = 0.278\\nsamples = 6\\nvalue = [1, 5]\\nclass = 1'),\n",
       " Text(484.8827586206897, 135.89999999999998, 'age <= 5.5\\ngini = 0.198\\nsamples = 9\\nvalue = [8, 1]\\nclass = 0'),\n",
       " Text(450.248275862069, 45.299999999999955, 'gini = 0.5\\nsamples = 2\\nvalue = [1, 1]\\nclass = 0'),\n",
       " Text(519.5172413793103, 45.299999999999955, 'gini = 0.0\\nsamples = 7\\nvalue = [7, 0]\\nclass = 0'),\n",
       " Text(701.348275862069, 407.70000000000005, 'age <= 9.5\\ngini = 0.325\\nsamples = 137\\nvalue = [109, 28]\\nclass = 0'),\n",
       " Text(588.7862068965518, 317.1, 'sibsp <= 2.5\\ngini = 0.42\\nsamples = 10\\nvalue = [3, 7]\\nclass = 1'),\n",
       " Text(554.1517241379311, 226.5, 'gini = 0.0\\nsamples = 7\\nvalue = [0, 7]\\nclass = 1'),\n",
       " Text(623.4206896551725, 226.5, 'gini = 0.0\\nsamples = 3\\nvalue = [3, 0]\\nclass = 0'),\n",
       " Text(813.9103448275863, 317.1, 'fare <= 54.798\\ngini = 0.276\\nsamples = 127\\nvalue = [106, 21]\\nclass = 0'),\n",
       " Text(692.6896551724138, 226.5, 'embark_town_Southampton <= 0.5\\ngini = 0.227\\nsamples = 115\\nvalue = [100, 15]\\nclass = 0'),\n",
       " Text(623.4206896551725, 135.89999999999998, 'fare <= 7.744\\ngini = 0.383\\nsamples = 31\\nvalue = [23, 8]\\nclass = 0'),\n",
       " Text(588.7862068965518, 45.299999999999955, 'gini = 0.142\\nsamples = 13\\nvalue = [12, 1]\\nclass = 0'),\n",
       " Text(658.0551724137931, 45.299999999999955, 'gini = 0.475\\nsamples = 18\\nvalue = [11, 7]\\nclass = 0'),\n",
       " Text(761.9586206896552, 135.89999999999998, 'deck_C <= 0.5\\ngini = 0.153\\nsamples = 84\\nvalue = [77, 7]\\nclass = 0'),\n",
       " Text(727.3241379310346, 45.299999999999955, 'gini = 0.136\\nsamples = 82\\nvalue = [76, 6]\\nclass = 0'),\n",
       " Text(796.5931034482759, 45.299999999999955, 'gini = 0.5\\nsamples = 2\\nvalue = [1, 1]\\nclass = 0'),\n",
       " Text(935.1310344827587, 226.5, 'age <= 49.5\\ngini = 0.5\\nsamples = 12\\nvalue = [6, 6]\\nclass = 0'),\n",
       " Text(900.496551724138, 135.89999999999998, 'age <= 29.5\\ngini = 0.375\\nsamples = 8\\nvalue = [2, 6]\\nclass = 1'),\n",
       " Text(865.8620689655173, 45.299999999999955, 'gini = 0.444\\nsamples = 3\\nvalue = [2, 1]\\nclass = 0'),\n",
       " Text(935.1310344827587, 45.299999999999955, 'gini = 0.0\\nsamples = 5\\nvalue = [0, 5]\\nclass = 1'),\n",
       " Text(969.7655172413794, 135.89999999999998, 'gini = 0.0\\nsamples = 4\\nvalue = [4, 0]\\nclass = 0')]"
      ]
     },
     "execution_count": 64,
     "metadata": {},
     "output_type": "execute_result"
    },
    {
     "data": {
      "image/png": "[encoded data removed]",
      "text/plain": [
       "<Figure size 1296x720 with 1 Axes>"
      ]
     },
     "metadata": {
      "needs_background": "light"
     },
     "output_type": "display_data"
    }
   ],
   "source": [
    "plt.figure(figsize=(18, 10))\n",
    "plot_tree(clf, feature_names=X_validate.columns, class_names=clf.classes_.astype(str), rounded=True)"
   ]
  },
  {
   "cell_type": "code",
   "execution_count": 65,
   "id": "05fcdb96",
   "metadata": {},
   "outputs": [
    {
     "data": {
      "text/plain": [
       "0    148\n",
       "1     66\n",
       "dtype: int64"
      ]
     },
     "execution_count": 65,
     "metadata": {},
     "output_type": "execute_result"
    }
   ],
   "source": [
    "#make predictions:\n",
    "survived_prediction = pd.DataFrame(clf.predict(X_validate))\n",
    "survived_prediction.value_counts()"
   ]
  },
  {
   "cell_type": "code",
   "execution_count": 66,
   "id": "7123d08c",
   "metadata": {},
   "outputs": [
    {
     "data": {
      "text/html": [
       "<div><div id=c3d227c0-13cc-4b4f-972e-d50d63fc9b22 style=\"display:none; background-color:#9D6CFF; color:white; width:200px; height:30px; padding-left:5px; border-radius:4px; flex-direction:row; justify-content:space-around; align-items:center;\" onmouseover=\"this.style.backgroundColor='#BA9BF8'\" onmouseout=\"this.style.backgroundColor='#9D6CFF'\" onclick=\"window.commands?.execute('create-mitosheet-from-dataframe-output');\">See Full Dataframe in Mito</div> <script> if (window.commands?.hasCommand('create-mitosheet-from-dataframe-output')) document.getElementById('c3d227c0-13cc-4b4f-972e-d50d63fc9b22').style.display = 'flex' </script> <table border=\"1\" class=\"dataframe\">\n",
       "  <thead>\n",
       "    <tr style=\"text-align: right;\">\n",
       "      <th></th>\n",
       "      <th>0</th>\n",
       "      <th>1</th>\n",
       "    </tr>\n",
       "  </thead>\n",
       "  <tbody>\n",
       "    <tr>\n",
       "      <th>0</th>\n",
       "      <td>1.000000</td>\n",
       "      <td>0.000000</td>\n",
       "    </tr>\n",
       "    <tr>\n",
       "      <th>1</th>\n",
       "      <td>0.926829</td>\n",
       "      <td>0.073171</td>\n",
       "    </tr>\n",
       "    <tr>\n",
       "      <th>2</th>\n",
       "      <td>0.923077</td>\n",
       "      <td>0.076923</td>\n",
       "    </tr>\n",
       "    <tr>\n",
       "      <th>3</th>\n",
       "      <td>0.000000</td>\n",
       "      <td>1.000000</td>\n",
       "    </tr>\n",
       "    <tr>\n",
       "      <th>4</th>\n",
       "      <td>0.926829</td>\n",
       "      <td>0.073171</td>\n",
       "    </tr>\n",
       "    <tr>\n",
       "      <th>...</th>\n",
       "      <td>...</td>\n",
       "      <td>...</td>\n",
       "    </tr>\n",
       "    <tr>\n",
       "      <th>209</th>\n",
       "      <td>0.926829</td>\n",
       "      <td>0.073171</td>\n",
       "    </tr>\n",
       "    <tr>\n",
       "      <th>210</th>\n",
       "      <td>0.926829</td>\n",
       "      <td>0.073171</td>\n",
       "    </tr>\n",
       "    <tr>\n",
       "      <th>211</th>\n",
       "      <td>0.000000</td>\n",
       "      <td>1.000000</td>\n",
       "    </tr>\n",
       "    <tr>\n",
       "      <th>212</th>\n",
       "      <td>0.400000</td>\n",
       "      <td>0.600000</td>\n",
       "    </tr>\n",
       "    <tr>\n",
       "      <th>213</th>\n",
       "      <td>0.923077</td>\n",
       "      <td>0.076923</td>\n",
       "    </tr>\n",
       "  </tbody>\n",
       "</table></div>"
      ],
      "text/plain": [
       "            0         1\n",
       "0    1.000000  0.000000\n",
       "1    0.926829  0.073171\n",
       "2    0.923077  0.076923\n",
       "3    0.000000  1.000000\n",
       "4    0.926829  0.073171\n",
       "..        ...       ...\n",
       "209  0.926829  0.073171\n",
       "210  0.926829  0.073171\n",
       "211  0.000000  1.000000\n",
       "212  0.400000  0.600000\n",
       "213  0.923077  0.076923\n",
       "\n",
       "[214 rows x 2 columns]"
      ]
     },
     "execution_count": 66,
     "metadata": {},
     "output_type": "execute_result"
    }
   ],
   "source": [
    "# Predict probability\n",
    "survival_prediction_proba = pd.DataFrame(clf.predict_proba(X_validate))\n",
    "survival_prediction_proba"
   ]
  },
  {
   "cell_type": "code",
   "execution_count": 67,
   "id": "69faa3f3",
   "metadata": {},
   "outputs": [
    {
     "name": "stdout",
     "output_type": "stream",
     "text": [
      "Accuracy of Decision Tree classifer on validation set: 0.8785046728971962\n"
     ]
    }
   ],
   "source": [
    "# compute accuracy\n",
    "print(f\"Accuracy of Decision Tree classifer on validation set: \"\\\n",
    "        f\"{clf.score(X_validate, Y_validate)}\")"
   ]
  },
  {
   "cell_type": "code",
   "execution_count": 68,
   "id": "36b52ddd",
   "metadata": {},
   "outputs": [
    {
     "data": {
      "text/plain": [
       "array([[127,   5],\n",
       "       [ 21,  61]])"
      ]
     },
     "execution_count": 68,
     "metadata": {},
     "output_type": "execute_result"
    }
   ],
   "source": [
    "# confusion matrix\n",
    "confusion_matrix(Y_validate, survived_prediction)"
   ]
  },
  {
   "cell_type": "code",
   "execution_count": 69,
   "id": "4771bf85",
   "metadata": {},
   "outputs": [
    {
     "data": {
      "text/plain": [
       "0    132\n",
       "1     82\n",
       "Name: survived, dtype: int64"
      ]
     },
     "execution_count": 69,
     "metadata": {},
     "output_type": "execute_result"
    }
   ],
   "source": [
    "Y_validate.value_counts()"
   ]
  },
  {
   "cell_type": "code",
   "execution_count": 70,
   "id": "f369d311",
   "metadata": {},
   "outputs": [
    {
     "data": {
      "text/html": [
       "<div><div id=079e334a-f235-40dc-bea0-059900a5e8ec style=\"display:none; background-color:#9D6CFF; color:white; width:200px; height:30px; padding-left:5px; border-radius:4px; flex-direction:row; justify-content:space-around; align-items:center;\" onmouseover=\"this.style.backgroundColor='#BA9BF8'\" onmouseout=\"this.style.backgroundColor='#9D6CFF'\" onclick=\"window.commands?.execute('create-mitosheet-from-dataframe-output');\">See Full Dataframe in Mito</div> <script> if (window.commands?.hasCommand('create-mitosheet-from-dataframe-output')) document.getElementById('079e334a-f235-40dc-bea0-059900a5e8ec').style.display = 'flex' </script> <table border=\"1\" class=\"dataframe\">\n",
       "  <thead>\n",
       "    <tr style=\"text-align: right;\">\n",
       "      <th></th>\n",
       "      <th>0</th>\n",
       "      <th>1</th>\n",
       "    </tr>\n",
       "  </thead>\n",
       "  <tbody>\n",
       "    <tr>\n",
       "      <th>0</th>\n",
       "      <td>127</td>\n",
       "      <td>5</td>\n",
       "    </tr>\n",
       "    <tr>\n",
       "      <th>1</th>\n",
       "      <td>21</td>\n",
       "      <td>61</td>\n",
       "    </tr>\n",
       "  </tbody>\n",
       "</table></div>"
      ],
      "text/plain": [
       "     0   1\n",
       "0  127   5\n",
       "1   21  61"
      ]
     },
     "execution_count": 70,
     "metadata": {},
     "output_type": "execute_result"
    }
   ],
   "source": [
    "labels = sorted(Y_validate.unique())\n",
    "\n",
    "pd.DataFrame(confusion_matrix(Y_validate, survived_prediction), index=labels, columns=labels)"
   ]
  },
  {
   "cell_type": "code",
   "execution_count": 71,
   "id": "d5885a08",
   "metadata": {},
   "outputs": [
    {
     "name": "stdout",
     "output_type": "stream",
     "text": [
      "              precision    recall  f1-score   support\n",
      "\n",
      "           0       0.86      0.96      0.91       132\n",
      "           1       0.92      0.74      0.82        82\n",
      "\n",
      "    accuracy                           0.88       214\n",
      "   macro avg       0.89      0.85      0.87       214\n",
      "weighted avg       0.88      0.88      0.88       214\n",
      "\n"
     ]
    }
   ],
   "source": [
    "#classification report\n",
    "print(classification_report(Y_validate, survived_prediction))"
   ]
  },
  {
   "cell_type": "markdown",
   "id": "d9ceeeab",
   "metadata": {},
   "source": [
    "## A. MAX DEPTH level 4"
   ]
  },
  {
   "cell_type": "code",
   "execution_count": 72,
   "id": "59b1a5dc",
   "metadata": {},
   "outputs": [
    {
     "data": {
      "text/plain": [
       "[Text(479.3727272727273, 489.24, 'sex_male <= 0.5\\ngini = 0.473\\nsamples = 214\\nvalue = [132, 82]\\nclass = 0'),\n",
       " Text(251.10000000000002, 380.52000000000004, 'pclass <= 2.5\\ngini = 0.419\\nsamples = 77\\nvalue = [23, 54]\\nclass = 1'),\n",
       " Text(136.96363636363637, 271.8, 'age <= 55.0\\ngini = 0.184\\nsamples = 39\\nvalue = [4, 35]\\nclass = 1'),\n",
       " Text(91.30909090909091, 163.08000000000004, 'fare <= 28.5\\ngini = 0.145\\nsamples = 38\\nvalue = [3, 35]\\nclass = 1'),\n",
       " Text(45.654545454545456, 54.360000000000014, 'gini = 0.337\\nsamples = 14\\nvalue = [3, 11]\\nclass = 1'),\n",
       " Text(136.96363636363637, 54.360000000000014, 'gini = 0.0\\nsamples = 24\\nvalue = [0, 24]\\nclass = 1'),\n",
       " Text(182.61818181818182, 163.08000000000004, 'gini = 0.0\\nsamples = 1\\nvalue = [1, 0]\\nclass = 0'),\n",
       " Text(365.23636363636365, 271.8, 'embark_town_Southampton <= 0.5\\ngini = 0.5\\nsamples = 38\\nvalue = [19, 19]\\nclass = 0'),\n",
       " Text(273.92727272727274, 163.08000000000004, 'age <= 30.5\\ngini = 0.298\\nsamples = 11\\nvalue = [2, 9]\\nclass = 1'),\n",
       " Text(228.27272727272728, 54.360000000000014, 'gini = 0.18\\nsamples = 10\\nvalue = [1, 9]\\nclass = 1'),\n",
       " Text(319.5818181818182, 54.360000000000014, 'gini = 0.0\\nsamples = 1\\nvalue = [1, 0]\\nclass = 0'),\n",
       " Text(456.54545454545456, 163.08000000000004, 'fare <= 20.663\\ngini = 0.466\\nsamples = 27\\nvalue = [17, 10]\\nclass = 0'),\n",
       " Text(410.8909090909091, 54.360000000000014, 'gini = 0.5\\nsamples = 18\\nvalue = [9, 9]\\nclass = 0'),\n",
       " Text(502.20000000000005, 54.360000000000014, 'gini = 0.198\\nsamples = 9\\nvalue = [8, 1]\\nclass = 0'),\n",
       " Text(707.6454545454545, 380.52000000000004, 'age <= 9.5\\ngini = 0.325\\nsamples = 137\\nvalue = [109, 28]\\nclass = 0'),\n",
       " Text(593.5090909090909, 271.8, 'sibsp <= 2.5\\ngini = 0.42\\nsamples = 10\\nvalue = [3, 7]\\nclass = 1'),\n",
       " Text(547.8545454545455, 163.08000000000004, 'gini = 0.0\\nsamples = 7\\nvalue = [0, 7]\\nclass = 1'),\n",
       " Text(639.1636363636364, 163.08000000000004, 'gini = 0.0\\nsamples = 3\\nvalue = [3, 0]\\nclass = 0'),\n",
       " Text(821.7818181818182, 271.8, 'fare <= 54.798\\ngini = 0.276\\nsamples = 127\\nvalue = [106, 21]\\nclass = 0'),\n",
       " Text(730.4727272727273, 163.08000000000004, 'embark_town_Southampton <= 0.5\\ngini = 0.227\\nsamples = 115\\nvalue = [100, 15]\\nclass = 0'),\n",
       " Text(684.8181818181819, 54.360000000000014, 'gini = 0.383\\nsamples = 31\\nvalue = [23, 8]\\nclass = 0'),\n",
       " Text(776.1272727272727, 54.360000000000014, 'gini = 0.153\\nsamples = 84\\nvalue = [77, 7]\\nclass = 0'),\n",
       " Text(913.0909090909091, 163.08000000000004, 'fare <= 59.49\\ngini = 0.5\\nsamples = 12\\nvalue = [6, 6]\\nclass = 0'),\n",
       " Text(867.4363636363637, 54.360000000000014, 'gini = 0.0\\nsamples = 4\\nvalue = [0, 4]\\nclass = 1'),\n",
       " Text(958.7454545454545, 54.360000000000014, 'gini = 0.375\\nsamples = 8\\nvalue = [6, 2]\\nclass = 0')]"
      ]
     },
     "execution_count": 72,
     "metadata": {},
     "output_type": "execute_result"
    },
    {
     "data": {
      "image/png": "[encoded data removed]",
      "text/plain": [
       "<Figure size 1296x720 with 1 Axes>"
      ]
     },
     "metadata": {
      "needs_background": "light"
     },
     "output_type": "display_data"
    }
   ],
   "source": [
    "# MAX DEPTH: 4\n",
    "# now we fit the model to the validate data\n",
    "clf = DecisionTreeClassifier(max_depth=4, random_state=123)\n",
    "\n",
    "clf = clf.fit(X_validate, Y_validate)\n",
    "\n",
    "plt.figure(figsize=(18, 10))\n",
    "plot_tree(clf, feature_names=X_validate.columns, class_names=clf.classes_.astype(str), rounded=True)"
   ]
  },
  {
   "cell_type": "code",
   "execution_count": 73,
   "id": "ae4a22cf",
   "metadata": {},
   "outputs": [
    {
     "data": {
      "text/plain": [
       "0    155\n",
       "1     59\n",
       "dtype: int64"
      ]
     },
     "execution_count": 73,
     "metadata": {},
     "output_type": "execute_result"
    }
   ],
   "source": [
    "#make predictions:\n",
    "survived_prediction = pd.DataFrame(clf.predict(X_validate))\n",
    "survived_prediction.value_counts()"
   ]
  },
  {
   "cell_type": "code",
   "execution_count": 74,
   "id": "6aca22ad",
   "metadata": {},
   "outputs": [
    {
     "data": {
      "text/html": [
       "<div><div id=ede3326d-2137-4b52-bc54-608c189d3d8d style=\"display:none; background-color:#9D6CFF; color:white; width:200px; height:30px; padding-left:5px; border-radius:4px; flex-direction:row; justify-content:space-around; align-items:center;\" onmouseover=\"this.style.backgroundColor='#BA9BF8'\" onmouseout=\"this.style.backgroundColor='#9D6CFF'\" onclick=\"window.commands?.execute('create-mitosheet-from-dataframe-output');\">See Full Dataframe in Mito</div> <script> if (window.commands?.hasCommand('create-mitosheet-from-dataframe-output')) document.getElementById('ede3326d-2137-4b52-bc54-608c189d3d8d').style.display = 'flex' </script> <table border=\"1\" class=\"dataframe\">\n",
       "  <thead>\n",
       "    <tr style=\"text-align: right;\">\n",
       "      <th></th>\n",
       "      <th>0</th>\n",
       "      <th>1</th>\n",
       "    </tr>\n",
       "  </thead>\n",
       "  <tbody>\n",
       "    <tr>\n",
       "      <th>0</th>\n",
       "      <td>0.888889</td>\n",
       "      <td>0.111111</td>\n",
       "    </tr>\n",
       "    <tr>\n",
       "      <th>1</th>\n",
       "      <td>0.916667</td>\n",
       "      <td>0.083333</td>\n",
       "    </tr>\n",
       "    <tr>\n",
       "      <th>2</th>\n",
       "      <td>0.741935</td>\n",
       "      <td>0.258065</td>\n",
       "    </tr>\n",
       "    <tr>\n",
       "      <th>3</th>\n",
       "      <td>0.000000</td>\n",
       "      <td>1.000000</td>\n",
       "    </tr>\n",
       "    <tr>\n",
       "      <th>4</th>\n",
       "      <td>0.916667</td>\n",
       "      <td>0.083333</td>\n",
       "    </tr>\n",
       "    <tr>\n",
       "      <th>...</th>\n",
       "      <td>...</td>\n",
       "      <td>...</td>\n",
       "    </tr>\n",
       "    <tr>\n",
       "      <th>209</th>\n",
       "      <td>0.916667</td>\n",
       "      <td>0.083333</td>\n",
       "    </tr>\n",
       "    <tr>\n",
       "      <th>210</th>\n",
       "      <td>0.916667</td>\n",
       "      <td>0.083333</td>\n",
       "    </tr>\n",
       "    <tr>\n",
       "      <th>211</th>\n",
       "      <td>0.750000</td>\n",
       "      <td>0.250000</td>\n",
       "    </tr>\n",
       "    <tr>\n",
       "      <th>212</th>\n",
       "      <td>0.214286</td>\n",
       "      <td>0.785714</td>\n",
       "    </tr>\n",
       "    <tr>\n",
       "      <th>213</th>\n",
       "      <td>0.741935</td>\n",
       "      <td>0.258065</td>\n",
       "    </tr>\n",
       "  </tbody>\n",
       "</table></div>"
      ],
      "text/plain": [
       "            0         1\n",
       "0    0.888889  0.111111\n",
       "1    0.916667  0.083333\n",
       "2    0.741935  0.258065\n",
       "3    0.000000  1.000000\n",
       "4    0.916667  0.083333\n",
       "..        ...       ...\n",
       "209  0.916667  0.083333\n",
       "210  0.916667  0.083333\n",
       "211  0.750000  0.250000\n",
       "212  0.214286  0.785714\n",
       "213  0.741935  0.258065\n",
       "\n",
       "[214 rows x 2 columns]"
      ]
     },
     "execution_count": 74,
     "metadata": {},
     "output_type": "execute_result"
    }
   ],
   "source": [
    "# Predict probability\n",
    "survival_prediction_proba = pd.DataFrame(clf.predict_proba(X_validate))\n",
    "survival_prediction_proba"
   ]
  },
  {
   "cell_type": "code",
   "execution_count": 75,
   "id": "e36b62fb",
   "metadata": {},
   "outputs": [
    {
     "name": "stdout",
     "output_type": "stream",
     "text": [
      "Accuracy of Decision Tree classifer on validation set: 0.8551401869158879\n"
     ]
    }
   ],
   "source": [
    "# compute accuracy\n",
    "print(f\"Accuracy of Decision Tree classifer on validation set: \"\\\n",
    "        f\"{clf.score(X_validate, Y_validate)}\")"
   ]
  },
  {
   "cell_type": "code",
   "execution_count": 76,
   "id": "2a01fe85",
   "metadata": {},
   "outputs": [
    {
     "data": {
      "text/html": [
       "<div><div id=30216f4b-f5ed-4441-ad16-436bdb1652ae style=\"display:none; background-color:#9D6CFF; color:white; width:200px; height:30px; padding-left:5px; border-radius:4px; flex-direction:row; justify-content:space-around; align-items:center;\" onmouseover=\"this.style.backgroundColor='#BA9BF8'\" onmouseout=\"this.style.backgroundColor='#9D6CFF'\" onclick=\"window.commands?.execute('create-mitosheet-from-dataframe-output');\">See Full Dataframe in Mito</div> <script> if (window.commands?.hasCommand('create-mitosheet-from-dataframe-output')) document.getElementById('30216f4b-f5ed-4441-ad16-436bdb1652ae').style.display = 'flex' </script> <table border=\"1\" class=\"dataframe\">\n",
       "  <thead>\n",
       "    <tr style=\"text-align: right;\">\n",
       "      <th></th>\n",
       "      <th>0</th>\n",
       "      <th>1</th>\n",
       "    </tr>\n",
       "  </thead>\n",
       "  <tbody>\n",
       "    <tr>\n",
       "      <th>0</th>\n",
       "      <td>128</td>\n",
       "      <td>4</td>\n",
       "    </tr>\n",
       "    <tr>\n",
       "      <th>1</th>\n",
       "      <td>27</td>\n",
       "      <td>55</td>\n",
       "    </tr>\n",
       "  </tbody>\n",
       "</table></div>"
      ],
      "text/plain": [
       "     0   1\n",
       "0  128   4\n",
       "1   27  55"
      ]
     },
     "execution_count": 76,
     "metadata": {},
     "output_type": "execute_result"
    }
   ],
   "source": [
    "# confusion matrix\n",
    "confusion_matrix(Y_validate, survived_prediction)\n",
    "\n",
    "Y_validate.value_counts()\n",
    "\n",
    "labels = sorted(Y_validate.unique())\n",
    "\n",
    "pd.DataFrame(confusion_matrix(Y_validate, survived_prediction), index=labels, columns=labels)"
   ]
  },
  {
   "cell_type": "code",
   "execution_count": 77,
   "id": "4ed431ce",
   "metadata": {},
   "outputs": [
    {
     "name": "stdout",
     "output_type": "stream",
     "text": [
      "              precision    recall  f1-score   support\n",
      "\n",
      "           0       0.83      0.97      0.89       132\n",
      "           1       0.93      0.67      0.78        82\n",
      "\n",
      "    accuracy                           0.86       214\n",
      "   macro avg       0.88      0.82      0.84       214\n",
      "weighted avg       0.87      0.86      0.85       214\n",
      "\n"
     ]
    }
   ],
   "source": [
    "#classification report\n",
    "print(classification_report(Y_validate, survived_prediction))"
   ]
  },
  {
   "cell_type": "markdown",
   "id": "e4737706",
   "metadata": {},
   "source": [
    "## Takeaway:\n",
    "\n",
    "- 5 levels of depth is more accurate than 4 levels in this case:\n",
    "    - 88% vs 85.5%"
   ]
  },
  {
   "cell_type": "code",
   "execution_count": null,
   "id": "76987309",
   "metadata": {},
   "outputs": [],
   "source": []
  }
 ],
 "metadata": {
  "kernelspec": {
   "display_name": "Python 3 (ipykernel)",
   "language": "python",
   "name": "python3"
  },
  "language_info": {
   "codemirror_mode": {
    "name": "ipython",
    "version": 3
   },
   "file_extension": ".py",
   "mimetype": "text/x-python",
   "name": "python",
   "nbconvert_exporter": "python",
   "pygments_lexer": "ipython3",
   "version": "3.9.7"
  }
 },
 "nbformat": 4,
 "nbformat_minor": 5
}

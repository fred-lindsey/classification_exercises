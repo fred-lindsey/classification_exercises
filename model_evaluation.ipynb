{
 "cells": [
  {
   "cell_type": "markdown",
   "id": "06ce17f7",
   "metadata": {},
   "source": [
    "## How we evaluate using Train, Validate, and Test"
   ]
  },
  {
   "cell_type": "markdown",
   "id": "fa073c35",
   "metadata": {},
   "source": [
    "- accuracy is one way to assess model effectiveness"
   ]
  },
  {
   "cell_type": "markdown",
   "id": "5101296a",
   "metadata": {},
   "source": [
    "- Confusion Matrix\n",
    "    - Precision: when we said something was positive, how accurate are we?\n",
    "        - TP/(TP +FP) = legit positives/all positives (true+false)\n",
    "    - Recall: How good are we at catching all positives?\n",
    "        - TP/(TP + FN) = legit positives/true pos + false neg\n",
    "        - optimize if risk of false positive is not too bad\n",
    "    - Accuracy: How often are we simply correct?\n",
    "        - (TP+TN)/(TP+TN+FP+FN)\n",
    "    - F1 score: harmonic mean of recall and precision\n",
    "        - best of both world's"
   ]
  },
  {
   "cell_type": "markdown",
   "id": "d2b14f32",
   "metadata": {},
   "source": [
    "## Exercises:\n",
    "\n",
    "## 2. Given the following confusion matrix, evaluate (by hand) the model's performance.\n",
    "\n",
    "\n",
    "|               | pred dog   | pred cat   |\n",
    "|:------------  |-----------:|-----------:|\n",
    "| actual dog    |         46 |         7  |\n",
    "| actual cat    |         13 |         34 |\n",
    "\n",
    "In the context of this problem, what is a false positive?\n",
    "\n",
    "In the context of this problem, what is a false negative?\n",
    "\n",
    "How would you describe this model?\n"
   ]
  },
  {
   "cell_type": "code",
   "execution_count": null,
   "id": "fd69062b",
   "metadata": {},
   "outputs": [],
   "source": [
    "# A false positive in this model is a predicted dog, actual cat"
   ]
  },
  {
   "cell_type": "code",
   "execution_count": 1,
   "id": "3a88e4de",
   "metadata": {},
   "outputs": [],
   "source": [
    "# A false negative is a predicted cat, actual dog"
   ]
  },
  {
   "cell_type": "code",
   "execution_count": null,
   "id": "4509a502",
   "metadata": {},
   "outputs": [],
   "source": [
    "# This model mistakes far fewer cats for dogs than dogs for cats. \n",
    "# False positives and false negativesa are equally impactful, use F1"
   ]
  },
  {
   "cell_type": "markdown",
   "id": "4e60eb14",
   "metadata": {},
   "source": [
    "## 3. You are working as a datascientist working for Codeup Cody Creator (C3 for short), a rubber-duck manufacturing plant.\n",
    "\n",
    "Unfortunately, some of the rubber ducks that are produced will have defects. Your team has built several models that try to predict those defects, and the data from their predictions can be found here.\n",
    "\n",
    "Use the predictions dataset and pandas to help answer the following questions:"
   ]
  },
  {
   "cell_type": "code",
   "execution_count": 2,
   "id": "5f3b7973",
   "metadata": {},
   "outputs": [
    {
     "data": {
      "text/html": [
       "<div><div id=de8902b8-1be8-409a-9ba9-b7cec2ef0f88 style=\"display:none; background-color:#9D6CFF; color:white; width:200px; height:30px; padding-left:5px; border-radius:4px; flex-direction:row; justify-content:space-around; align-items:center;\" onmouseover=\"this.style.backgroundColor='#BA9BF8'\" onmouseout=\"this.style.backgroundColor='#9D6CFF'\" onclick=\"window.commands?.execute('create-mitosheet-from-dataframe-output');\">See Full Dataframe in Mito</div> <script> if (window.commands?.hasCommand('create-mitosheet-from-dataframe-output')) document.getElementById('de8902b8-1be8-409a-9ba9-b7cec2ef0f88').style.display = 'flex' </script> <table border=\"1\" class=\"dataframe\">\n",
       "  <thead>\n",
       "    <tr style=\"text-align: right;\">\n",
       "      <th></th>\n",
       "      <th>actual</th>\n",
       "      <th>model1</th>\n",
       "      <th>model2</th>\n",
       "      <th>model3</th>\n",
       "    </tr>\n",
       "  </thead>\n",
       "  <tbody>\n",
       "    <tr>\n",
       "      <th>0</th>\n",
       "      <td>No Defect</td>\n",
       "      <td>No Defect</td>\n",
       "      <td>Defect</td>\n",
       "      <td>No Defect</td>\n",
       "    </tr>\n",
       "    <tr>\n",
       "      <th>1</th>\n",
       "      <td>No Defect</td>\n",
       "      <td>No Defect</td>\n",
       "      <td>Defect</td>\n",
       "      <td>Defect</td>\n",
       "    </tr>\n",
       "    <tr>\n",
       "      <th>2</th>\n",
       "      <td>No Defect</td>\n",
       "      <td>No Defect</td>\n",
       "      <td>Defect</td>\n",
       "      <td>No Defect</td>\n",
       "    </tr>\n",
       "    <tr>\n",
       "      <th>3</th>\n",
       "      <td>No Defect</td>\n",
       "      <td>Defect</td>\n",
       "      <td>Defect</td>\n",
       "      <td>Defect</td>\n",
       "    </tr>\n",
       "    <tr>\n",
       "      <th>4</th>\n",
       "      <td>No Defect</td>\n",
       "      <td>No Defect</td>\n",
       "      <td>Defect</td>\n",
       "      <td>No Defect</td>\n",
       "    </tr>\n",
       "  </tbody>\n",
       "</table></div>"
      ],
      "text/plain": [
       "      actual     model1  model2     model3\n",
       "0  No Defect  No Defect  Defect  No Defect\n",
       "1  No Defect  No Defect  Defect     Defect\n",
       "2  No Defect  No Defect  Defect  No Defect\n",
       "3  No Defect     Defect  Defect     Defect\n",
       "4  No Defect  No Defect  Defect  No Defect"
      ]
     },
     "execution_count": 2,
     "metadata": {},
     "output_type": "execute_result"
    }
   ],
   "source": [
    "df = pd.read_csv('c3.csv')\n",
    "df.head()"
   ]
  },
  {
   "cell_type": "markdown",
   "id": "e1724875",
   "metadata": {},
   "source": [
    "## A. An internal team wants to investigate the cause of the manufacturing defects. They tell you that they want to identify as many of the ducks that have a defect as possible. \n",
    "\n",
    "Which evaluation metric would be appropriate here? \n",
    "\n",
    "Which model would be the best fit for this use case?"
   ]
  },
  {
   "cell_type": "code",
   "execution_count": null,
   "id": "daa76862",
   "metadata": {},
   "outputs": [],
   "source": []
  },
  {
   "cell_type": "markdown",
   "id": "2adb9b99",
   "metadata": {},
   "source": [
    "Recently several stories in the local news have come out highlighting customers who received a rubber duck with a defect, and portraying C3 in a bad light. The PR team has decided to launch a program that gives customers with a defective duck a vacation to Hawaii. They need you to predict which ducks will have defects, but tell you the really don't want to accidentally give out a vacation package when the duck really doesn't have a defect. Which evaluation metric would be appropriate here? Which model would be the best fit for this use case?"
   ]
  }
 ],
 "metadata": {
  "kernelspec": {
   "display_name": "Python 3 (ipykernel)",
   "language": "python",
   "name": "python3"
  },
  "language_info": {
   "codemirror_mode": {
    "name": "ipython",
    "version": 3
   },
   "file_extension": ".py",
   "mimetype": "text/x-python",
   "name": "python",
   "nbconvert_exporter": "python",
   "pygments_lexer": "ipython3",
   "version": "3.9.7"
  }
 },
 "nbformat": 4,
 "nbformat_minor": 5
}

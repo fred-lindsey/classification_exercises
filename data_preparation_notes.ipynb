{
 "cells": [
  {
   "cell_type": "markdown",
   "id": "2868ac19",
   "metadata": {},
   "source": [
    "## Data Prep"
   ]
  },
  {
   "cell_type": "markdown",
   "id": "f11cfe91",
   "metadata": {},
   "source": [
    "Three components:\n",
    "\n",
    "    1. Inspection\n",
    "    \n",
    "    2. Cleaning\n",
    "    \n",
    "    3. Splitting"
   ]
  },
  {
   "cell_type": "markdown",
   "id": "7dc4c70c",
   "metadata": {},
   "source": [
    "## Inspection:\n",
    "- .value_counts()\n",
    "- .head()\n",
    "- .describe()\n",
    "- .info()\n",
    "- .isna()\n",
    "- .shape\n",
    "\n",
    "- getting a peek under the hood to see how messy the data is."
   ]
  },
  {
   "cell_type": "markdown",
   "id": "d62847f2",
   "metadata": {},
   "source": [
    "## Cleaning\n",
    "- can be the result of a bug in the acquire step\n",
    "- are they truly duplicates? Which one is real?\n",
    "- missing data: drop columns, drop rows, impute\n",
    "    - impute: make a guess as to what missing value should have been\n",
    "        - generally safer to drop than to impute\n",
    "        - but, your data set may be too small to drop nulls, so you need to impute\n",
    "- outliers:\n",
    "    - ignore\n",
    "    - drop\n",
    "    - snap to value (closer to mean)\n",
    "    - bin data\n",
    "- erroneous values:\n",
    "    - drop rows\n",
    "    - correct to intended\n",
    "- correct data-types\n",
    "    - 0, 1 to No, Yes\n",
    "- text normalization\n",
    "- tidy data:\n",
    "    - data should be in a form that is idea for analysis\n",
    "    - content should be mostly be left alone\n",
    "    - the shape. of data changes\n",
    "- rename columns\n",
    "- scaling data"
   ]
  },
  {
   "cell_type": "markdown",
   "id": "06d8af79",
   "metadata": {},
   "source": [
    "## Splitting\n",
    "- split randomly into training and testing data sets\n",
    "- can add a validation set as well\n",
    "- 70/30 split\n",
    "- splitting data allows optimal fitting\n",
    "    - avoids under/over fitting"
   ]
  },
  {
   "cell_type": "code",
   "execution_count": null,
   "id": "99ddcdb2",
   "metadata": {},
   "outputs": [],
   "source": []
  }
 ],
 "metadata": {
  "kernelspec": {
   "display_name": "Python 3 (ipykernel)",
   "language": "python",
   "name": "python3"
  },
  "language_info": {
   "codemirror_mode": {
    "name": "ipython",
    "version": 3
   },
   "file_extension": ".py",
   "mimetype": "text/x-python",
   "name": "python",
   "nbconvert_exporter": "python",
   "pygments_lexer": "ipython3",
   "version": "3.9.7"
  }
 },
 "nbformat": 4,
 "nbformat_minor": 5
}

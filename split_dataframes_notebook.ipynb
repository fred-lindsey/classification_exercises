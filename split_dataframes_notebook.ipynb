{
 "cells": [
  {
   "cell_type": "markdown",
   "id": "a293ecf1",
   "metadata": {},
   "source": [
    "# Acquire > Split > Explore"
   ]
  },
  {
   "cell_type": "markdown",
   "id": "8c703f25",
   "metadata": {},
   "source": [
    "## 1. Titanic Dataset"
   ]
  },
  {
   "cell_type": "code",
   "execution_count": 2,
   "id": "52ca8439",
   "metadata": {},
   "outputs": [
    {
     "data": {
      "text/plain": [
       "((498, 13), (214, 13), (179, 13))"
      ]
     },
     "execution_count": 2,
     "metadata": {},
     "output_type": "execute_result"
    }
   ],
   "source": [
    "import env\n",
    "import acquire\n",
    "import prepare\n",
    "import split\n",
    "\n",
    "df = acquire.get_titanic_data()\n",
    "df = prepare.prep_titanic(df)\n",
    "train, validate, test = split.train_validate_test_split(df, \n",
    "                        target='survived')\n",
    "train.shape, validate.shape, test.shape"
   ]
  },
  {
   "cell_type": "markdown",
   "id": "174d515b",
   "metadata": {},
   "source": [
    "## 2. Iris Dataset"
   ]
  },
  {
   "cell_type": "code",
   "execution_count": null,
   "id": "50eb200d",
   "metadata": {},
   "outputs": [],
   "source": [
    "import env\n",
    "import acquire\n",
    "import prepare\n",
    "import split\n",
    "\n",
    "df = acquire.get_iris_db()\n",
    "df = prepare.prep_iris(df)\n",
    "df.head()"
   ]
  },
  {
   "cell_type": "code",
   "execution_count": null,
   "id": "419a2ede",
   "metadata": {},
   "outputs": [],
   "source": [
    "train, validate, test = split.train_validate_test_split(df, \n",
    "                        target='species')\n",
    "train.shape, validate.shape, test.shape"
   ]
  },
  {
   "cell_type": "markdown",
   "id": "46e5ca84",
   "metadata": {},
   "source": [
    "## 3. Telco Dataset"
   ]
  },
  {
   "cell_type": "code",
   "execution_count": 1,
   "id": "1fd9af77",
   "metadata": {},
   "outputs": [
    {
     "data": {
      "text/plain": [
       "((3937, 28), (1688, 28), (1407, 28))"
      ]
     },
     "execution_count": 1,
     "metadata": {},
     "output_type": "execute_result"
    }
   ],
   "source": [
    "import env\n",
    "import acquire\n",
    "import prepare\n",
    "import split\n",
    "\n",
    "df = acquire.get_telco_data()\n",
    "df = prepare.prep_telco(df)\n",
    "train, validate, test = split.train_validate_test_split(df, \n",
    "                        target='churn')\n",
    "train.shape, validate.shape, test.shape"
   ]
  },
  {
   "cell_type": "code",
   "execution_count": null,
   "id": "a2d818ca",
   "metadata": {},
   "outputs": [],
   "source": []
  },
  {
   "cell_type": "code",
   "execution_count": null,
   "id": "3c97552a",
   "metadata": {},
   "outputs": [],
   "source": []
  },
  {
   "cell_type": "code",
   "execution_count": null,
   "id": "df19d90f",
   "metadata": {},
   "outputs": [],
   "source": []
  },
  {
   "cell_type": "code",
   "execution_count": null,
   "id": "e1731888",
   "metadata": {},
   "outputs": [],
   "source": []
  }
 ],
 "metadata": {
  "kernelspec": {
   "display_name": "Python 3 (ipykernel)",
   "language": "python",
   "name": "python3"
  },
  "language_info": {
   "codemirror_mode": {
    "name": "ipython",
    "version": 3
   },
   "file_extension": ".py",
   "mimetype": "text/x-python",
   "name": "python",
   "nbconvert_exporter": "python",
   "pygments_lexer": "ipython3",
   "version": "3.9.7"
  }
 },
 "nbformat": 4,
 "nbformat_minor": 5
}

{
 "cells": [
  {
   "cell_type": "markdown",
   "id": "6c4d03e9",
   "metadata": {},
   "source": [
    "## Decision Tree Exercises\n",
    "\n",
    "### Using the Titanic data, in your classification-exercises repository, create a notebook, model.ipynb where you will do the following:"
   ]
  },
  {
   "cell_type": "code",
   "execution_count": 113,
   "id": "a3ff5517",
   "metadata": {},
   "outputs": [],
   "source": [
    "# ignore warnings\n",
    "import warnings\n",
    "warnings.filterwarnings(\"ignore\")\n",
    "\n",
    "import numpy as np\n",
    "\n",
    "from pydataset import data\n",
    "\n",
    "from sklearn.model_selection import train_test_split\n",
    "from sklearn.tree import DecisionTreeClassifier, plot_tree\n",
    "from sklearn.metrics import classification_report\n",
    "from sklearn.metrics import confusion_matrix\n",
    "from sklearn.impute import SimpleImputer\n",
    "\n",
    "import matplotlib.pyplot as plt\n",
    "import seaborn as sns"
   ]
  },
  {
   "cell_type": "code",
   "execution_count": 114,
   "id": "f7d6456e",
   "metadata": {},
   "outputs": [],
   "source": [
    "import acquire\n",
    "import prepare\n",
    "import split"
   ]
  },
  {
   "cell_type": "code",
   "execution_count": 3,
   "id": "382d7d3e",
   "metadata": {},
   "outputs": [
    {
     "data": {
      "text/html": [
       "<div><div id=6d997dba-3bb1-4bdf-9f9a-aada6f79049e style=\"display:none; background-color:#9D6CFF; color:white; width:200px; height:30px; padding-left:5px; border-radius:4px; flex-direction:row; justify-content:space-around; align-items:center;\" onmouseover=\"this.style.backgroundColor='#BA9BF8'\" onmouseout=\"this.style.backgroundColor='#9D6CFF'\" onclick=\"window.commands?.execute('create-mitosheet-from-dataframe-output');\">See Full Dataframe in Mito</div> <script> if (window.commands?.hasCommand('create-mitosheet-from-dataframe-output')) document.getElementById('6d997dba-3bb1-4bdf-9f9a-aada6f79049e').style.display = 'flex' </script> <table border=\"1\" class=\"dataframe\">\n",
       "  <thead>\n",
       "    <tr style=\"text-align: right;\">\n",
       "      <th></th>\n",
       "      <th>survived</th>\n",
       "      <th>pclass</th>\n",
       "      <th>sex</th>\n",
       "      <th>age</th>\n",
       "      <th>sibsp</th>\n",
       "      <th>parch</th>\n",
       "      <th>fare</th>\n",
       "      <th>deck</th>\n",
       "      <th>embark_town</th>\n",
       "      <th>alone</th>\n",
       "      <th>embark_town_Queenstown</th>\n",
       "      <th>embark_town_Southampton</th>\n",
       "      <th>sex_male</th>\n",
       "      <th>deck_B</th>\n",
       "      <th>deck_C</th>\n",
       "      <th>deck_D</th>\n",
       "      <th>deck_E</th>\n",
       "      <th>deck_F</th>\n",
       "      <th>deck_G</th>\n",
       "    </tr>\n",
       "  </thead>\n",
       "  <tbody>\n",
       "    <tr>\n",
       "      <th>0</th>\n",
       "      <td>0</td>\n",
       "      <td>3</td>\n",
       "      <td>male</td>\n",
       "      <td>22.0</td>\n",
       "      <td>1</td>\n",
       "      <td>0</td>\n",
       "      <td>7.2500</td>\n",
       "      <td>NaN</td>\n",
       "      <td>Southampton</td>\n",
       "      <td>0</td>\n",
       "      <td>0</td>\n",
       "      <td>1</td>\n",
       "      <td>1</td>\n",
       "      <td>0</td>\n",
       "      <td>0</td>\n",
       "      <td>0</td>\n",
       "      <td>0</td>\n",
       "      <td>0</td>\n",
       "      <td>0</td>\n",
       "    </tr>\n",
       "    <tr>\n",
       "      <th>1</th>\n",
       "      <td>1</td>\n",
       "      <td>1</td>\n",
       "      <td>female</td>\n",
       "      <td>38.0</td>\n",
       "      <td>1</td>\n",
       "      <td>0</td>\n",
       "      <td>71.2833</td>\n",
       "      <td>C</td>\n",
       "      <td>Cherbourg</td>\n",
       "      <td>0</td>\n",
       "      <td>0</td>\n",
       "      <td>0</td>\n",
       "      <td>0</td>\n",
       "      <td>0</td>\n",
       "      <td>1</td>\n",
       "      <td>0</td>\n",
       "      <td>0</td>\n",
       "      <td>0</td>\n",
       "      <td>0</td>\n",
       "    </tr>\n",
       "    <tr>\n",
       "      <th>2</th>\n",
       "      <td>1</td>\n",
       "      <td>3</td>\n",
       "      <td>female</td>\n",
       "      <td>26.0</td>\n",
       "      <td>0</td>\n",
       "      <td>0</td>\n",
       "      <td>7.9250</td>\n",
       "      <td>NaN</td>\n",
       "      <td>Southampton</td>\n",
       "      <td>1</td>\n",
       "      <td>0</td>\n",
       "      <td>1</td>\n",
       "      <td>0</td>\n",
       "      <td>0</td>\n",
       "      <td>0</td>\n",
       "      <td>0</td>\n",
       "      <td>0</td>\n",
       "      <td>0</td>\n",
       "      <td>0</td>\n",
       "    </tr>\n",
       "    <tr>\n",
       "      <th>3</th>\n",
       "      <td>1</td>\n",
       "      <td>1</td>\n",
       "      <td>female</td>\n",
       "      <td>35.0</td>\n",
       "      <td>1</td>\n",
       "      <td>0</td>\n",
       "      <td>53.1000</td>\n",
       "      <td>C</td>\n",
       "      <td>Southampton</td>\n",
       "      <td>0</td>\n",
       "      <td>0</td>\n",
       "      <td>1</td>\n",
       "      <td>0</td>\n",
       "      <td>0</td>\n",
       "      <td>1</td>\n",
       "      <td>0</td>\n",
       "      <td>0</td>\n",
       "      <td>0</td>\n",
       "      <td>0</td>\n",
       "    </tr>\n",
       "    <tr>\n",
       "      <th>4</th>\n",
       "      <td>0</td>\n",
       "      <td>3</td>\n",
       "      <td>male</td>\n",
       "      <td>35.0</td>\n",
       "      <td>0</td>\n",
       "      <td>0</td>\n",
       "      <td>8.0500</td>\n",
       "      <td>NaN</td>\n",
       "      <td>Southampton</td>\n",
       "      <td>1</td>\n",
       "      <td>0</td>\n",
       "      <td>1</td>\n",
       "      <td>1</td>\n",
       "      <td>0</td>\n",
       "      <td>0</td>\n",
       "      <td>0</td>\n",
       "      <td>0</td>\n",
       "      <td>0</td>\n",
       "      <td>0</td>\n",
       "    </tr>\n",
       "  </tbody>\n",
       "</table></div>"
      ],
      "text/plain": [
       "   survived  pclass     sex   age  sibsp  parch     fare deck  embark_town  \\\n",
       "0         0       3    male  22.0      1      0   7.2500  NaN  Southampton   \n",
       "1         1       1  female  38.0      1      0  71.2833    C    Cherbourg   \n",
       "2         1       3  female  26.0      0      0   7.9250  NaN  Southampton   \n",
       "3         1       1  female  35.0      1      0  53.1000    C  Southampton   \n",
       "4         0       3    male  35.0      0      0   8.0500  NaN  Southampton   \n",
       "\n",
       "   alone  embark_town_Queenstown  embark_town_Southampton  sex_male  deck_B  \\\n",
       "0      0                       0                        1         1       0   \n",
       "1      0                       0                        0         0       0   \n",
       "2      1                       0                        1         0       0   \n",
       "3      0                       0                        1         0       0   \n",
       "4      1                       0                        1         1       0   \n",
       "\n",
       "   deck_C  deck_D  deck_E  deck_F  deck_G  \n",
       "0       0       0       0       0       0  \n",
       "1       1       0       0       0       0  \n",
       "2       0       0       0       0       0  \n",
       "3       1       0       0       0       0  \n",
       "4       0       0       0       0       0  "
      ]
     },
     "execution_count": 3,
     "metadata": {},
     "output_type": "execute_result"
    }
   ],
   "source": [
    "df = acquire.get_titanic_data()\n",
    "df = prepare.prep_titanic(df)\n",
    "df.head()"
   ]
  },
  {
   "cell_type": "code",
   "execution_count": 4,
   "id": "4667e5a4",
   "metadata": {},
   "outputs": [
    {
     "data": {
      "text/html": [
       "<div><div id=13076cc4-ce8d-49e8-8c20-252219ffd97f style=\"display:none; background-color:#9D6CFF; color:white; width:200px; height:30px; padding-left:5px; border-radius:4px; flex-direction:row; justify-content:space-around; align-items:center;\" onmouseover=\"this.style.backgroundColor='#BA9BF8'\" onmouseout=\"this.style.backgroundColor='#9D6CFF'\" onclick=\"window.commands?.execute('create-mitosheet-from-dataframe-output');\">See Full Dataframe in Mito</div> <script> if (window.commands?.hasCommand('create-mitosheet-from-dataframe-output')) document.getElementById('13076cc4-ce8d-49e8-8c20-252219ffd97f').style.display = 'flex' </script> <table border=\"1\" class=\"dataframe\">\n",
       "  <thead>\n",
       "    <tr style=\"text-align: right;\">\n",
       "      <th></th>\n",
       "      <th>survived</th>\n",
       "      <th>pclass</th>\n",
       "      <th>sex</th>\n",
       "      <th>age</th>\n",
       "      <th>sibsp</th>\n",
       "      <th>parch</th>\n",
       "      <th>fare</th>\n",
       "      <th>deck</th>\n",
       "      <th>embark_town</th>\n",
       "      <th>alone</th>\n",
       "      <th>embark_town_Queenstown</th>\n",
       "      <th>embark_town_Southampton</th>\n",
       "      <th>sex_male</th>\n",
       "      <th>deck_B</th>\n",
       "      <th>deck_C</th>\n",
       "      <th>deck_D</th>\n",
       "      <th>deck_E</th>\n",
       "      <th>deck_F</th>\n",
       "      <th>deck_G</th>\n",
       "    </tr>\n",
       "  </thead>\n",
       "  <tbody>\n",
       "    <tr>\n",
       "      <th>583</th>\n",
       "      <td>0</td>\n",
       "      <td>1</td>\n",
       "      <td>male</td>\n",
       "      <td>36.0</td>\n",
       "      <td>0</td>\n",
       "      <td>0</td>\n",
       "      <td>40.1250</td>\n",
       "      <td>A</td>\n",
       "      <td>Cherbourg</td>\n",
       "      <td>1</td>\n",
       "      <td>0</td>\n",
       "      <td>0</td>\n",
       "      <td>1</td>\n",
       "      <td>0</td>\n",
       "      <td>0</td>\n",
       "      <td>0</td>\n",
       "      <td>0</td>\n",
       "      <td>0</td>\n",
       "      <td>0</td>\n",
       "    </tr>\n",
       "    <tr>\n",
       "      <th>165</th>\n",
       "      <td>1</td>\n",
       "      <td>3</td>\n",
       "      <td>male</td>\n",
       "      <td>9.0</td>\n",
       "      <td>0</td>\n",
       "      <td>2</td>\n",
       "      <td>20.5250</td>\n",
       "      <td>NaN</td>\n",
       "      <td>Southampton</td>\n",
       "      <td>0</td>\n",
       "      <td>0</td>\n",
       "      <td>1</td>\n",
       "      <td>1</td>\n",
       "      <td>0</td>\n",
       "      <td>0</td>\n",
       "      <td>0</td>\n",
       "      <td>0</td>\n",
       "      <td>0</td>\n",
       "      <td>0</td>\n",
       "    </tr>\n",
       "    <tr>\n",
       "      <th>50</th>\n",
       "      <td>0</td>\n",
       "      <td>3</td>\n",
       "      <td>male</td>\n",
       "      <td>7.0</td>\n",
       "      <td>4</td>\n",
       "      <td>1</td>\n",
       "      <td>39.6875</td>\n",
       "      <td>NaN</td>\n",
       "      <td>Southampton</td>\n",
       "      <td>0</td>\n",
       "      <td>0</td>\n",
       "      <td>1</td>\n",
       "      <td>1</td>\n",
       "      <td>0</td>\n",
       "      <td>0</td>\n",
       "      <td>0</td>\n",
       "      <td>0</td>\n",
       "      <td>0</td>\n",
       "      <td>0</td>\n",
       "    </tr>\n",
       "    <tr>\n",
       "      <th>259</th>\n",
       "      <td>1</td>\n",
       "      <td>2</td>\n",
       "      <td>female</td>\n",
       "      <td>50.0</td>\n",
       "      <td>0</td>\n",
       "      <td>1</td>\n",
       "      <td>26.0000</td>\n",
       "      <td>NaN</td>\n",
       "      <td>Southampton</td>\n",
       "      <td>0</td>\n",
       "      <td>0</td>\n",
       "      <td>1</td>\n",
       "      <td>0</td>\n",
       "      <td>0</td>\n",
       "      <td>0</td>\n",
       "      <td>0</td>\n",
       "      <td>0</td>\n",
       "      <td>0</td>\n",
       "      <td>0</td>\n",
       "    </tr>\n",
       "    <tr>\n",
       "      <th>306</th>\n",
       "      <td>1</td>\n",
       "      <td>1</td>\n",
       "      <td>female</td>\n",
       "      <td>NaN</td>\n",
       "      <td>0</td>\n",
       "      <td>0</td>\n",
       "      <td>110.8833</td>\n",
       "      <td>NaN</td>\n",
       "      <td>Cherbourg</td>\n",
       "      <td>1</td>\n",
       "      <td>0</td>\n",
       "      <td>0</td>\n",
       "      <td>0</td>\n",
       "      <td>0</td>\n",
       "      <td>0</td>\n",
       "      <td>0</td>\n",
       "      <td>0</td>\n",
       "      <td>0</td>\n",
       "      <td>0</td>\n",
       "    </tr>\n",
       "  </tbody>\n",
       "</table></div>"
      ],
      "text/plain": [
       "     survived  pclass     sex   age  sibsp  parch      fare deck  embark_town  \\\n",
       "583         0       1    male  36.0      0      0   40.1250    A    Cherbourg   \n",
       "165         1       3    male   9.0      0      2   20.5250  NaN  Southampton   \n",
       "50          0       3    male   7.0      4      1   39.6875  NaN  Southampton   \n",
       "259         1       2  female  50.0      0      1   26.0000  NaN  Southampton   \n",
       "306         1       1  female   NaN      0      0  110.8833  NaN    Cherbourg   \n",
       "\n",
       "     alone  embark_town_Queenstown  embark_town_Southampton  sex_male  deck_B  \\\n",
       "583      1                       0                        0         1       0   \n",
       "165      0                       0                        1         1       0   \n",
       "50       0                       0                        1         1       0   \n",
       "259      0                       0                        1         0       0   \n",
       "306      1                       0                        0         0       0   \n",
       "\n",
       "     deck_C  deck_D  deck_E  deck_F  deck_G  \n",
       "583       0       0       0       0       0  \n",
       "165       0       0       0       0       0  \n",
       "50        0       0       0       0       0  \n",
       "259       0       0       0       0       0  \n",
       "306       0       0       0       0       0  "
      ]
     },
     "execution_count": 4,
     "metadata": {},
     "output_type": "execute_result"
    }
   ],
   "source": [
    "train, validate, test = split.train_validate_test_split(df, 'survived')\n",
    "train.head()"
   ]
  },
  {
   "cell_type": "markdown",
   "id": "6118a19b",
   "metadata": {},
   "source": [
    "## 1. What is your baseline prediction? What is your baseline accuracy? remember: your baseline prediction for a classification problem is predicting the most prevalant class in the training dataset (the mode). When you make those predictions, what is your accuracy? This is your baseline accuracy."
   ]
  },
  {
   "cell_type": "code",
   "execution_count": 5,
   "id": "1cba7b50",
   "metadata": {},
   "outputs": [],
   "source": [
    "## the baseline prediction is the modal outcome:\n",
    "survival_odds = df.survived.mean()\n",
    "non_survival_odds = (1 - survival_odds)"
   ]
  },
  {
   "cell_type": "code",
   "execution_count": 6,
   "id": "6c3b3091",
   "metadata": {},
   "outputs": [
    {
     "data": {
      "text/plain": [
       "0.3838383838383838"
      ]
     },
     "execution_count": 6,
     "metadata": {},
     "output_type": "execute_result"
    }
   ],
   "source": [
    "survival_odds"
   ]
  },
  {
   "cell_type": "code",
   "execution_count": 7,
   "id": "ec2ae7ef",
   "metadata": {},
   "outputs": [
    {
     "data": {
      "text/plain": [
       "0.6161616161616161"
      ]
     },
     "execution_count": 7,
     "metadata": {},
     "output_type": "execute_result"
    }
   ],
   "source": [
    "non_survival_odds"
   ]
  },
  {
   "cell_type": "code",
   "execution_count": 8,
   "id": "1ae2cc24",
   "metadata": {},
   "outputs": [
    {
     "name": "stdout",
     "output_type": "stream",
     "text": [
      "The baseline prediction is that a given passenger on the Titanic will not survive\n"
     ]
    }
   ],
   "source": [
    "if non_survival_odds > survival_odds:\n",
    "    print(\"\"\"The baseline prediction is that a given passenger on the Titanic will not survive\"\"\")\n",
    "else:\n",
    "    print(\"\"\"The baseline prediction is that a given passenger on the Titanic will not survive\"\"\")"
   ]
  },
  {
   "cell_type": "code",
   "execution_count": 9,
   "id": "40e97b3e",
   "metadata": {},
   "outputs": [
    {
     "data": {
      "text/html": [
       "<div><div id=c65d8487-69dd-4d48-8686-4d5b3ae7811a style=\"display:none; background-color:#9D6CFF; color:white; width:200px; height:30px; padding-left:5px; border-radius:4px; flex-direction:row; justify-content:space-around; align-items:center;\" onmouseover=\"this.style.backgroundColor='#BA9BF8'\" onmouseout=\"this.style.backgroundColor='#9D6CFF'\" onclick=\"window.commands?.execute('create-mitosheet-from-dataframe-output');\">See Full Dataframe in Mito</div> <script> if (window.commands?.hasCommand('create-mitosheet-from-dataframe-output')) document.getElementById('c65d8487-69dd-4d48-8686-4d5b3ae7811a').style.display = 'flex' </script> <table border=\"1\" class=\"dataframe\">\n",
       "  <thead>\n",
       "    <tr style=\"text-align: right;\">\n",
       "      <th></th>\n",
       "      <th>survived</th>\n",
       "    </tr>\n",
       "  </thead>\n",
       "  <tbody>\n",
       "    <tr>\n",
       "      <th>583</th>\n",
       "      <td>0</td>\n",
       "    </tr>\n",
       "    <tr>\n",
       "      <th>165</th>\n",
       "      <td>1</td>\n",
       "    </tr>\n",
       "    <tr>\n",
       "      <th>50</th>\n",
       "      <td>0</td>\n",
       "    </tr>\n",
       "    <tr>\n",
       "      <th>259</th>\n",
       "      <td>1</td>\n",
       "    </tr>\n",
       "    <tr>\n",
       "      <th>306</th>\n",
       "      <td>1</td>\n",
       "    </tr>\n",
       "    <tr>\n",
       "      <th>...</th>\n",
       "      <td>...</td>\n",
       "    </tr>\n",
       "    <tr>\n",
       "      <th>313</th>\n",
       "      <td>0</td>\n",
       "    </tr>\n",
       "    <tr>\n",
       "      <th>636</th>\n",
       "      <td>0</td>\n",
       "    </tr>\n",
       "    <tr>\n",
       "      <th>222</th>\n",
       "      <td>0</td>\n",
       "    </tr>\n",
       "    <tr>\n",
       "      <th>485</th>\n",
       "      <td>0</td>\n",
       "    </tr>\n",
       "    <tr>\n",
       "      <th>744</th>\n",
       "      <td>1</td>\n",
       "    </tr>\n",
       "  </tbody>\n",
       "</table></div>"
      ],
      "text/plain": [
       "     survived\n",
       "583         0\n",
       "165         1\n",
       "50          0\n",
       "259         1\n",
       "306         1\n",
       "..        ...\n",
       "313         0\n",
       "636         0\n",
       "222         0\n",
       "485         0\n",
       "744         1\n",
       "\n",
       "[498 rows x 1 columns]"
      ]
     },
     "execution_count": 9,
     "metadata": {},
     "output_type": "execute_result"
    }
   ],
   "source": [
    "train_baseline = pd.DataFrame(train.survived)\n",
    "train_baseline"
   ]
  },
  {
   "cell_type": "code",
   "execution_count": 10,
   "id": "58bd5789",
   "metadata": {},
   "outputs": [
    {
     "data": {
      "text/html": [
       "<div><div id=ba4612ab-ee85-4d78-964d-4e541628e254 style=\"display:none; background-color:#9D6CFF; color:white; width:200px; height:30px; padding-left:5px; border-radius:4px; flex-direction:row; justify-content:space-around; align-items:center;\" onmouseover=\"this.style.backgroundColor='#BA9BF8'\" onmouseout=\"this.style.backgroundColor='#9D6CFF'\" onclick=\"window.commands?.execute('create-mitosheet-from-dataframe-output');\">See Full Dataframe in Mito</div> <script> if (window.commands?.hasCommand('create-mitosheet-from-dataframe-output')) document.getElementById('ba4612ab-ee85-4d78-964d-4e541628e254').style.display = 'flex' </script> <table border=\"1\" class=\"dataframe\">\n",
       "  <thead>\n",
       "    <tr style=\"text-align: right;\">\n",
       "      <th></th>\n",
       "      <th>survived</th>\n",
       "      <th>baseline</th>\n",
       "    </tr>\n",
       "  </thead>\n",
       "  <tbody>\n",
       "    <tr>\n",
       "      <th>583</th>\n",
       "      <td>0</td>\n",
       "      <td>0</td>\n",
       "    </tr>\n",
       "    <tr>\n",
       "      <th>165</th>\n",
       "      <td>1</td>\n",
       "      <td>0</td>\n",
       "    </tr>\n",
       "    <tr>\n",
       "      <th>50</th>\n",
       "      <td>0</td>\n",
       "      <td>0</td>\n",
       "    </tr>\n",
       "    <tr>\n",
       "      <th>259</th>\n",
       "      <td>1</td>\n",
       "      <td>0</td>\n",
       "    </tr>\n",
       "    <tr>\n",
       "      <th>306</th>\n",
       "      <td>1</td>\n",
       "      <td>0</td>\n",
       "    </tr>\n",
       "  </tbody>\n",
       "</table></div>"
      ],
      "text/plain": [
       "     survived  baseline\n",
       "583         0         0\n",
       "165         1         0\n",
       "50          0         0\n",
       "259         1         0\n",
       "306         1         0"
      ]
     },
     "execution_count": 10,
     "metadata": {},
     "output_type": "execute_result"
    }
   ],
   "source": [
    "train_baseline['baseline'] = 0\n",
    "train_baseline.head()"
   ]
  },
  {
   "cell_type": "code",
   "execution_count": 11,
   "id": "098bd4fd",
   "metadata": {},
   "outputs": [
    {
     "data": {
      "text/plain": [
       "0.62"
      ]
     },
     "execution_count": 11,
     "metadata": {},
     "output_type": "execute_result"
    }
   ],
   "source": [
    "# model accuracy\n",
    "(train_baseline.survived == train_baseline.baseline).mean().round(2)"
   ]
  },
  {
   "cell_type": "markdown",
   "id": "0a348cd5",
   "metadata": {},
   "source": [
    "## 2. Fit the decision tree classifier to your training sample and transform (i.e. make predictions on the training sample)"
   ]
  },
  {
   "cell_type": "code",
   "execution_count": 12,
   "id": "cb23d025",
   "metadata": {},
   "outputs": [
    {
     "data": {
      "text/plain": [
       "survived                     0\n",
       "pclass                       0\n",
       "sex                          0\n",
       "age                         97\n",
       "sibsp                        0\n",
       "parch                        0\n",
       "fare                         0\n",
       "deck                       392\n",
       "embark_town                  1\n",
       "alone                        0\n",
       "embark_town_Queenstown       0\n",
       "embark_town_Southampton      0\n",
       "sex_male                     0\n",
       "deck_B                       0\n",
       "deck_C                       0\n",
       "deck_D                       0\n",
       "deck_E                       0\n",
       "deck_F                       0\n",
       "deck_G                       0\n",
       "dtype: int64"
      ]
     },
     "execution_count": 12,
     "metadata": {},
     "output_type": "execute_result"
    }
   ],
   "source": [
    "train.isna().sum()"
   ]
  },
  {
   "cell_type": "code",
   "execution_count": 13,
   "id": "7b63137d",
   "metadata": {},
   "outputs": [
    {
     "data": {
      "text/html": [
       "<div><div id=b2c326c9-41af-4f67-b307-9a6ad4585b29 style=\"display:none; background-color:#9D6CFF; color:white; width:200px; height:30px; padding-left:5px; border-radius:4px; flex-direction:row; justify-content:space-around; align-items:center;\" onmouseover=\"this.style.backgroundColor='#BA9BF8'\" onmouseout=\"this.style.backgroundColor='#9D6CFF'\" onclick=\"window.commands?.execute('create-mitosheet-from-dataframe-output');\">See Full Dataframe in Mito</div> <script> if (window.commands?.hasCommand('create-mitosheet-from-dataframe-output')) document.getElementById('b2c326c9-41af-4f67-b307-9a6ad4585b29').style.display = 'flex' </script> <table border=\"1\" class=\"dataframe\">\n",
       "  <thead>\n",
       "    <tr style=\"text-align: right;\">\n",
       "      <th></th>\n",
       "      <th>survived</th>\n",
       "      <th>pclass</th>\n",
       "      <th>age</th>\n",
       "      <th>sibsp</th>\n",
       "      <th>parch</th>\n",
       "      <th>fare</th>\n",
       "      <th>alone</th>\n",
       "      <th>embark_town_Queenstown</th>\n",
       "      <th>embark_town_Southampton</th>\n",
       "      <th>sex_male</th>\n",
       "      <th>deck_B</th>\n",
       "      <th>deck_C</th>\n",
       "      <th>deck_D</th>\n",
       "      <th>deck_E</th>\n",
       "      <th>deck_F</th>\n",
       "      <th>deck_G</th>\n",
       "    </tr>\n",
       "  </thead>\n",
       "  <tbody>\n",
       "    <tr>\n",
       "      <th>583</th>\n",
       "      <td>0</td>\n",
       "      <td>1</td>\n",
       "      <td>36.0</td>\n",
       "      <td>0</td>\n",
       "      <td>0</td>\n",
       "      <td>40.1250</td>\n",
       "      <td>1</td>\n",
       "      <td>0</td>\n",
       "      <td>0</td>\n",
       "      <td>1</td>\n",
       "      <td>0</td>\n",
       "      <td>0</td>\n",
       "      <td>0</td>\n",
       "      <td>0</td>\n",
       "      <td>0</td>\n",
       "      <td>0</td>\n",
       "    </tr>\n",
       "    <tr>\n",
       "      <th>165</th>\n",
       "      <td>1</td>\n",
       "      <td>3</td>\n",
       "      <td>9.0</td>\n",
       "      <td>0</td>\n",
       "      <td>2</td>\n",
       "      <td>20.5250</td>\n",
       "      <td>0</td>\n",
       "      <td>0</td>\n",
       "      <td>1</td>\n",
       "      <td>1</td>\n",
       "      <td>0</td>\n",
       "      <td>0</td>\n",
       "      <td>0</td>\n",
       "      <td>0</td>\n",
       "      <td>0</td>\n",
       "      <td>0</td>\n",
       "    </tr>\n",
       "    <tr>\n",
       "      <th>50</th>\n",
       "      <td>0</td>\n",
       "      <td>3</td>\n",
       "      <td>7.0</td>\n",
       "      <td>4</td>\n",
       "      <td>1</td>\n",
       "      <td>39.6875</td>\n",
       "      <td>0</td>\n",
       "      <td>0</td>\n",
       "      <td>1</td>\n",
       "      <td>1</td>\n",
       "      <td>0</td>\n",
       "      <td>0</td>\n",
       "      <td>0</td>\n",
       "      <td>0</td>\n",
       "      <td>0</td>\n",
       "      <td>0</td>\n",
       "    </tr>\n",
       "    <tr>\n",
       "      <th>259</th>\n",
       "      <td>1</td>\n",
       "      <td>2</td>\n",
       "      <td>50.0</td>\n",
       "      <td>0</td>\n",
       "      <td>1</td>\n",
       "      <td>26.0000</td>\n",
       "      <td>0</td>\n",
       "      <td>0</td>\n",
       "      <td>1</td>\n",
       "      <td>0</td>\n",
       "      <td>0</td>\n",
       "      <td>0</td>\n",
       "      <td>0</td>\n",
       "      <td>0</td>\n",
       "      <td>0</td>\n",
       "      <td>0</td>\n",
       "    </tr>\n",
       "    <tr>\n",
       "      <th>306</th>\n",
       "      <td>1</td>\n",
       "      <td>1</td>\n",
       "      <td>NaN</td>\n",
       "      <td>0</td>\n",
       "      <td>0</td>\n",
       "      <td>110.8833</td>\n",
       "      <td>1</td>\n",
       "      <td>0</td>\n",
       "      <td>0</td>\n",
       "      <td>0</td>\n",
       "      <td>0</td>\n",
       "      <td>0</td>\n",
       "      <td>0</td>\n",
       "      <td>0</td>\n",
       "      <td>0</td>\n",
       "      <td>0</td>\n",
       "    </tr>\n",
       "  </tbody>\n",
       "</table></div>"
      ],
      "text/plain": [
       "     survived  pclass   age  sibsp  parch      fare  alone  \\\n",
       "583         0       1  36.0      0      0   40.1250      1   \n",
       "165         1       3   9.0      0      2   20.5250      0   \n",
       "50          0       3   7.0      4      1   39.6875      0   \n",
       "259         1       2  50.0      0      1   26.0000      0   \n",
       "306         1       1   NaN      0      0  110.8833      1   \n",
       "\n",
       "     embark_town_Queenstown  embark_town_Southampton  sex_male  deck_B  \\\n",
       "583                       0                        0         1       0   \n",
       "165                       0                        1         1       0   \n",
       "50                        0                        1         1       0   \n",
       "259                       0                        1         0       0   \n",
       "306                       0                        0         0       0   \n",
       "\n",
       "     deck_C  deck_D  deck_E  deck_F  deck_G  \n",
       "583       0       0       0       0       0  \n",
       "165       0       0       0       0       0  \n",
       "50        0       0       0       0       0  \n",
       "259       0       0       0       0       0  \n",
       "306       0       0       0       0       0  "
      ]
     },
     "execution_count": 13,
     "metadata": {},
     "output_type": "execute_result"
    }
   ],
   "source": [
    "#time to drop the unencoded, non-numerical columns\n",
    "train = train.drop(columns = ['sex', 'deck', 'embark_town'])\n",
    "validate = validate.drop(columns = ['sex', 'deck', 'embark_town'])\n",
    "test = test.drop(columns = ['sex', 'deck', 'embark_town'])\n",
    "\n",
    "train.head()"
   ]
  },
  {
   "cell_type": "code",
   "execution_count": 14,
   "id": "36115f33",
   "metadata": {},
   "outputs": [],
   "source": [
    "imputer = SimpleImputer(strategy='median', missing_values=np.nan)"
   ]
  },
  {
   "cell_type": "code",
   "execution_count": 15,
   "id": "b90e3397",
   "metadata": {},
   "outputs": [],
   "source": [
    "imputer = imputer.fit(train[['age']])"
   ]
  },
  {
   "cell_type": "code",
   "execution_count": 16,
   "id": "b02c44c0",
   "metadata": {},
   "outputs": [],
   "source": [
    "train[['age']] = imputer.transform(train[['age']])"
   ]
  },
  {
   "cell_type": "code",
   "execution_count": 17,
   "id": "0c20d29e",
   "metadata": {},
   "outputs": [],
   "source": [
    "#now impute age values to take care of nulls \n",
    "train[['age']] = imputer.transform(train[['age']])\n",
    "validate[['age']] = imputer.transform(validate[['age']])\n",
    "test[['age']] = imputer.transform(test[['age']])"
   ]
  },
  {
   "cell_type": "code",
   "execution_count": 18,
   "id": "89627802",
   "metadata": {},
   "outputs": [],
   "source": [
    "# Classification is supervied ML, so we seperate data and labels\n",
    "# first we need to split the datasets into x and y versions:\n",
    "# x version drops 'survived'\n",
    "# y version is only the survived column\n",
    "\n",
    "X_train = train.drop(columns = ['survived'])\n",
    "Y_train = train.survived\n",
    "\n",
    "X_validate = validate.drop(columns = ['survived'])\n",
    "Y_validate = validate.survived\n",
    "\n",
    "X_test = test.drop(columns = ['survived'])\n",
    "Y_test = test.survived"
   ]
  },
  {
   "cell_type": "code",
   "execution_count": 19,
   "id": "494ee938",
   "metadata": {},
   "outputs": [],
   "source": [
    "# now we fit the model to the training data\n",
    "clf = DecisionTreeClassifier(max_depth=4, random_state=123)"
   ]
  },
  {
   "cell_type": "code",
   "execution_count": 20,
   "id": "44fde5eb",
   "metadata": {},
   "outputs": [],
   "source": [
    "clf = clf.fit(X_train, Y_train)"
   ]
  },
  {
   "cell_type": "code",
   "execution_count": 21,
   "id": "ba74a498",
   "metadata": {},
   "outputs": [
    {
     "data": {
      "text/plain": [
       "[Text(462.024, 489.24, 'sex_male <= 0.5\\ngini = 0.473\\nsamples = 498\\nvalue = [307, 191]\\nclass = 0'),\n",
       " Text(220.96800000000002, 380.52000000000004, 'pclass <= 2.5\\ngini = 0.365\\nsamples = 175\\nvalue = [42, 133]\\nclass = 1'),\n",
       " Text(80.352, 271.8, 'age <= 3.0\\ngini = 0.081\\nsamples = 94\\nvalue = [4, 90]\\nclass = 1'),\n",
       " Text(40.176, 163.08000000000004, 'gini = 0.0\\nsamples = 1\\nvalue = [1, 0]\\nclass = 0'),\n",
       " Text(120.528, 163.08000000000004, 'fare <= 28.856\\ngini = 0.062\\nsamples = 93\\nvalue = [3, 90]\\nclass = 1'),\n",
       " Text(80.352, 54.360000000000014, 'gini = 0.133\\nsamples = 42\\nvalue = [3, 39]\\nclass = 1'),\n",
       " Text(160.704, 54.360000000000014, 'gini = 0.0\\nsamples = 51\\nvalue = [0, 51]\\nclass = 1'),\n",
       " Text(361.584, 271.8, 'fare <= 23.912\\ngini = 0.498\\nsamples = 81\\nvalue = [38, 43]\\nclass = 1'),\n",
       " Text(281.232, 163.08000000000004, 'age <= 35.0\\ngini = 0.476\\nsamples = 69\\nvalue = [27, 42]\\nclass = 1'),\n",
       " Text(241.056, 54.360000000000014, 'gini = 0.455\\nsamples = 63\\nvalue = [22, 41]\\nclass = 1'),\n",
       " Text(321.408, 54.360000000000014, 'gini = 0.278\\nsamples = 6\\nvalue = [5, 1]\\nclass = 0'),\n",
       " Text(441.93600000000004, 163.08000000000004, 'parch <= 4.0\\ngini = 0.153\\nsamples = 12\\nvalue = [11, 1]\\nclass = 0'),\n",
       " Text(401.76, 54.360000000000014, 'gini = 0.0\\nsamples = 10\\nvalue = [10, 0]\\nclass = 0'),\n",
       " Text(482.112, 54.360000000000014, 'gini = 0.5\\nsamples = 2\\nvalue = [1, 1]\\nclass = 0'),\n",
       " Text(703.08, 380.52000000000004, 'fare <= 18.275\\ngini = 0.295\\nsamples = 323\\nvalue = [265, 58]\\nclass = 0'),\n",
       " Text(562.464, 271.8, 'age <= 7.835\\ngini = 0.184\\nsamples = 205\\nvalue = [184, 21]\\nclass = 0'),\n",
       " Text(522.288, 163.08000000000004, 'gini = 0.0\\nsamples = 2\\nvalue = [0, 2]\\nclass = 1'),\n",
       " Text(602.64, 163.08000000000004, 'deck_D <= 0.5\\ngini = 0.17\\nsamples = 203\\nvalue = [184, 19]\\nclass = 0'),\n",
       " Text(562.464, 54.360000000000014, 'gini = 0.162\\nsamples = 202\\nvalue = [184, 18]\\nclass = 0'),\n",
       " Text(642.816, 54.360000000000014, 'gini = 0.0\\nsamples = 1\\nvalue = [0, 1]\\nclass = 1'),\n",
       " Text(843.696, 271.8, 'deck_E <= 0.5\\ngini = 0.43\\nsamples = 118\\nvalue = [81, 37]\\nclass = 0'),\n",
       " Text(763.344, 163.08000000000004, 'age <= 3.5\\ngini = 0.405\\nsamples = 110\\nvalue = [79, 31]\\nclass = 0'),\n",
       " Text(723.168, 54.360000000000014, 'gini = 0.48\\nsamples = 10\\nvalue = [4, 6]\\nclass = 1'),\n",
       " Text(803.52, 54.360000000000014, 'gini = 0.375\\nsamples = 100\\nvalue = [75, 25]\\nclass = 0'),\n",
       " Text(924.048, 163.08000000000004, 'age <= 44.0\\ngini = 0.375\\nsamples = 8\\nvalue = [2, 6]\\nclass = 1'),\n",
       " Text(883.8720000000001, 54.360000000000014, 'gini = 0.0\\nsamples = 5\\nvalue = [0, 5]\\nclass = 1'),\n",
       " Text(964.224, 54.360000000000014, 'gini = 0.444\\nsamples = 3\\nvalue = [2, 1]\\nclass = 0')]"
      ]
     },
     "execution_count": 21,
     "metadata": {},
     "output_type": "execute_result"
    },
    {
     "data": {
      "image/png": "[encoded data removed]",
      "text/plain": [
       "<Figure size 1296x720 with 1 Axes>"
      ]
     },
     "metadata": {
      "needs_background": "light"
     },
     "output_type": "display_data"
    }
   ],
   "source": [
    "plt.figure(figsize=(18, 10))\n",
    "plot_tree(clf, feature_names=X_train.columns, class_names=clf.classes_.astype(str), rounded=True)\n"
   ]
  },
  {
   "cell_type": "code",
   "execution_count": 22,
   "id": "e11ea89e",
   "metadata": {},
   "outputs": [
    {
     "data": {
      "text/plain": [
       "0    324\n",
       "1    174\n",
       "dtype: int64"
      ]
     },
     "execution_count": 22,
     "metadata": {},
     "output_type": "execute_result"
    }
   ],
   "source": [
    "#make predictions:\n",
    "survived_prediction = pd.DataFrame(clf.predict(X_train))\n",
    "survived_prediction.value_counts()"
   ]
  },
  {
   "cell_type": "code",
   "execution_count": 23,
   "id": "a998607c",
   "metadata": {},
   "outputs": [
    {
     "data": {
      "text/html": [
       "<div><div id=f8fa7841-eeb6-4fdc-8611-4c7913425885 style=\"display:none; background-color:#9D6CFF; color:white; width:200px; height:30px; padding-left:5px; border-radius:4px; flex-direction:row; justify-content:space-around; align-items:center;\" onmouseover=\"this.style.backgroundColor='#BA9BF8'\" onmouseout=\"this.style.backgroundColor='#9D6CFF'\" onclick=\"window.commands?.execute('create-mitosheet-from-dataframe-output');\">See Full Dataframe in Mito</div> <script> if (window.commands?.hasCommand('create-mitosheet-from-dataframe-output')) document.getElementById('f8fa7841-eeb6-4fdc-8611-4c7913425885').style.display = 'flex' </script> <table border=\"1\" class=\"dataframe\">\n",
       "  <thead>\n",
       "    <tr style=\"text-align: right;\">\n",
       "      <th></th>\n",
       "      <th>0</th>\n",
       "      <th>1</th>\n",
       "    </tr>\n",
       "  </thead>\n",
       "  <tbody>\n",
       "    <tr>\n",
       "      <th>0</th>\n",
       "      <td>0.750000</td>\n",
       "      <td>0.250000</td>\n",
       "    </tr>\n",
       "    <tr>\n",
       "      <th>1</th>\n",
       "      <td>0.750000</td>\n",
       "      <td>0.250000</td>\n",
       "    </tr>\n",
       "    <tr>\n",
       "      <th>2</th>\n",
       "      <td>0.750000</td>\n",
       "      <td>0.250000</td>\n",
       "    </tr>\n",
       "    <tr>\n",
       "      <th>3</th>\n",
       "      <td>0.071429</td>\n",
       "      <td>0.928571</td>\n",
       "    </tr>\n",
       "    <tr>\n",
       "      <th>4</th>\n",
       "      <td>0.000000</td>\n",
       "      <td>1.000000</td>\n",
       "    </tr>\n",
       "    <tr>\n",
       "      <th>...</th>\n",
       "      <td>...</td>\n",
       "      <td>...</td>\n",
       "    </tr>\n",
       "    <tr>\n",
       "      <th>493</th>\n",
       "      <td>0.910891</td>\n",
       "      <td>0.089109</td>\n",
       "    </tr>\n",
       "    <tr>\n",
       "      <th>494</th>\n",
       "      <td>0.910891</td>\n",
       "      <td>0.089109</td>\n",
       "    </tr>\n",
       "    <tr>\n",
       "      <th>495</th>\n",
       "      <td>0.910891</td>\n",
       "      <td>0.089109</td>\n",
       "    </tr>\n",
       "    <tr>\n",
       "      <th>496</th>\n",
       "      <td>1.000000</td>\n",
       "      <td>0.000000</td>\n",
       "    </tr>\n",
       "    <tr>\n",
       "      <th>497</th>\n",
       "      <td>0.910891</td>\n",
       "      <td>0.089109</td>\n",
       "    </tr>\n",
       "  </tbody>\n",
       "</table></div>"
      ],
      "text/plain": [
       "            0         1\n",
       "0    0.750000  0.250000\n",
       "1    0.750000  0.250000\n",
       "2    0.750000  0.250000\n",
       "3    0.071429  0.928571\n",
       "4    0.000000  1.000000\n",
       "..        ...       ...\n",
       "493  0.910891  0.089109\n",
       "494  0.910891  0.089109\n",
       "495  0.910891  0.089109\n",
       "496  1.000000  0.000000\n",
       "497  0.910891  0.089109\n",
       "\n",
       "[498 rows x 2 columns]"
      ]
     },
     "execution_count": 23,
     "metadata": {},
     "output_type": "execute_result"
    }
   ],
   "source": [
    "# Predict probability\n",
    "survival_prediction_proba = pd.DataFrame(clf.predict_proba(X_train))\n",
    "survival_prediction_proba"
   ]
  },
  {
   "cell_type": "markdown",
   "id": "b86158a8",
   "metadata": {},
   "source": [
    "## 3. Evaluate your in-sample results using the model score, confusion matrix, and classification report."
   ]
  },
  {
   "cell_type": "code",
   "execution_count": 24,
   "id": "7d7a1e2d",
   "metadata": {},
   "outputs": [
    {
     "name": "stdout",
     "output_type": "stream",
     "text": [
      "Accuracy of Decision Tree classifer on training set: 0.8493975903614458\n"
     ]
    }
   ],
   "source": [
    "# compute accuracy\n",
    "print(f\"Accuracy of Decision Tree classifer on training set: \"\\\n",
    "        f\"{clf.score(X_train, Y_train)}\")"
   ]
  },
  {
   "cell_type": "code",
   "execution_count": 25,
   "id": "7e6511a8",
   "metadata": {},
   "outputs": [
    {
     "data": {
      "text/plain": [
       "array([[278,  29],\n",
       "       [ 46, 145]])"
      ]
     },
     "execution_count": 25,
     "metadata": {},
     "output_type": "execute_result"
    }
   ],
   "source": [
    "# confusion matrix\n",
    "confusion_matrix(Y_train, survived_prediction)"
   ]
  },
  {
   "cell_type": "code",
   "execution_count": 26,
   "id": "186d9cf0",
   "metadata": {},
   "outputs": [
    {
     "data": {
      "text/plain": [
       "0    307\n",
       "1    191\n",
       "Name: survived, dtype: int64"
      ]
     },
     "execution_count": 26,
     "metadata": {},
     "output_type": "execute_result"
    }
   ],
   "source": [
    "Y_train.value_counts()"
   ]
  },
  {
   "cell_type": "code",
   "execution_count": 27,
   "id": "92c54e01",
   "metadata": {},
   "outputs": [
    {
     "data": {
      "text/html": [
       "<div><div id=36c016df-dc71-424f-9bf1-382410f61d16 style=\"display:none; background-color:#9D6CFF; color:white; width:200px; height:30px; padding-left:5px; border-radius:4px; flex-direction:row; justify-content:space-around; align-items:center;\" onmouseover=\"this.style.backgroundColor='#BA9BF8'\" onmouseout=\"this.style.backgroundColor='#9D6CFF'\" onclick=\"window.commands?.execute('create-mitosheet-from-dataframe-output');\">See Full Dataframe in Mito</div> <script> if (window.commands?.hasCommand('create-mitosheet-from-dataframe-output')) document.getElementById('36c016df-dc71-424f-9bf1-382410f61d16').style.display = 'flex' </script> <table border=\"1\" class=\"dataframe\">\n",
       "  <thead>\n",
       "    <tr style=\"text-align: right;\">\n",
       "      <th></th>\n",
       "      <th>0</th>\n",
       "      <th>1</th>\n",
       "    </tr>\n",
       "  </thead>\n",
       "  <tbody>\n",
       "    <tr>\n",
       "      <th>0</th>\n",
       "      <td>278</td>\n",
       "      <td>29</td>\n",
       "    </tr>\n",
       "    <tr>\n",
       "      <th>1</th>\n",
       "      <td>46</td>\n",
       "      <td>145</td>\n",
       "    </tr>\n",
       "  </tbody>\n",
       "</table></div>"
      ],
      "text/plain": [
       "     0    1\n",
       "0  278   29\n",
       "1   46  145"
      ]
     },
     "execution_count": 27,
     "metadata": {},
     "output_type": "execute_result"
    }
   ],
   "source": [
    "labels = sorted(Y_train.unique())\n",
    "\n",
    "pd.DataFrame(confusion_matrix(Y_train, survived_prediction), index=labels, columns=labels)"
   ]
  },
  {
   "cell_type": "code",
   "execution_count": 28,
   "id": "f558f7c4",
   "metadata": {},
   "outputs": [
    {
     "name": "stdout",
     "output_type": "stream",
     "text": [
      "              precision    recall  f1-score   support\n",
      "\n",
      "           0       0.86      0.91      0.88       307\n",
      "           1       0.83      0.76      0.79       191\n",
      "\n",
      "    accuracy                           0.85       498\n",
      "   macro avg       0.85      0.83      0.84       498\n",
      "weighted avg       0.85      0.85      0.85       498\n",
      "\n"
     ]
    }
   ],
   "source": [
    "#classification report\n",
    "print(classification_report(Y_train, survived_prediction))"
   ]
  },
  {
   "cell_type": "markdown",
   "id": "916db2e3",
   "metadata": {},
   "source": [
    "## 4. Compute: Accuracy, true positive rate, false positive rate, true negative rate, false negative rate, precision, recall, f1-score, and support."
   ]
  },
  {
   "cell_type": "code",
   "execution_count": 29,
   "id": "7869a8e4",
   "metadata": {},
   "outputs": [
    {
     "name": "stdout",
     "output_type": "stream",
     "text": [
      "Accuracy of Decision Tree classifer on training set: 0.8493975903614458\n"
     ]
    }
   ],
   "source": [
    "# compute accuracy\n",
    "print(f\"Accuracy of Decision Tree classifer on training set: \"\\\n",
    "        f\"{clf.score(X_train, Y_train)}\")"
   ]
  },
  {
   "cell_type": "code",
   "execution_count": 30,
   "id": "398e8050",
   "metadata": {},
   "outputs": [],
   "source": [
    "# true positive rate is the same as recall\n",
    "# Recall (True pos/ true pos + False neg) = 0.91 for deceased passengers, \n",
    "# 0.76 for survivors\n",
    "\n",
    "# Precision (True pos/true pos + False pos) = 0.86 for deceased, \n",
    "# 0.83 for survivors"
   ]
  },
  {
   "cell_type": "markdown",
   "id": "f86df47a",
   "metadata": {},
   "source": [
    "## 5. Run through steps 2-4 using a different max_depth value."
   ]
  },
  {
   "cell_type": "code",
   "execution_count": 31,
   "id": "c56c5064",
   "metadata": {},
   "outputs": [],
   "source": [
    "# now we fit the model to the training data\n",
    "clf = DecisionTreeClassifier(max_depth=5, random_state=123)\n",
    "\n",
    "clf = clf.fit(X_train, Y_train)"
   ]
  },
  {
   "cell_type": "code",
   "execution_count": 32,
   "id": "7fc29608",
   "metadata": {},
   "outputs": [
    {
     "data": {
      "text/plain": [
       "[Text(447.271875, 498.3, 'sex_male <= 0.5\\ngini = 0.473\\nsamples = 498\\nvalue = [307, 191]\\nclass = 0'),\n",
       " Text(196.17187500000003, 407.70000000000005, 'pclass <= 2.5\\ngini = 0.365\\nsamples = 175\\nvalue = [42, 133]\\nclass = 1'),\n",
       " Text(62.775000000000006, 317.1, 'age <= 3.0\\ngini = 0.081\\nsamples = 94\\nvalue = [4, 90]\\nclass = 1'),\n",
       " Text(31.387500000000003, 226.5, 'gini = 0.0\\nsamples = 1\\nvalue = [1, 0]\\nclass = 0'),\n",
       " Text(94.16250000000001, 226.5, 'fare <= 28.856\\ngini = 0.062\\nsamples = 93\\nvalue = [3, 90]\\nclass = 1'),\n",
       " Text(62.775000000000006, 135.89999999999998, 'fare <= 28.231\\ngini = 0.133\\nsamples = 42\\nvalue = [3, 39]\\nclass = 1'),\n",
       " Text(31.387500000000003, 45.299999999999955, 'gini = 0.093\\nsamples = 41\\nvalue = [2, 39]\\nclass = 1'),\n",
       " Text(94.16250000000001, 45.299999999999955, 'gini = 0.0\\nsamples = 1\\nvalue = [1, 0]\\nclass = 0'),\n",
       " Text(125.55000000000001, 135.89999999999998, 'gini = 0.0\\nsamples = 51\\nvalue = [0, 51]\\nclass = 1'),\n",
       " Text(329.56875, 317.1, 'fare <= 23.912\\ngini = 0.498\\nsamples = 81\\nvalue = [38, 43]\\nclass = 1'),\n",
       " Text(251.10000000000002, 226.5, 'age <= 35.0\\ngini = 0.476\\nsamples = 69\\nvalue = [27, 42]\\nclass = 1'),\n",
       " Text(188.32500000000002, 135.89999999999998, 'embark_town_Queenstown <= 0.5\\ngini = 0.455\\nsamples = 63\\nvalue = [22, 41]\\nclass = 1'),\n",
       " Text(156.9375, 45.299999999999955, 'gini = 0.487\\nsamples = 43\\nvalue = [18, 25]\\nclass = 1'),\n",
       " Text(219.71250000000003, 45.299999999999955, 'gini = 0.32\\nsamples = 20\\nvalue = [4, 16]\\nclass = 1'),\n",
       " Text(313.875, 135.89999999999998, 'age <= 55.0\\ngini = 0.278\\nsamples = 6\\nvalue = [5, 1]\\nclass = 0'),\n",
       " Text(282.4875, 45.299999999999955, 'gini = 0.0\\nsamples = 5\\nvalue = [5, 0]\\nclass = 0'),\n",
       " Text(345.26250000000005, 45.299999999999955, 'gini = 0.0\\nsamples = 1\\nvalue = [0, 1]\\nclass = 1'),\n",
       " Text(408.0375, 226.5, 'parch <= 4.0\\ngini = 0.153\\nsamples = 12\\nvalue = [11, 1]\\nclass = 0'),\n",
       " Text(376.65000000000003, 135.89999999999998, 'gini = 0.0\\nsamples = 10\\nvalue = [10, 0]\\nclass = 0'),\n",
       " Text(439.42500000000007, 135.89999999999998, 'fare <= 35.538\\ngini = 0.5\\nsamples = 2\\nvalue = [1, 1]\\nclass = 0'),\n",
       " Text(408.0375, 45.299999999999955, 'gini = 0.0\\nsamples = 1\\nvalue = [0, 1]\\nclass = 1'),\n",
       " Text(470.81250000000006, 45.299999999999955, 'gini = 0.0\\nsamples = 1\\nvalue = [1, 0]\\nclass = 0'),\n",
       " Text(698.371875, 407.70000000000005, 'fare <= 18.275\\ngini = 0.295\\nsamples = 323\\nvalue = [265, 58]\\nclass = 0'),\n",
       " Text(564.975, 317.1, 'age <= 7.835\\ngini = 0.184\\nsamples = 205\\nvalue = [184, 21]\\nclass = 0'),\n",
       " Text(533.5875000000001, 226.5, 'gini = 0.0\\nsamples = 2\\nvalue = [0, 2]\\nclass = 1'),\n",
       " Text(596.3625000000001, 226.5, 'deck_D <= 0.5\\ngini = 0.17\\nsamples = 203\\nvalue = [184, 19]\\nclass = 0'),\n",
       " Text(564.975, 135.89999999999998, 'fare <= 13.25\\ngini = 0.162\\nsamples = 202\\nvalue = [184, 18]\\nclass = 0'),\n",
       " Text(533.5875000000001, 45.299999999999955, 'gini = 0.175\\nsamples = 186\\nvalue = [168, 18]\\nclass = 0'),\n",
       " Text(596.3625000000001, 45.299999999999955, 'gini = 0.0\\nsamples = 16\\nvalue = [16, 0]\\nclass = 0'),\n",
       " Text(627.75, 135.89999999999998, 'gini = 0.0\\nsamples = 1\\nvalue = [0, 1]\\nclass = 1'),\n",
       " Text(831.7687500000001, 317.1, 'deck_E <= 0.5\\ngini = 0.43\\nsamples = 118\\nvalue = [81, 37]\\nclass = 0'),\n",
       " Text(753.3000000000001, 226.5, 'age <= 3.5\\ngini = 0.405\\nsamples = 110\\nvalue = [79, 31]\\nclass = 0'),\n",
       " Text(690.5250000000001, 135.89999999999998, 'sibsp <= 2.5\\ngini = 0.48\\nsamples = 10\\nvalue = [4, 6]\\nclass = 1'),\n",
       " Text(659.1375, 45.299999999999955, 'gini = 0.0\\nsamples = 5\\nvalue = [0, 5]\\nclass = 1'),\n",
       " Text(721.9125, 45.299999999999955, 'gini = 0.32\\nsamples = 5\\nvalue = [4, 1]\\nclass = 0'),\n",
       " Text(816.075, 135.89999999999998, 'pclass <= 1.5\\ngini = 0.375\\nsamples = 100\\nvalue = [75, 25]\\nclass = 0'),\n",
       " Text(784.6875000000001, 45.299999999999955, 'gini = 0.437\\nsamples = 59\\nvalue = [40, 19]\\nclass = 0'),\n",
       " Text(847.4625000000001, 45.299999999999955, 'gini = 0.25\\nsamples = 41\\nvalue = [35, 6]\\nclass = 0'),\n",
       " Text(910.2375000000001, 226.5, 'age <= 44.0\\ngini = 0.375\\nsamples = 8\\nvalue = [2, 6]\\nclass = 1'),\n",
       " Text(878.8500000000001, 135.89999999999998, 'gini = 0.0\\nsamples = 5\\nvalue = [0, 5]\\nclass = 1'),\n",
       " Text(941.6250000000001, 135.89999999999998, 'alone <= 0.5\\ngini = 0.444\\nsamples = 3\\nvalue = [2, 1]\\nclass = 0'),\n",
       " Text(910.2375000000001, 45.299999999999955, 'gini = 0.0\\nsamples = 1\\nvalue = [1, 0]\\nclass = 0'),\n",
       " Text(973.0125, 45.299999999999955, 'gini = 0.5\\nsamples = 2\\nvalue = [1, 1]\\nclass = 0')]"
      ]
     },
     "execution_count": 32,
     "metadata": {},
     "output_type": "execute_result"
    },
    {
     "data": {
      "image/png": "[encoded data removed]",
      "text/plain": [
       "<Figure size 1296x720 with 1 Axes>"
      ]
     },
     "metadata": {
      "needs_background": "light"
     },
     "output_type": "display_data"
    }
   ],
   "source": [
    "plt.figure(figsize=(18, 10))\n",
    "plot_tree(clf, feature_names=X_train.columns, class_names=clf.classes_.astype(str), rounded=True)"
   ]
  },
  {
   "cell_type": "code",
   "execution_count": 33,
   "id": "c4636075",
   "metadata": {},
   "outputs": [
    {
     "data": {
      "text/plain": [
       "0    328\n",
       "1    170\n",
       "dtype: int64"
      ]
     },
     "execution_count": 33,
     "metadata": {},
     "output_type": "execute_result"
    }
   ],
   "source": [
    "#make predictions:\n",
    "survived_prediction = pd.DataFrame(clf.predict(X_train))\n",
    "survived_prediction.value_counts()"
   ]
  },
  {
   "cell_type": "code",
   "execution_count": 34,
   "id": "ed9d3020",
   "metadata": {},
   "outputs": [
    {
     "data": {
      "text/html": [
       "<div><div id=4574cfd5-691d-4b0f-8fff-1768edde79bd style=\"display:none; background-color:#9D6CFF; color:white; width:200px; height:30px; padding-left:5px; border-radius:4px; flex-direction:row; justify-content:space-around; align-items:center;\" onmouseover=\"this.style.backgroundColor='#BA9BF8'\" onmouseout=\"this.style.backgroundColor='#9D6CFF'\" onclick=\"window.commands?.execute('create-mitosheet-from-dataframe-output');\">See Full Dataframe in Mito</div> <script> if (window.commands?.hasCommand('create-mitosheet-from-dataframe-output')) document.getElementById('4574cfd5-691d-4b0f-8fff-1768edde79bd').style.display = 'flex' </script> <table border=\"1\" class=\"dataframe\">\n",
       "  <thead>\n",
       "    <tr style=\"text-align: right;\">\n",
       "      <th></th>\n",
       "      <th>0</th>\n",
       "      <th>1</th>\n",
       "    </tr>\n",
       "  </thead>\n",
       "  <tbody>\n",
       "    <tr>\n",
       "      <th>0</th>\n",
       "      <td>0.677966</td>\n",
       "      <td>0.322034</td>\n",
       "    </tr>\n",
       "    <tr>\n",
       "      <th>1</th>\n",
       "      <td>0.853659</td>\n",
       "      <td>0.146341</td>\n",
       "    </tr>\n",
       "    <tr>\n",
       "      <th>2</th>\n",
       "      <td>0.853659</td>\n",
       "      <td>0.146341</td>\n",
       "    </tr>\n",
       "    <tr>\n",
       "      <th>3</th>\n",
       "      <td>0.048780</td>\n",
       "      <td>0.951220</td>\n",
       "    </tr>\n",
       "    <tr>\n",
       "      <th>4</th>\n",
       "      <td>0.000000</td>\n",
       "      <td>1.000000</td>\n",
       "    </tr>\n",
       "    <tr>\n",
       "      <th>...</th>\n",
       "      <td>...</td>\n",
       "      <td>...</td>\n",
       "    </tr>\n",
       "    <tr>\n",
       "      <th>493</th>\n",
       "      <td>0.903226</td>\n",
       "      <td>0.096774</td>\n",
       "    </tr>\n",
       "    <tr>\n",
       "      <th>494</th>\n",
       "      <td>0.903226</td>\n",
       "      <td>0.096774</td>\n",
       "    </tr>\n",
       "    <tr>\n",
       "      <th>495</th>\n",
       "      <td>0.903226</td>\n",
       "      <td>0.096774</td>\n",
       "    </tr>\n",
       "    <tr>\n",
       "      <th>496</th>\n",
       "      <td>1.000000</td>\n",
       "      <td>0.000000</td>\n",
       "    </tr>\n",
       "    <tr>\n",
       "      <th>497</th>\n",
       "      <td>0.903226</td>\n",
       "      <td>0.096774</td>\n",
       "    </tr>\n",
       "  </tbody>\n",
       "</table></div>"
      ],
      "text/plain": [
       "            0         1\n",
       "0    0.677966  0.322034\n",
       "1    0.853659  0.146341\n",
       "2    0.853659  0.146341\n",
       "3    0.048780  0.951220\n",
       "4    0.000000  1.000000\n",
       "..        ...       ...\n",
       "493  0.903226  0.096774\n",
       "494  0.903226  0.096774\n",
       "495  0.903226  0.096774\n",
       "496  1.000000  0.000000\n",
       "497  0.903226  0.096774\n",
       "\n",
       "[498 rows x 2 columns]"
      ]
     },
     "execution_count": 34,
     "metadata": {},
     "output_type": "execute_result"
    }
   ],
   "source": [
    "# Predict probability\n",
    "survival_prediction_proba = pd.DataFrame(clf.predict_proba(X_train))\n",
    "survival_prediction_proba"
   ]
  },
  {
   "cell_type": "code",
   "execution_count": 35,
   "id": "fea64c70",
   "metadata": {},
   "outputs": [
    {
     "name": "stdout",
     "output_type": "stream",
     "text": [
      "Accuracy of Decision Tree classifer on training set: 0.8614457831325302\n"
     ]
    }
   ],
   "source": [
    "# compute accuracy\n",
    "print(f\"Accuracy of Decision Tree classifer on training set: \"\\\n",
    "        f\"{clf.score(X_train, Y_train)}\")"
   ]
  },
  {
   "cell_type": "code",
   "execution_count": 36,
   "id": "28cdf223",
   "metadata": {},
   "outputs": [
    {
     "data": {
      "text/plain": [
       "array([[283,  24],\n",
       "       [ 45, 146]])"
      ]
     },
     "execution_count": 36,
     "metadata": {},
     "output_type": "execute_result"
    }
   ],
   "source": [
    "# confusion matrix\n",
    "confusion_matrix(Y_train, survived_prediction)"
   ]
  },
  {
   "cell_type": "code",
   "execution_count": 37,
   "id": "3be1f385",
   "metadata": {},
   "outputs": [
    {
     "data": {
      "text/plain": [
       "0    307\n",
       "1    191\n",
       "Name: survived, dtype: int64"
      ]
     },
     "execution_count": 37,
     "metadata": {},
     "output_type": "execute_result"
    }
   ],
   "source": [
    "Y_train.value_counts()"
   ]
  },
  {
   "cell_type": "code",
   "execution_count": 38,
   "id": "ec47a4a2",
   "metadata": {},
   "outputs": [
    {
     "data": {
      "text/html": [
       "<div><div id=d3704104-4acf-4314-8a25-6bc22f2aeda1 style=\"display:none; background-color:#9D6CFF; color:white; width:200px; height:30px; padding-left:5px; border-radius:4px; flex-direction:row; justify-content:space-around; align-items:center;\" onmouseover=\"this.style.backgroundColor='#BA9BF8'\" onmouseout=\"this.style.backgroundColor='#9D6CFF'\" onclick=\"window.commands?.execute('create-mitosheet-from-dataframe-output');\">See Full Dataframe in Mito</div> <script> if (window.commands?.hasCommand('create-mitosheet-from-dataframe-output')) document.getElementById('d3704104-4acf-4314-8a25-6bc22f2aeda1').style.display = 'flex' </script> <table border=\"1\" class=\"dataframe\">\n",
       "  <thead>\n",
       "    <tr style=\"text-align: right;\">\n",
       "      <th></th>\n",
       "      <th>0</th>\n",
       "      <th>1</th>\n",
       "    </tr>\n",
       "  </thead>\n",
       "  <tbody>\n",
       "    <tr>\n",
       "      <th>0</th>\n",
       "      <td>283</td>\n",
       "      <td>24</td>\n",
       "    </tr>\n",
       "    <tr>\n",
       "      <th>1</th>\n",
       "      <td>45</td>\n",
       "      <td>146</td>\n",
       "    </tr>\n",
       "  </tbody>\n",
       "</table></div>"
      ],
      "text/plain": [
       "     0    1\n",
       "0  283   24\n",
       "1   45  146"
      ]
     },
     "execution_count": 38,
     "metadata": {},
     "output_type": "execute_result"
    }
   ],
   "source": [
    "labels = sorted(Y_train.unique())\n",
    "\n",
    "pd.DataFrame(confusion_matrix(Y_train, survived_prediction), index=labels, columns=labels)"
   ]
  },
  {
   "cell_type": "code",
   "execution_count": 39,
   "id": "dad166a5",
   "metadata": {},
   "outputs": [
    {
     "name": "stdout",
     "output_type": "stream",
     "text": [
      "              precision    recall  f1-score   support\n",
      "\n",
      "           0       0.86      0.92      0.89       307\n",
      "           1       0.86      0.76      0.81       191\n",
      "\n",
      "    accuracy                           0.86       498\n",
      "   macro avg       0.86      0.84      0.85       498\n",
      "weighted avg       0.86      0.86      0.86       498\n",
      "\n"
     ]
    }
   ],
   "source": [
    "#classification report\n",
    "print(classification_report(Y_train, survived_prediction))"
   ]
  },
  {
   "cell_type": "markdown",
   "id": "7a272848",
   "metadata": {},
   "source": [
    "## 6. Which model performs better on your in-sample data?\n",
    "\n",
    "### Scores in sample all improve with additional max_depth (5 vs 4)."
   ]
  },
  {
   "cell_type": "markdown",
   "id": "3b12b5d1",
   "metadata": {},
   "source": [
    "## 7. Which model performs best on your out-of-sample data, the validate set?"
   ]
  },
  {
   "cell_type": "markdown",
   "id": "55bda05d",
   "metadata": {},
   "source": [
    "## A. MAX DEPTH level 5"
   ]
  },
  {
   "cell_type": "code",
   "execution_count": 40,
   "id": "5328ea49",
   "metadata": {},
   "outputs": [],
   "source": [
    "# MAX DEPTH: 5\n",
    "# now we fit the model to the validate data\n",
    "clf = DecisionTreeClassifier(max_depth=5, random_state=123)\n",
    "\n",
    "clf = clf.fit(X_validate, Y_validate)"
   ]
  },
  {
   "cell_type": "code",
   "execution_count": 41,
   "id": "be3ccf4c",
   "metadata": {},
   "outputs": [
    {
     "data": {
      "text/plain": [
       "[Text(467.5655172413793, 498.3, 'sex_male <= 0.5\\ngini = 0.473\\nsamples = 214\\nvalue = [132, 82]\\nclass = 0'),\n",
       " Text(233.78275862068966, 407.70000000000005, 'pclass <= 2.5\\ngini = 0.419\\nsamples = 77\\nvalue = [23, 54]\\nclass = 1'),\n",
       " Text(138.53793103448277, 317.1, 'age <= 55.0\\ngini = 0.184\\nsamples = 39\\nvalue = [4, 35]\\nclass = 1'),\n",
       " Text(103.90344827586208, 226.5, 'fare <= 28.5\\ngini = 0.145\\nsamples = 38\\nvalue = [3, 35]\\nclass = 1'),\n",
       " Text(69.26896551724138, 135.89999999999998, 'age <= 37.0\\ngini = 0.337\\nsamples = 14\\nvalue = [3, 11]\\nclass = 1'),\n",
       " Text(34.63448275862069, 45.299999999999955, 'gini = 0.198\\nsamples = 9\\nvalue = [1, 8]\\nclass = 1'),\n",
       " Text(103.90344827586208, 45.299999999999955, 'gini = 0.48\\nsamples = 5\\nvalue = [2, 3]\\nclass = 1'),\n",
       " Text(138.53793103448277, 135.89999999999998, 'gini = 0.0\\nsamples = 24\\nvalue = [0, 24]\\nclass = 1'),\n",
       " Text(173.17241379310346, 226.5, 'gini = 0.0\\nsamples = 1\\nvalue = [1, 0]\\nclass = 0'),\n",
       " Text(329.02758620689656, 317.1, 'embark_town_Southampton <= 0.5\\ngini = 0.5\\nsamples = 38\\nvalue = [19, 19]\\nclass = 0'),\n",
       " Text(242.44137931034484, 226.5, 'age <= 30.5\\ngini = 0.298\\nsamples = 11\\nvalue = [2, 9]\\nclass = 1'),\n",
       " Text(207.80689655172415, 135.89999999999998, 'fare <= 7.79\\ngini = 0.18\\nsamples = 10\\nvalue = [1, 9]\\nclass = 1'),\n",
       " Text(173.17241379310346, 45.299999999999955, 'gini = 0.444\\nsamples = 3\\nvalue = [1, 2]\\nclass = 1'),\n",
       " Text(242.44137931034484, 45.299999999999955, 'gini = 0.0\\nsamples = 7\\nvalue = [0, 7]\\nclass = 1'),\n",
       " Text(277.07586206896553, 135.89999999999998, 'gini = 0.0\\nsamples = 1\\nvalue = [1, 0]\\nclass = 0'),\n",
       " Text(415.6137931034483, 226.5, 'fare <= 20.663\\ngini = 0.466\\nsamples = 27\\nvalue = [17, 10]\\nclass = 0'),\n",
       " Text(346.3448275862069, 135.89999999999998, 'fare <= 11.469\\ngini = 0.5\\nsamples = 18\\nvalue = [9, 9]\\nclass = 0'),\n",
       " Text(311.71034482758625, 45.299999999999955, 'gini = 0.444\\nsamples = 12\\nvalue = [8, 4]\\nclass = 0'),\n",
       " Text(380.9793103448276, 45.299999999999955, 'gini = 0.278\\nsamples = 6\\nvalue = [1, 5]\\nclass = 1'),\n",
       " Text(484.8827586206897, 135.89999999999998, 'age <= 5.5\\ngini = 0.198\\nsamples = 9\\nvalue = [8, 1]\\nclass = 0'),\n",
       " Text(450.248275862069, 45.299999999999955, 'gini = 0.5\\nsamples = 2\\nvalue = [1, 1]\\nclass = 0'),\n",
       " Text(519.5172413793103, 45.299999999999955, 'gini = 0.0\\nsamples = 7\\nvalue = [7, 0]\\nclass = 0'),\n",
       " Text(701.348275862069, 407.70000000000005, 'age <= 9.5\\ngini = 0.325\\nsamples = 137\\nvalue = [109, 28]\\nclass = 0'),\n",
       " Text(588.7862068965518, 317.1, 'sibsp <= 2.5\\ngini = 0.42\\nsamples = 10\\nvalue = [3, 7]\\nclass = 1'),\n",
       " Text(554.1517241379311, 226.5, 'gini = 0.0\\nsamples = 7\\nvalue = [0, 7]\\nclass = 1'),\n",
       " Text(623.4206896551725, 226.5, 'gini = 0.0\\nsamples = 3\\nvalue = [3, 0]\\nclass = 0'),\n",
       " Text(813.9103448275863, 317.1, 'fare <= 54.798\\ngini = 0.276\\nsamples = 127\\nvalue = [106, 21]\\nclass = 0'),\n",
       " Text(692.6896551724138, 226.5, 'embark_town_Southampton <= 0.5\\ngini = 0.227\\nsamples = 115\\nvalue = [100, 15]\\nclass = 0'),\n",
       " Text(623.4206896551725, 135.89999999999998, 'fare <= 7.744\\ngini = 0.383\\nsamples = 31\\nvalue = [23, 8]\\nclass = 0'),\n",
       " Text(588.7862068965518, 45.299999999999955, 'gini = 0.142\\nsamples = 13\\nvalue = [12, 1]\\nclass = 0'),\n",
       " Text(658.0551724137931, 45.299999999999955, 'gini = 0.475\\nsamples = 18\\nvalue = [11, 7]\\nclass = 0'),\n",
       " Text(761.9586206896552, 135.89999999999998, 'deck_C <= 0.5\\ngini = 0.153\\nsamples = 84\\nvalue = [77, 7]\\nclass = 0'),\n",
       " Text(727.3241379310346, 45.299999999999955, 'gini = 0.136\\nsamples = 82\\nvalue = [76, 6]\\nclass = 0'),\n",
       " Text(796.5931034482759, 45.299999999999955, 'gini = 0.5\\nsamples = 2\\nvalue = [1, 1]\\nclass = 0'),\n",
       " Text(935.1310344827587, 226.5, 'age <= 49.5\\ngini = 0.5\\nsamples = 12\\nvalue = [6, 6]\\nclass = 0'),\n",
       " Text(900.496551724138, 135.89999999999998, 'age <= 29.5\\ngini = 0.375\\nsamples = 8\\nvalue = [2, 6]\\nclass = 1'),\n",
       " Text(865.8620689655173, 45.299999999999955, 'gini = 0.444\\nsamples = 3\\nvalue = [2, 1]\\nclass = 0'),\n",
       " Text(935.1310344827587, 45.299999999999955, 'gini = 0.0\\nsamples = 5\\nvalue = [0, 5]\\nclass = 1'),\n",
       " Text(969.7655172413794, 135.89999999999998, 'gini = 0.0\\nsamples = 4\\nvalue = [4, 0]\\nclass = 0')]"
      ]
     },
     "execution_count": 41,
     "metadata": {},
     "output_type": "execute_result"
    },
    {
     "data": {
      "image/png": "[encoded data removed]",
      "text/plain": [
       "<Figure size 1296x720 with 1 Axes>"
      ]
     },
     "metadata": {
      "needs_background": "light"
     },
     "output_type": "display_data"
    }
   ],
   "source": [
    "plt.figure(figsize=(18, 10))\n",
    "plot_tree(clf, feature_names=X_validate.columns, class_names=clf.classes_.astype(str), rounded=True)"
   ]
  },
  {
   "cell_type": "code",
   "execution_count": 42,
   "id": "62c6751c",
   "metadata": {},
   "outputs": [
    {
     "data": {
      "text/plain": [
       "0    148\n",
       "1     66\n",
       "dtype: int64"
      ]
     },
     "execution_count": 42,
     "metadata": {},
     "output_type": "execute_result"
    }
   ],
   "source": [
    "#make predictions:\n",
    "survived_prediction = pd.DataFrame(clf.predict(X_validate))\n",
    "survived_prediction.value_counts()"
   ]
  },
  {
   "cell_type": "code",
   "execution_count": 43,
   "id": "d3d31cc5",
   "metadata": {},
   "outputs": [
    {
     "data": {
      "text/html": [
       "<div><div id=6ecd3b4e-0406-4e4c-8876-8bc16e788bcc style=\"display:none; background-color:#9D6CFF; color:white; width:200px; height:30px; padding-left:5px; border-radius:4px; flex-direction:row; justify-content:space-around; align-items:center;\" onmouseover=\"this.style.backgroundColor='#BA9BF8'\" onmouseout=\"this.style.backgroundColor='#9D6CFF'\" onclick=\"window.commands?.execute('create-mitosheet-from-dataframe-output');\">See Full Dataframe in Mito</div> <script> if (window.commands?.hasCommand('create-mitosheet-from-dataframe-output')) document.getElementById('6ecd3b4e-0406-4e4c-8876-8bc16e788bcc').style.display = 'flex' </script> <table border=\"1\" class=\"dataframe\">\n",
       "  <thead>\n",
       "    <tr style=\"text-align: right;\">\n",
       "      <th></th>\n",
       "      <th>0</th>\n",
       "      <th>1</th>\n",
       "    </tr>\n",
       "  </thead>\n",
       "  <tbody>\n",
       "    <tr>\n",
       "      <th>0</th>\n",
       "      <td>1.000000</td>\n",
       "      <td>0.000000</td>\n",
       "    </tr>\n",
       "    <tr>\n",
       "      <th>1</th>\n",
       "      <td>0.926829</td>\n",
       "      <td>0.073171</td>\n",
       "    </tr>\n",
       "    <tr>\n",
       "      <th>2</th>\n",
       "      <td>0.923077</td>\n",
       "      <td>0.076923</td>\n",
       "    </tr>\n",
       "    <tr>\n",
       "      <th>3</th>\n",
       "      <td>0.000000</td>\n",
       "      <td>1.000000</td>\n",
       "    </tr>\n",
       "    <tr>\n",
       "      <th>4</th>\n",
       "      <td>0.926829</td>\n",
       "      <td>0.073171</td>\n",
       "    </tr>\n",
       "    <tr>\n",
       "      <th>...</th>\n",
       "      <td>...</td>\n",
       "      <td>...</td>\n",
       "    </tr>\n",
       "    <tr>\n",
       "      <th>209</th>\n",
       "      <td>0.926829</td>\n",
       "      <td>0.073171</td>\n",
       "    </tr>\n",
       "    <tr>\n",
       "      <th>210</th>\n",
       "      <td>0.926829</td>\n",
       "      <td>0.073171</td>\n",
       "    </tr>\n",
       "    <tr>\n",
       "      <th>211</th>\n",
       "      <td>0.000000</td>\n",
       "      <td>1.000000</td>\n",
       "    </tr>\n",
       "    <tr>\n",
       "      <th>212</th>\n",
       "      <td>0.400000</td>\n",
       "      <td>0.600000</td>\n",
       "    </tr>\n",
       "    <tr>\n",
       "      <th>213</th>\n",
       "      <td>0.923077</td>\n",
       "      <td>0.076923</td>\n",
       "    </tr>\n",
       "  </tbody>\n",
       "</table></div>"
      ],
      "text/plain": [
       "            0         1\n",
       "0    1.000000  0.000000\n",
       "1    0.926829  0.073171\n",
       "2    0.923077  0.076923\n",
       "3    0.000000  1.000000\n",
       "4    0.926829  0.073171\n",
       "..        ...       ...\n",
       "209  0.926829  0.073171\n",
       "210  0.926829  0.073171\n",
       "211  0.000000  1.000000\n",
       "212  0.400000  0.600000\n",
       "213  0.923077  0.076923\n",
       "\n",
       "[214 rows x 2 columns]"
      ]
     },
     "execution_count": 43,
     "metadata": {},
     "output_type": "execute_result"
    }
   ],
   "source": [
    "# Predict probability\n",
    "survival_prediction_proba = pd.DataFrame(clf.predict_proba(X_validate))\n",
    "survival_prediction_proba"
   ]
  },
  {
   "cell_type": "code",
   "execution_count": 44,
   "id": "d6dd6e29",
   "metadata": {},
   "outputs": [
    {
     "name": "stdout",
     "output_type": "stream",
     "text": [
      "Accuracy of Decision Tree classifer on validation set: 0.8785046728971962\n"
     ]
    }
   ],
   "source": [
    "# compute accuracy\n",
    "print(f\"Accuracy of Decision Tree classifer on validation set: \"\\\n",
    "        f\"{clf.score(X_validate, Y_validate)}\")"
   ]
  },
  {
   "cell_type": "code",
   "execution_count": 45,
   "id": "ccf96a69",
   "metadata": {},
   "outputs": [
    {
     "data": {
      "text/plain": [
       "array([[127,   5],\n",
       "       [ 21,  61]])"
      ]
     },
     "execution_count": 45,
     "metadata": {},
     "output_type": "execute_result"
    }
   ],
   "source": [
    "# confusion matrix\n",
    "confusion_matrix(Y_validate, survived_prediction)"
   ]
  },
  {
   "cell_type": "code",
   "execution_count": 46,
   "id": "432133b0",
   "metadata": {},
   "outputs": [
    {
     "data": {
      "text/plain": [
       "0    132\n",
       "1     82\n",
       "Name: survived, dtype: int64"
      ]
     },
     "execution_count": 46,
     "metadata": {},
     "output_type": "execute_result"
    }
   ],
   "source": [
    "Y_validate.value_counts()"
   ]
  },
  {
   "cell_type": "code",
   "execution_count": 47,
   "id": "a7b1d68e",
   "metadata": {},
   "outputs": [
    {
     "data": {
      "text/html": [
       "<div><div id=dbe26fc8-78d5-486d-825c-b8ed1e538fde style=\"display:none; background-color:#9D6CFF; color:white; width:200px; height:30px; padding-left:5px; border-radius:4px; flex-direction:row; justify-content:space-around; align-items:center;\" onmouseover=\"this.style.backgroundColor='#BA9BF8'\" onmouseout=\"this.style.backgroundColor='#9D6CFF'\" onclick=\"window.commands?.execute('create-mitosheet-from-dataframe-output');\">See Full Dataframe in Mito</div> <script> if (window.commands?.hasCommand('create-mitosheet-from-dataframe-output')) document.getElementById('dbe26fc8-78d5-486d-825c-b8ed1e538fde').style.display = 'flex' </script> <table border=\"1\" class=\"dataframe\">\n",
       "  <thead>\n",
       "    <tr style=\"text-align: right;\">\n",
       "      <th></th>\n",
       "      <th>0</th>\n",
       "      <th>1</th>\n",
       "    </tr>\n",
       "  </thead>\n",
       "  <tbody>\n",
       "    <tr>\n",
       "      <th>0</th>\n",
       "      <td>127</td>\n",
       "      <td>5</td>\n",
       "    </tr>\n",
       "    <tr>\n",
       "      <th>1</th>\n",
       "      <td>21</td>\n",
       "      <td>61</td>\n",
       "    </tr>\n",
       "  </tbody>\n",
       "</table></div>"
      ],
      "text/plain": [
       "     0   1\n",
       "0  127   5\n",
       "1   21  61"
      ]
     },
     "execution_count": 47,
     "metadata": {},
     "output_type": "execute_result"
    }
   ],
   "source": [
    "labels = sorted(Y_validate.unique())\n",
    "\n",
    "pd.DataFrame(confusion_matrix(Y_validate, survived_prediction), index=labels, columns=labels)"
   ]
  },
  {
   "cell_type": "code",
   "execution_count": 48,
   "id": "2ca5ac21",
   "metadata": {},
   "outputs": [
    {
     "name": "stdout",
     "output_type": "stream",
     "text": [
      "              precision    recall  f1-score   support\n",
      "\n",
      "           0       0.86      0.96      0.91       132\n",
      "           1       0.92      0.74      0.82        82\n",
      "\n",
      "    accuracy                           0.88       214\n",
      "   macro avg       0.89      0.85      0.87       214\n",
      "weighted avg       0.88      0.88      0.88       214\n",
      "\n"
     ]
    }
   ],
   "source": [
    "#classification report\n",
    "print(classification_report(Y_validate, survived_prediction))"
   ]
  },
  {
   "cell_type": "markdown",
   "id": "dce7f077",
   "metadata": {},
   "source": [
    "## A. MAX DEPTH level 4"
   ]
  },
  {
   "cell_type": "code",
   "execution_count": 49,
   "id": "aabdf20e",
   "metadata": {},
   "outputs": [
    {
     "data": {
      "text/plain": [
       "[Text(479.3727272727273, 489.24, 'sex_male <= 0.5\\ngini = 0.473\\nsamples = 214\\nvalue = [132, 82]\\nclass = 0'),\n",
       " Text(251.10000000000002, 380.52000000000004, 'pclass <= 2.5\\ngini = 0.419\\nsamples = 77\\nvalue = [23, 54]\\nclass = 1'),\n",
       " Text(136.96363636363637, 271.8, 'age <= 55.0\\ngini = 0.184\\nsamples = 39\\nvalue = [4, 35]\\nclass = 1'),\n",
       " Text(91.30909090909091, 163.08000000000004, 'fare <= 28.5\\ngini = 0.145\\nsamples = 38\\nvalue = [3, 35]\\nclass = 1'),\n",
       " Text(45.654545454545456, 54.360000000000014, 'gini = 0.337\\nsamples = 14\\nvalue = [3, 11]\\nclass = 1'),\n",
       " Text(136.96363636363637, 54.360000000000014, 'gini = 0.0\\nsamples = 24\\nvalue = [0, 24]\\nclass = 1'),\n",
       " Text(182.61818181818182, 163.08000000000004, 'gini = 0.0\\nsamples = 1\\nvalue = [1, 0]\\nclass = 0'),\n",
       " Text(365.23636363636365, 271.8, 'embark_town_Southampton <= 0.5\\ngini = 0.5\\nsamples = 38\\nvalue = [19, 19]\\nclass = 0'),\n",
       " Text(273.92727272727274, 163.08000000000004, 'age <= 30.5\\ngini = 0.298\\nsamples = 11\\nvalue = [2, 9]\\nclass = 1'),\n",
       " Text(228.27272727272728, 54.360000000000014, 'gini = 0.18\\nsamples = 10\\nvalue = [1, 9]\\nclass = 1'),\n",
       " Text(319.5818181818182, 54.360000000000014, 'gini = 0.0\\nsamples = 1\\nvalue = [1, 0]\\nclass = 0'),\n",
       " Text(456.54545454545456, 163.08000000000004, 'fare <= 20.663\\ngini = 0.466\\nsamples = 27\\nvalue = [17, 10]\\nclass = 0'),\n",
       " Text(410.8909090909091, 54.360000000000014, 'gini = 0.5\\nsamples = 18\\nvalue = [9, 9]\\nclass = 0'),\n",
       " Text(502.20000000000005, 54.360000000000014, 'gini = 0.198\\nsamples = 9\\nvalue = [8, 1]\\nclass = 0'),\n",
       " Text(707.6454545454545, 380.52000000000004, 'age <= 9.5\\ngini = 0.325\\nsamples = 137\\nvalue = [109, 28]\\nclass = 0'),\n",
       " Text(593.5090909090909, 271.8, 'sibsp <= 2.5\\ngini = 0.42\\nsamples = 10\\nvalue = [3, 7]\\nclass = 1'),\n",
       " Text(547.8545454545455, 163.08000000000004, 'gini = 0.0\\nsamples = 7\\nvalue = [0, 7]\\nclass = 1'),\n",
       " Text(639.1636363636364, 163.08000000000004, 'gini = 0.0\\nsamples = 3\\nvalue = [3, 0]\\nclass = 0'),\n",
       " Text(821.7818181818182, 271.8, 'fare <= 54.798\\ngini = 0.276\\nsamples = 127\\nvalue = [106, 21]\\nclass = 0'),\n",
       " Text(730.4727272727273, 163.08000000000004, 'embark_town_Southampton <= 0.5\\ngini = 0.227\\nsamples = 115\\nvalue = [100, 15]\\nclass = 0'),\n",
       " Text(684.8181818181819, 54.360000000000014, 'gini = 0.383\\nsamples = 31\\nvalue = [23, 8]\\nclass = 0'),\n",
       " Text(776.1272727272727, 54.360000000000014, 'gini = 0.153\\nsamples = 84\\nvalue = [77, 7]\\nclass = 0'),\n",
       " Text(913.0909090909091, 163.08000000000004, 'fare <= 59.49\\ngini = 0.5\\nsamples = 12\\nvalue = [6, 6]\\nclass = 0'),\n",
       " Text(867.4363636363637, 54.360000000000014, 'gini = 0.0\\nsamples = 4\\nvalue = [0, 4]\\nclass = 1'),\n",
       " Text(958.7454545454545, 54.360000000000014, 'gini = 0.375\\nsamples = 8\\nvalue = [6, 2]\\nclass = 0')]"
      ]
     },
     "execution_count": 49,
     "metadata": {},
     "output_type": "execute_result"
    },
    {
     "data": {
      "image/png": "[encoded data removed]",
      "text/plain": [
       "<Figure size 1296x720 with 1 Axes>"
      ]
     },
     "metadata": {
      "needs_background": "light"
     },
     "output_type": "display_data"
    }
   ],
   "source": [
    "# MAX DEPTH: 4\n",
    "# now we fit the model to the validate data\n",
    "clf = DecisionTreeClassifier(max_depth=4, random_state=123)\n",
    "\n",
    "clf = clf.fit(X_validate, Y_validate)\n",
    "\n",
    "plt.figure(figsize=(18, 10))\n",
    "plot_tree(clf, feature_names=X_validate.columns, class_names=clf.classes_.astype(str), rounded=True)"
   ]
  },
  {
   "cell_type": "code",
   "execution_count": 50,
   "id": "3b9fbd07",
   "metadata": {},
   "outputs": [
    {
     "data": {
      "text/plain": [
       "0    155\n",
       "1     59\n",
       "dtype: int64"
      ]
     },
     "execution_count": 50,
     "metadata": {},
     "output_type": "execute_result"
    }
   ],
   "source": [
    "#make predictions:\n",
    "survived_prediction = pd.DataFrame(clf.predict(X_validate))\n",
    "survived_prediction.value_counts()"
   ]
  },
  {
   "cell_type": "code",
   "execution_count": 51,
   "id": "dd1c201d",
   "metadata": {},
   "outputs": [
    {
     "data": {
      "text/html": [
       "<div><div id=2848cb4e-2b34-45f1-b91b-7b76840f6b6f style=\"display:none; background-color:#9D6CFF; color:white; width:200px; height:30px; padding-left:5px; border-radius:4px; flex-direction:row; justify-content:space-around; align-items:center;\" onmouseover=\"this.style.backgroundColor='#BA9BF8'\" onmouseout=\"this.style.backgroundColor='#9D6CFF'\" onclick=\"window.commands?.execute('create-mitosheet-from-dataframe-output');\">See Full Dataframe in Mito</div> <script> if (window.commands?.hasCommand('create-mitosheet-from-dataframe-output')) document.getElementById('2848cb4e-2b34-45f1-b91b-7b76840f6b6f').style.display = 'flex' </script> <table border=\"1\" class=\"dataframe\">\n",
       "  <thead>\n",
       "    <tr style=\"text-align: right;\">\n",
       "      <th></th>\n",
       "      <th>0</th>\n",
       "      <th>1</th>\n",
       "    </tr>\n",
       "  </thead>\n",
       "  <tbody>\n",
       "    <tr>\n",
       "      <th>0</th>\n",
       "      <td>0.888889</td>\n",
       "      <td>0.111111</td>\n",
       "    </tr>\n",
       "    <tr>\n",
       "      <th>1</th>\n",
       "      <td>0.916667</td>\n",
       "      <td>0.083333</td>\n",
       "    </tr>\n",
       "    <tr>\n",
       "      <th>2</th>\n",
       "      <td>0.741935</td>\n",
       "      <td>0.258065</td>\n",
       "    </tr>\n",
       "    <tr>\n",
       "      <th>3</th>\n",
       "      <td>0.000000</td>\n",
       "      <td>1.000000</td>\n",
       "    </tr>\n",
       "    <tr>\n",
       "      <th>4</th>\n",
       "      <td>0.916667</td>\n",
       "      <td>0.083333</td>\n",
       "    </tr>\n",
       "    <tr>\n",
       "      <th>...</th>\n",
       "      <td>...</td>\n",
       "      <td>...</td>\n",
       "    </tr>\n",
       "    <tr>\n",
       "      <th>209</th>\n",
       "      <td>0.916667</td>\n",
       "      <td>0.083333</td>\n",
       "    </tr>\n",
       "    <tr>\n",
       "      <th>210</th>\n",
       "      <td>0.916667</td>\n",
       "      <td>0.083333</td>\n",
       "    </tr>\n",
       "    <tr>\n",
       "      <th>211</th>\n",
       "      <td>0.750000</td>\n",
       "      <td>0.250000</td>\n",
       "    </tr>\n",
       "    <tr>\n",
       "      <th>212</th>\n",
       "      <td>0.214286</td>\n",
       "      <td>0.785714</td>\n",
       "    </tr>\n",
       "    <tr>\n",
       "      <th>213</th>\n",
       "      <td>0.741935</td>\n",
       "      <td>0.258065</td>\n",
       "    </tr>\n",
       "  </tbody>\n",
       "</table></div>"
      ],
      "text/plain": [
       "            0         1\n",
       "0    0.888889  0.111111\n",
       "1    0.916667  0.083333\n",
       "2    0.741935  0.258065\n",
       "3    0.000000  1.000000\n",
       "4    0.916667  0.083333\n",
       "..        ...       ...\n",
       "209  0.916667  0.083333\n",
       "210  0.916667  0.083333\n",
       "211  0.750000  0.250000\n",
       "212  0.214286  0.785714\n",
       "213  0.741935  0.258065\n",
       "\n",
       "[214 rows x 2 columns]"
      ]
     },
     "execution_count": 51,
     "metadata": {},
     "output_type": "execute_result"
    }
   ],
   "source": [
    "# Predict probability\n",
    "survival_prediction_proba = pd.DataFrame(clf.predict_proba(X_validate))\n",
    "survival_prediction_proba"
   ]
  },
  {
   "cell_type": "code",
   "execution_count": 52,
   "id": "3379db83",
   "metadata": {},
   "outputs": [
    {
     "name": "stdout",
     "output_type": "stream",
     "text": [
      "Accuracy of Decision Tree classifer on validation set: 0.8551401869158879\n"
     ]
    }
   ],
   "source": [
    "# compute accuracy\n",
    "print(f\"Accuracy of Decision Tree classifer on validation set: \"\\\n",
    "        f\"{clf.score(X_validate, Y_validate)}\")"
   ]
  },
  {
   "cell_type": "code",
   "execution_count": 53,
   "id": "3c8788e7",
   "metadata": {},
   "outputs": [
    {
     "data": {
      "text/html": [
       "<div><div id=52c3325c-ddf5-40ea-a19a-c8e8132d236b style=\"display:none; background-color:#9D6CFF; color:white; width:200px; height:30px; padding-left:5px; border-radius:4px; flex-direction:row; justify-content:space-around; align-items:center;\" onmouseover=\"this.style.backgroundColor='#BA9BF8'\" onmouseout=\"this.style.backgroundColor='#9D6CFF'\" onclick=\"window.commands?.execute('create-mitosheet-from-dataframe-output');\">See Full Dataframe in Mito</div> <script> if (window.commands?.hasCommand('create-mitosheet-from-dataframe-output')) document.getElementById('52c3325c-ddf5-40ea-a19a-c8e8132d236b').style.display = 'flex' </script> <table border=\"1\" class=\"dataframe\">\n",
       "  <thead>\n",
       "    <tr style=\"text-align: right;\">\n",
       "      <th></th>\n",
       "      <th>0</th>\n",
       "      <th>1</th>\n",
       "    </tr>\n",
       "  </thead>\n",
       "  <tbody>\n",
       "    <tr>\n",
       "      <th>0</th>\n",
       "      <td>128</td>\n",
       "      <td>4</td>\n",
       "    </tr>\n",
       "    <tr>\n",
       "      <th>1</th>\n",
       "      <td>27</td>\n",
       "      <td>55</td>\n",
       "    </tr>\n",
       "  </tbody>\n",
       "</table></div>"
      ],
      "text/plain": [
       "     0   1\n",
       "0  128   4\n",
       "1   27  55"
      ]
     },
     "execution_count": 53,
     "metadata": {},
     "output_type": "execute_result"
    }
   ],
   "source": [
    "# confusion matrix\n",
    "confusion_matrix(Y_validate, survived_prediction)\n",
    "\n",
    "Y_validate.value_counts()\n",
    "\n",
    "labels = sorted(Y_validate.unique())\n",
    "\n",
    "pd.DataFrame(confusion_matrix(Y_validate, survived_prediction), index=labels, columns=labels)"
   ]
  },
  {
   "cell_type": "code",
   "execution_count": 54,
   "id": "263359c5",
   "metadata": {},
   "outputs": [
    {
     "name": "stdout",
     "output_type": "stream",
     "text": [
      "              precision    recall  f1-score   support\n",
      "\n",
      "           0       0.83      0.97      0.89       132\n",
      "           1       0.93      0.67      0.78        82\n",
      "\n",
      "    accuracy                           0.86       214\n",
      "   macro avg       0.88      0.82      0.84       214\n",
      "weighted avg       0.87      0.86      0.85       214\n",
      "\n"
     ]
    }
   ],
   "source": [
    "#classification report\n",
    "print(classification_report(Y_validate, survived_prediction))"
   ]
  },
  {
   "cell_type": "markdown",
   "id": "cceeee4d",
   "metadata": {},
   "source": [
    "## Takeaway:\n",
    "\n",
    "- 5 levels of depth is more accurate than 4 levels in this case:\n",
    "    - 88% vs 85.5%"
   ]
  },
  {
   "cell_type": "markdown",
   "id": "7647a4a5",
   "metadata": {},
   "source": [
    "# TELCO Churn Exercises\n",
    "\n",
    "## 1. What is your baseline prediction? What is your baseline accuracy? remember: your baseline prediction for a classification problem is predicting the most prevelant class in the training dataset (the mode). When you make those predictions, what is your accuracy? This is your baseline accuracy."
   ]
  },
  {
   "cell_type": "code",
   "execution_count": 55,
   "id": "a151b0e8",
   "metadata": {},
   "outputs": [],
   "source": [
    "# ignore warnings\n",
    "import warnings\n",
    "warnings.filterwarnings(\"ignore\")\n",
    "\n",
    "import numpy as np\n",
    "\n",
    "from pydataset import data\n",
    "\n",
    "from sklearn.model_selection import train_test_split\n",
    "from sklearn.tree import DecisionTreeClassifier, plot_tree\n",
    "from sklearn.metrics import classification_report\n",
    "from sklearn.metrics import confusion_matrix\n",
    "from sklearn.impute import SimpleImputer\n",
    "\n",
    "import matplotlib.pyplot as plt\n",
    "import seaborn as sns\n",
    "\n",
    "import acquire\n",
    "import prepare\n",
    "import split"
   ]
  },
  {
   "cell_type": "code",
   "execution_count": 56,
   "id": "0ad3b875",
   "metadata": {},
   "outputs": [
    {
     "data": {
      "text/plain": [
       "Index(['internet_service_type_id', 'payment_type_id', 'contract_type_id',\n",
       "       'customer_id', 'gender', 'senior_citizen', 'partner', 'dependents',\n",
       "       'tenure', 'phone_service', 'multiple_lines', 'online_security',\n",
       "       'online_backup', 'device_protection', 'tech_support', 'streaming_tv',\n",
       "       'streaming_movies', 'paperless_billing', 'monthly_charges',\n",
       "       'total_charges', 'churn', 'contract_type', 'payment_type',\n",
       "       'internet_service_type'],\n",
       "      dtype='object')"
      ]
     },
     "execution_count": 56,
     "metadata": {},
     "output_type": "execute_result"
    }
   ],
   "source": [
    "df = acquire.get_telco_data()\n",
    "df.head()\n",
    "df.columns"
   ]
  },
  {
   "cell_type": "code",
   "execution_count": 57,
   "id": "604693fb",
   "metadata": {},
   "outputs": [
    {
     "data": {
      "text/html": [
       "<div><div id=90e97103-ed3f-4bd5-bcb8-7e31431e5462 style=\"display:none; background-color:#9D6CFF; color:white; width:200px; height:30px; padding-left:5px; border-radius:4px; flex-direction:row; justify-content:space-around; align-items:center;\" onmouseover=\"this.style.backgroundColor='#BA9BF8'\" onmouseout=\"this.style.backgroundColor='#9D6CFF'\" onclick=\"window.commands?.execute('create-mitosheet-from-dataframe-output');\">See Full Dataframe in Mito</div> <script> if (window.commands?.hasCommand('create-mitosheet-from-dataframe-output')) document.getElementById('90e97103-ed3f-4bd5-bcb8-7e31431e5462').style.display = 'flex' </script> <table border=\"1\" class=\"dataframe\">\n",
       "  <thead>\n",
       "    <tr style=\"text-align: right;\">\n",
       "      <th></th>\n",
       "      <th>customer_id</th>\n",
       "      <th>gender</th>\n",
       "      <th>senior_citizen</th>\n",
       "      <th>partner</th>\n",
       "      <th>dependents</th>\n",
       "      <th>tenure</th>\n",
       "      <th>phone_service</th>\n",
       "      <th>multiple_lines</th>\n",
       "      <th>online_security</th>\n",
       "      <th>online_backup</th>\n",
       "      <th>...</th>\n",
       "      <th>streaming_movies_Yes</th>\n",
       "      <th>paperless_billing_Yes</th>\n",
       "      <th>churn_Yes</th>\n",
       "      <th>contract_type_One year</th>\n",
       "      <th>contract_type_Two year</th>\n",
       "      <th>payment_type_Credit card (automatic)</th>\n",
       "      <th>payment_type_Electronic check</th>\n",
       "      <th>payment_type_Mailed check</th>\n",
       "      <th>internet_service_type_Fiber optic</th>\n",
       "      <th>internet_service_type_None</th>\n",
       "    </tr>\n",
       "  </thead>\n",
       "  <tbody>\n",
       "    <tr>\n",
       "      <th>0</th>\n",
       "      <td>0002-ORFBO</td>\n",
       "      <td>Female</td>\n",
       "      <td>0</td>\n",
       "      <td>Yes</td>\n",
       "      <td>Yes</td>\n",
       "      <td>9</td>\n",
       "      <td>Yes</td>\n",
       "      <td>No</td>\n",
       "      <td>No</td>\n",
       "      <td>Yes</td>\n",
       "      <td>...</td>\n",
       "      <td>0</td>\n",
       "      <td>1</td>\n",
       "      <td>0</td>\n",
       "      <td>1</td>\n",
       "      <td>0</td>\n",
       "      <td>0</td>\n",
       "      <td>0</td>\n",
       "      <td>1</td>\n",
       "      <td>0</td>\n",
       "      <td>0</td>\n",
       "    </tr>\n",
       "    <tr>\n",
       "      <th>1</th>\n",
       "      <td>0003-MKNFE</td>\n",
       "      <td>Male</td>\n",
       "      <td>0</td>\n",
       "      <td>No</td>\n",
       "      <td>No</td>\n",
       "      <td>9</td>\n",
       "      <td>Yes</td>\n",
       "      <td>Yes</td>\n",
       "      <td>No</td>\n",
       "      <td>No</td>\n",
       "      <td>...</td>\n",
       "      <td>1</td>\n",
       "      <td>0</td>\n",
       "      <td>0</td>\n",
       "      <td>0</td>\n",
       "      <td>0</td>\n",
       "      <td>0</td>\n",
       "      <td>0</td>\n",
       "      <td>1</td>\n",
       "      <td>0</td>\n",
       "      <td>0</td>\n",
       "    </tr>\n",
       "    <tr>\n",
       "      <th>2</th>\n",
       "      <td>0004-TLHLJ</td>\n",
       "      <td>Male</td>\n",
       "      <td>0</td>\n",
       "      <td>No</td>\n",
       "      <td>No</td>\n",
       "      <td>4</td>\n",
       "      <td>Yes</td>\n",
       "      <td>No</td>\n",
       "      <td>No</td>\n",
       "      <td>No</td>\n",
       "      <td>...</td>\n",
       "      <td>0</td>\n",
       "      <td>1</td>\n",
       "      <td>1</td>\n",
       "      <td>0</td>\n",
       "      <td>0</td>\n",
       "      <td>0</td>\n",
       "      <td>1</td>\n",
       "      <td>0</td>\n",
       "      <td>1</td>\n",
       "      <td>0</td>\n",
       "    </tr>\n",
       "    <tr>\n",
       "      <th>3</th>\n",
       "      <td>0011-IGKFF</td>\n",
       "      <td>Male</td>\n",
       "      <td>1</td>\n",
       "      <td>Yes</td>\n",
       "      <td>No</td>\n",
       "      <td>13</td>\n",
       "      <td>Yes</td>\n",
       "      <td>No</td>\n",
       "      <td>No</td>\n",
       "      <td>Yes</td>\n",
       "      <td>...</td>\n",
       "      <td>1</td>\n",
       "      <td>1</td>\n",
       "      <td>1</td>\n",
       "      <td>0</td>\n",
       "      <td>0</td>\n",
       "      <td>0</td>\n",
       "      <td>1</td>\n",
       "      <td>0</td>\n",
       "      <td>1</td>\n",
       "      <td>0</td>\n",
       "    </tr>\n",
       "    <tr>\n",
       "      <th>4</th>\n",
       "      <td>0013-EXCHZ</td>\n",
       "      <td>Female</td>\n",
       "      <td>1</td>\n",
       "      <td>Yes</td>\n",
       "      <td>No</td>\n",
       "      <td>3</td>\n",
       "      <td>Yes</td>\n",
       "      <td>No</td>\n",
       "      <td>No</td>\n",
       "      <td>No</td>\n",
       "      <td>...</td>\n",
       "      <td>0</td>\n",
       "      <td>1</td>\n",
       "      <td>1</td>\n",
       "      <td>0</td>\n",
       "      <td>0</td>\n",
       "      <td>0</td>\n",
       "      <td>0</td>\n",
       "      <td>1</td>\n",
       "      <td>1</td>\n",
       "      <td>0</td>\n",
       "    </tr>\n",
       "    <tr>\n",
       "      <th>...</th>\n",
       "      <td>...</td>\n",
       "      <td>...</td>\n",
       "      <td>...</td>\n",
       "      <td>...</td>\n",
       "      <td>...</td>\n",
       "      <td>...</td>\n",
       "      <td>...</td>\n",
       "      <td>...</td>\n",
       "      <td>...</td>\n",
       "      <td>...</td>\n",
       "      <td>...</td>\n",
       "      <td>...</td>\n",
       "      <td>...</td>\n",
       "      <td>...</td>\n",
       "      <td>...</td>\n",
       "      <td>...</td>\n",
       "      <td>...</td>\n",
       "      <td>...</td>\n",
       "      <td>...</td>\n",
       "      <td>...</td>\n",
       "      <td>...</td>\n",
       "    </tr>\n",
       "    <tr>\n",
       "      <th>7038</th>\n",
       "      <td>9987-LUTYD</td>\n",
       "      <td>Female</td>\n",
       "      <td>0</td>\n",
       "      <td>No</td>\n",
       "      <td>No</td>\n",
       "      <td>13</td>\n",
       "      <td>Yes</td>\n",
       "      <td>No</td>\n",
       "      <td>Yes</td>\n",
       "      <td>No</td>\n",
       "      <td>...</td>\n",
       "      <td>0</td>\n",
       "      <td>0</td>\n",
       "      <td>0</td>\n",
       "      <td>1</td>\n",
       "      <td>0</td>\n",
       "      <td>0</td>\n",
       "      <td>0</td>\n",
       "      <td>1</td>\n",
       "      <td>0</td>\n",
       "      <td>0</td>\n",
       "    </tr>\n",
       "    <tr>\n",
       "      <th>7039</th>\n",
       "      <td>9992-RRAMN</td>\n",
       "      <td>Male</td>\n",
       "      <td>0</td>\n",
       "      <td>Yes</td>\n",
       "      <td>No</td>\n",
       "      <td>22</td>\n",
       "      <td>Yes</td>\n",
       "      <td>Yes</td>\n",
       "      <td>No</td>\n",
       "      <td>No</td>\n",
       "      <td>...</td>\n",
       "      <td>1</td>\n",
       "      <td>1</td>\n",
       "      <td>1</td>\n",
       "      <td>0</td>\n",
       "      <td>0</td>\n",
       "      <td>0</td>\n",
       "      <td>1</td>\n",
       "      <td>0</td>\n",
       "      <td>1</td>\n",
       "      <td>0</td>\n",
       "    </tr>\n",
       "    <tr>\n",
       "      <th>7040</th>\n",
       "      <td>9992-UJOEL</td>\n",
       "      <td>Male</td>\n",
       "      <td>0</td>\n",
       "      <td>No</td>\n",
       "      <td>No</td>\n",
       "      <td>2</td>\n",
       "      <td>Yes</td>\n",
       "      <td>No</td>\n",
       "      <td>No</td>\n",
       "      <td>Yes</td>\n",
       "      <td>...</td>\n",
       "      <td>0</td>\n",
       "      <td>1</td>\n",
       "      <td>0</td>\n",
       "      <td>0</td>\n",
       "      <td>0</td>\n",
       "      <td>0</td>\n",
       "      <td>0</td>\n",
       "      <td>1</td>\n",
       "      <td>0</td>\n",
       "      <td>0</td>\n",
       "    </tr>\n",
       "    <tr>\n",
       "      <th>7041</th>\n",
       "      <td>9993-LHIEB</td>\n",
       "      <td>Male</td>\n",
       "      <td>0</td>\n",
       "      <td>Yes</td>\n",
       "      <td>Yes</td>\n",
       "      <td>67</td>\n",
       "      <td>Yes</td>\n",
       "      <td>No</td>\n",
       "      <td>Yes</td>\n",
       "      <td>No</td>\n",
       "      <td>...</td>\n",
       "      <td>1</td>\n",
       "      <td>0</td>\n",
       "      <td>0</td>\n",
       "      <td>0</td>\n",
       "      <td>1</td>\n",
       "      <td>0</td>\n",
       "      <td>0</td>\n",
       "      <td>1</td>\n",
       "      <td>0</td>\n",
       "      <td>0</td>\n",
       "    </tr>\n",
       "    <tr>\n",
       "      <th>7042</th>\n",
       "      <td>9995-HOTOH</td>\n",
       "      <td>Male</td>\n",
       "      <td>0</td>\n",
       "      <td>Yes</td>\n",
       "      <td>Yes</td>\n",
       "      <td>63</td>\n",
       "      <td>No</td>\n",
       "      <td>No phone service</td>\n",
       "      <td>Yes</td>\n",
       "      <td>Yes</td>\n",
       "      <td>...</td>\n",
       "      <td>1</td>\n",
       "      <td>0</td>\n",
       "      <td>0</td>\n",
       "      <td>0</td>\n",
       "      <td>1</td>\n",
       "      <td>0</td>\n",
       "      <td>1</td>\n",
       "      <td>0</td>\n",
       "      <td>0</td>\n",
       "      <td>0</td>\n",
       "    </tr>\n",
       "  </tbody>\n",
       "</table></div>"
      ],
      "text/plain": [
       "     customer_id  gender  senior_citizen partner dependents  tenure  \\\n",
       "0     0002-ORFBO  Female               0     Yes        Yes       9   \n",
       "1     0003-MKNFE    Male               0      No         No       9   \n",
       "2     0004-TLHLJ    Male               0      No         No       4   \n",
       "3     0011-IGKFF    Male               1     Yes         No      13   \n",
       "4     0013-EXCHZ  Female               1     Yes         No       3   \n",
       "...          ...     ...             ...     ...        ...     ...   \n",
       "7038  9987-LUTYD  Female               0      No         No      13   \n",
       "7039  9992-RRAMN    Male               0     Yes         No      22   \n",
       "7040  9992-UJOEL    Male               0      No         No       2   \n",
       "7041  9993-LHIEB    Male               0     Yes        Yes      67   \n",
       "7042  9995-HOTOH    Male               0     Yes        Yes      63   \n",
       "\n",
       "     phone_service    multiple_lines online_security online_backup  ...  \\\n",
       "0              Yes                No              No           Yes  ...   \n",
       "1              Yes               Yes              No            No  ...   \n",
       "2              Yes                No              No            No  ...   \n",
       "3              Yes                No              No           Yes  ...   \n",
       "4              Yes                No              No            No  ...   \n",
       "...            ...               ...             ...           ...  ...   \n",
       "7038           Yes                No             Yes            No  ...   \n",
       "7039           Yes               Yes              No            No  ...   \n",
       "7040           Yes                No              No           Yes  ...   \n",
       "7041           Yes                No             Yes            No  ...   \n",
       "7042            No  No phone service             Yes           Yes  ...   \n",
       "\n",
       "     streaming_movies_Yes paperless_billing_Yes churn_Yes  \\\n",
       "0                       0                     1         0   \n",
       "1                       1                     0         0   \n",
       "2                       0                     1         1   \n",
       "3                       1                     1         1   \n",
       "4                       0                     1         1   \n",
       "...                   ...                   ...       ...   \n",
       "7038                    0                     0         0   \n",
       "7039                    1                     1         1   \n",
       "7040                    0                     1         0   \n",
       "7041                    1                     0         0   \n",
       "7042                    1                     0         0   \n",
       "\n",
       "     contract_type_One year contract_type_Two year  \\\n",
       "0                         1                      0   \n",
       "1                         0                      0   \n",
       "2                         0                      0   \n",
       "3                         0                      0   \n",
       "4                         0                      0   \n",
       "...                     ...                    ...   \n",
       "7038                      1                      0   \n",
       "7039                      0                      0   \n",
       "7040                      0                      0   \n",
       "7041                      0                      1   \n",
       "7042                      0                      1   \n",
       "\n",
       "      payment_type_Credit card (automatic)  payment_type_Electronic check  \\\n",
       "0                                        0                              0   \n",
       "1                                        0                              0   \n",
       "2                                        0                              1   \n",
       "3                                        0                              1   \n",
       "4                                        0                              0   \n",
       "...                                    ...                            ...   \n",
       "7038                                     0                              0   \n",
       "7039                                     0                              1   \n",
       "7040                                     0                              0   \n",
       "7041                                     0                              0   \n",
       "7042                                     0                              1   \n",
       "\n",
       "     payment_type_Mailed check internet_service_type_Fiber optic  \\\n",
       "0                            1                                 0   \n",
       "1                            1                                 0   \n",
       "2                            0                                 1   \n",
       "3                            0                                 1   \n",
       "4                            1                                 1   \n",
       "...                        ...                               ...   \n",
       "7038                         1                                 0   \n",
       "7039                         0                                 1   \n",
       "7040                         1                                 0   \n",
       "7041                         1                                 0   \n",
       "7042                         0                                 0   \n",
       "\n",
       "     internet_service_type_None  \n",
       "0                             0  \n",
       "1                             0  \n",
       "2                             0  \n",
       "3                             0  \n",
       "4                             0  \n",
       "...                         ...  \n",
       "7038                          0  \n",
       "7039                          0  \n",
       "7040                          0  \n",
       "7041                          0  \n",
       "7042                          0  \n",
       "\n",
       "[7032 rows x 49 columns]"
      ]
     },
     "execution_count": 57,
     "metadata": {},
     "output_type": "execute_result"
    }
   ],
   "source": [
    "df = prepare.prep_telco(df)\n",
    "df"
   ]
  },
  {
   "cell_type": "code",
   "execution_count": 58,
   "id": "4ef70d69",
   "metadata": {},
   "outputs": [
    {
     "data": {
      "text/plain": [
       "Index(['customer_id', 'gender', 'senior_citizen', 'partner', 'dependents',\n",
       "       'tenure', 'phone_service', 'multiple_lines', 'online_security',\n",
       "       'online_backup', 'device_protection', 'tech_support', 'streaming_tv',\n",
       "       'streaming_movies', 'paperless_billing', 'monthly_charges',\n",
       "       'total_charges', 'churn', 'contract_type', 'payment_type',\n",
       "       'internet_service_type', 'senior_citizen', 'gender_Male', 'partner_Yes',\n",
       "       'dependents_Yes', 'phone_service_Yes',\n",
       "       'multiple_lines_No phone service', 'multiple_lines_Yes',\n",
       "       'online_security_No internet service', 'online_security_Yes',\n",
       "       'online_backup_No internet service', 'online_backup_Yes',\n",
       "       'device_protection_No internet service', 'device_protection_Yes',\n",
       "       'tech_support_No internet service', 'tech_support_Yes',\n",
       "       'streaming_tv_No internet service', 'streaming_tv_Yes',\n",
       "       'streaming_movies_No internet service', 'streaming_movies_Yes',\n",
       "       'paperless_billing_Yes', 'churn_Yes', 'contract_type_One year',\n",
       "       'contract_type_Two year', 'payment_type_Credit card (automatic)',\n",
       "       'payment_type_Electronic check', 'payment_type_Mailed check',\n",
       "       'internet_service_type_Fiber optic', 'internet_service_type_None'],\n",
       "      dtype='object')"
      ]
     },
     "execution_count": 58,
     "metadata": {},
     "output_type": "execute_result"
    }
   ],
   "source": [
    "df.columns"
   ]
  },
  {
   "cell_type": "code",
   "execution_count": 59,
   "id": "812c485f",
   "metadata": {},
   "outputs": [],
   "source": [
    "#drop all the unencoded columns\n",
    "df = df.drop(columns=['customer_id', 'churn', 'gender', 'senior_citizen', 'partner', 'dependents', \n",
    "                      'phone_service', 'multiple_lines', 'online_security',\n",
    "                       'online_backup', 'device_protection', 'tech_support', 'streaming_tv',\n",
    "                       'streaming_movies', 'paperless_billing', 'monthly_charges',\n",
    "                       'total_charges', 'contract_type', 'payment_type',\n",
    "                       'internet_service_type', 'senior_citizen'])"
   ]
  },
  {
   "cell_type": "code",
   "execution_count": 60,
   "id": "3aac8106",
   "metadata": {},
   "outputs": [
    {
     "data": {
      "text/html": [
       "<div><div id=43e53b67-634c-454e-a886-36aecab0157c style=\"display:none; background-color:#9D6CFF; color:white; width:200px; height:30px; padding-left:5px; border-radius:4px; flex-direction:row; justify-content:space-around; align-items:center;\" onmouseover=\"this.style.backgroundColor='#BA9BF8'\" onmouseout=\"this.style.backgroundColor='#9D6CFF'\" onclick=\"window.commands?.execute('create-mitosheet-from-dataframe-output');\">See Full Dataframe in Mito</div> <script> if (window.commands?.hasCommand('create-mitosheet-from-dataframe-output')) document.getElementById('43e53b67-634c-454e-a886-36aecab0157c').style.display = 'flex' </script> <table border=\"1\" class=\"dataframe\">\n",
       "  <thead>\n",
       "    <tr style=\"text-align: right;\">\n",
       "      <th></th>\n",
       "      <th>tenure</th>\n",
       "      <th>gender_Male</th>\n",
       "      <th>partner_Yes</th>\n",
       "      <th>dependents_Yes</th>\n",
       "      <th>phone_service_Yes</th>\n",
       "      <th>multiple_lines_No phone service</th>\n",
       "      <th>multiple_lines_Yes</th>\n",
       "      <th>online_security_No internet service</th>\n",
       "      <th>online_security_Yes</th>\n",
       "      <th>online_backup_No internet service</th>\n",
       "      <th>...</th>\n",
       "      <th>streaming_movies_Yes</th>\n",
       "      <th>paperless_billing_Yes</th>\n",
       "      <th>churn_Yes</th>\n",
       "      <th>contract_type_One year</th>\n",
       "      <th>contract_type_Two year</th>\n",
       "      <th>payment_type_Credit card (automatic)</th>\n",
       "      <th>payment_type_Electronic check</th>\n",
       "      <th>payment_type_Mailed check</th>\n",
       "      <th>internet_service_type_Fiber optic</th>\n",
       "      <th>internet_service_type_None</th>\n",
       "    </tr>\n",
       "  </thead>\n",
       "  <tbody>\n",
       "    <tr>\n",
       "      <th>0</th>\n",
       "      <td>9</td>\n",
       "      <td>0</td>\n",
       "      <td>1</td>\n",
       "      <td>1</td>\n",
       "      <td>1</td>\n",
       "      <td>0</td>\n",
       "      <td>0</td>\n",
       "      <td>0</td>\n",
       "      <td>0</td>\n",
       "      <td>0</td>\n",
       "      <td>...</td>\n",
       "      <td>0</td>\n",
       "      <td>1</td>\n",
       "      <td>0</td>\n",
       "      <td>1</td>\n",
       "      <td>0</td>\n",
       "      <td>0</td>\n",
       "      <td>0</td>\n",
       "      <td>1</td>\n",
       "      <td>0</td>\n",
       "      <td>0</td>\n",
       "    </tr>\n",
       "    <tr>\n",
       "      <th>1</th>\n",
       "      <td>9</td>\n",
       "      <td>1</td>\n",
       "      <td>0</td>\n",
       "      <td>0</td>\n",
       "      <td>1</td>\n",
       "      <td>0</td>\n",
       "      <td>1</td>\n",
       "      <td>0</td>\n",
       "      <td>0</td>\n",
       "      <td>0</td>\n",
       "      <td>...</td>\n",
       "      <td>1</td>\n",
       "      <td>0</td>\n",
       "      <td>0</td>\n",
       "      <td>0</td>\n",
       "      <td>0</td>\n",
       "      <td>0</td>\n",
       "      <td>0</td>\n",
       "      <td>1</td>\n",
       "      <td>0</td>\n",
       "      <td>0</td>\n",
       "    </tr>\n",
       "    <tr>\n",
       "      <th>2</th>\n",
       "      <td>4</td>\n",
       "      <td>1</td>\n",
       "      <td>0</td>\n",
       "      <td>0</td>\n",
       "      <td>1</td>\n",
       "      <td>0</td>\n",
       "      <td>0</td>\n",
       "      <td>0</td>\n",
       "      <td>0</td>\n",
       "      <td>0</td>\n",
       "      <td>...</td>\n",
       "      <td>0</td>\n",
       "      <td>1</td>\n",
       "      <td>1</td>\n",
       "      <td>0</td>\n",
       "      <td>0</td>\n",
       "      <td>0</td>\n",
       "      <td>1</td>\n",
       "      <td>0</td>\n",
       "      <td>1</td>\n",
       "      <td>0</td>\n",
       "    </tr>\n",
       "    <tr>\n",
       "      <th>3</th>\n",
       "      <td>13</td>\n",
       "      <td>1</td>\n",
       "      <td>1</td>\n",
       "      <td>0</td>\n",
       "      <td>1</td>\n",
       "      <td>0</td>\n",
       "      <td>0</td>\n",
       "      <td>0</td>\n",
       "      <td>0</td>\n",
       "      <td>0</td>\n",
       "      <td>...</td>\n",
       "      <td>1</td>\n",
       "      <td>1</td>\n",
       "      <td>1</td>\n",
       "      <td>0</td>\n",
       "      <td>0</td>\n",
       "      <td>0</td>\n",
       "      <td>1</td>\n",
       "      <td>0</td>\n",
       "      <td>1</td>\n",
       "      <td>0</td>\n",
       "    </tr>\n",
       "    <tr>\n",
       "      <th>4</th>\n",
       "      <td>3</td>\n",
       "      <td>0</td>\n",
       "      <td>1</td>\n",
       "      <td>0</td>\n",
       "      <td>1</td>\n",
       "      <td>0</td>\n",
       "      <td>0</td>\n",
       "      <td>0</td>\n",
       "      <td>0</td>\n",
       "      <td>0</td>\n",
       "      <td>...</td>\n",
       "      <td>0</td>\n",
       "      <td>1</td>\n",
       "      <td>1</td>\n",
       "      <td>0</td>\n",
       "      <td>0</td>\n",
       "      <td>0</td>\n",
       "      <td>0</td>\n",
       "      <td>1</td>\n",
       "      <td>1</td>\n",
       "      <td>0</td>\n",
       "    </tr>\n",
       "  </tbody>\n",
       "</table></div>"
      ],
      "text/plain": [
       "   tenure  gender_Male  partner_Yes  dependents_Yes  phone_service_Yes  \\\n",
       "0       9            0            1               1                  1   \n",
       "1       9            1            0               0                  1   \n",
       "2       4            1            0               0                  1   \n",
       "3      13            1            1               0                  1   \n",
       "4       3            0            1               0                  1   \n",
       "\n",
       "   multiple_lines_No phone service  multiple_lines_Yes  \\\n",
       "0                                0                   0   \n",
       "1                                0                   1   \n",
       "2                                0                   0   \n",
       "3                                0                   0   \n",
       "4                                0                   0   \n",
       "\n",
       "   online_security_No internet service  online_security_Yes  \\\n",
       "0                                    0                    0   \n",
       "1                                    0                    0   \n",
       "2                                    0                    0   \n",
       "3                                    0                    0   \n",
       "4                                    0                    0   \n",
       "\n",
       "   online_backup_No internet service  ...  streaming_movies_Yes  \\\n",
       "0                                  0  ...                     0   \n",
       "1                                  0  ...                     1   \n",
       "2                                  0  ...                     0   \n",
       "3                                  0  ...                     1   \n",
       "4                                  0  ...                     0   \n",
       "\n",
       "   paperless_billing_Yes  churn_Yes  contract_type_One year  \\\n",
       "0                      1          0                       1   \n",
       "1                      0          0                       0   \n",
       "2                      1          1                       0   \n",
       "3                      1          1                       0   \n",
       "4                      1          1                       0   \n",
       "\n",
       "   contract_type_Two year  payment_type_Credit card (automatic)  \\\n",
       "0                       0                                     0   \n",
       "1                       0                                     0   \n",
       "2                       0                                     0   \n",
       "3                       0                                     0   \n",
       "4                       0                                     0   \n",
       "\n",
       "   payment_type_Electronic check  payment_type_Mailed check  \\\n",
       "0                              0                          1   \n",
       "1                              0                          1   \n",
       "2                              1                          0   \n",
       "3                              1                          0   \n",
       "4                              0                          1   \n",
       "\n",
       "   internet_service_type_Fiber optic  internet_service_type_None  \n",
       "0                                  0                           0  \n",
       "1                                  0                           0  \n",
       "2                                  1                           0  \n",
       "3                                  1                           0  \n",
       "4                                  1                           0  \n",
       "\n",
       "[5 rows x 28 columns]"
      ]
     },
     "execution_count": 60,
     "metadata": {},
     "output_type": "execute_result"
    }
   ],
   "source": [
    "df.head()"
   ]
  },
  {
   "cell_type": "code",
   "execution_count": 61,
   "id": "744ce213",
   "metadata": {},
   "outputs": [
    {
     "data": {
      "text/html": [
       "<div><div id=575b447f-73f3-43df-a354-41b2243dad54 style=\"display:none; background-color:#9D6CFF; color:white; width:200px; height:30px; padding-left:5px; border-radius:4px; flex-direction:row; justify-content:space-around; align-items:center;\" onmouseover=\"this.style.backgroundColor='#BA9BF8'\" onmouseout=\"this.style.backgroundColor='#9D6CFF'\" onclick=\"window.commands?.execute('create-mitosheet-from-dataframe-output');\">See Full Dataframe in Mito</div> <script> if (window.commands?.hasCommand('create-mitosheet-from-dataframe-output')) document.getElementById('575b447f-73f3-43df-a354-41b2243dad54').style.display = 'flex' </script> <table border=\"1\" class=\"dataframe\">\n",
       "  <thead>\n",
       "    <tr style=\"text-align: right;\">\n",
       "      <th></th>\n",
       "      <th>tenure</th>\n",
       "      <th>gender_Male</th>\n",
       "      <th>partner_Yes</th>\n",
       "      <th>dependents_Yes</th>\n",
       "      <th>phone_service_Yes</th>\n",
       "      <th>multiple_lines_No phone service</th>\n",
       "      <th>multiple_lines_Yes</th>\n",
       "      <th>online_security_No internet service</th>\n",
       "      <th>online_security_Yes</th>\n",
       "      <th>online_backup_No internet service</th>\n",
       "      <th>...</th>\n",
       "      <th>streaming_movies_Yes</th>\n",
       "      <th>paperless_billing_Yes</th>\n",
       "      <th>churn_Yes</th>\n",
       "      <th>contract_type_One year</th>\n",
       "      <th>contract_type_Two year</th>\n",
       "      <th>payment_type_Credit card (automatic)</th>\n",
       "      <th>payment_type_Electronic check</th>\n",
       "      <th>payment_type_Mailed check</th>\n",
       "      <th>internet_service_type_Fiber optic</th>\n",
       "      <th>internet_service_type_None</th>\n",
       "    </tr>\n",
       "  </thead>\n",
       "  <tbody>\n",
       "    <tr>\n",
       "      <th>5919</th>\n",
       "      <td>58</td>\n",
       "      <td>0</td>\n",
       "      <td>0</td>\n",
       "      <td>0</td>\n",
       "      <td>1</td>\n",
       "      <td>0</td>\n",
       "      <td>1</td>\n",
       "      <td>0</td>\n",
       "      <td>1</td>\n",
       "      <td>0</td>\n",
       "      <td>...</td>\n",
       "      <td>0</td>\n",
       "      <td>1</td>\n",
       "      <td>0</td>\n",
       "      <td>1</td>\n",
       "      <td>0</td>\n",
       "      <td>1</td>\n",
       "      <td>0</td>\n",
       "      <td>0</td>\n",
       "      <td>0</td>\n",
       "      <td>0</td>\n",
       "    </tr>\n",
       "    <tr>\n",
       "      <th>1915</th>\n",
       "      <td>71</td>\n",
       "      <td>1</td>\n",
       "      <td>0</td>\n",
       "      <td>1</td>\n",
       "      <td>1</td>\n",
       "      <td>0</td>\n",
       "      <td>1</td>\n",
       "      <td>0</td>\n",
       "      <td>1</td>\n",
       "      <td>0</td>\n",
       "      <td>...</td>\n",
       "      <td>0</td>\n",
       "      <td>1</td>\n",
       "      <td>0</td>\n",
       "      <td>1</td>\n",
       "      <td>0</td>\n",
       "      <td>1</td>\n",
       "      <td>0</td>\n",
       "      <td>0</td>\n",
       "      <td>1</td>\n",
       "      <td>0</td>\n",
       "    </tr>\n",
       "    <tr>\n",
       "      <th>5054</th>\n",
       "      <td>35</td>\n",
       "      <td>0</td>\n",
       "      <td>1</td>\n",
       "      <td>1</td>\n",
       "      <td>1</td>\n",
       "      <td>0</td>\n",
       "      <td>1</td>\n",
       "      <td>1</td>\n",
       "      <td>0</td>\n",
       "      <td>1</td>\n",
       "      <td>...</td>\n",
       "      <td>0</td>\n",
       "      <td>1</td>\n",
       "      <td>0</td>\n",
       "      <td>0</td>\n",
       "      <td>0</td>\n",
       "      <td>0</td>\n",
       "      <td>1</td>\n",
       "      <td>0</td>\n",
       "      <td>0</td>\n",
       "      <td>1</td>\n",
       "    </tr>\n",
       "    <tr>\n",
       "      <th>2355</th>\n",
       "      <td>1</td>\n",
       "      <td>1</td>\n",
       "      <td>1</td>\n",
       "      <td>1</td>\n",
       "      <td>1</td>\n",
       "      <td>0</td>\n",
       "      <td>0</td>\n",
       "      <td>1</td>\n",
       "      <td>0</td>\n",
       "      <td>1</td>\n",
       "      <td>...</td>\n",
       "      <td>0</td>\n",
       "      <td>0</td>\n",
       "      <td>0</td>\n",
       "      <td>0</td>\n",
       "      <td>0</td>\n",
       "      <td>0</td>\n",
       "      <td>0</td>\n",
       "      <td>1</td>\n",
       "      <td>0</td>\n",
       "      <td>1</td>\n",
       "    </tr>\n",
       "    <tr>\n",
       "      <th>6279</th>\n",
       "      <td>20</td>\n",
       "      <td>1</td>\n",
       "      <td>0</td>\n",
       "      <td>0</td>\n",
       "      <td>1</td>\n",
       "      <td>0</td>\n",
       "      <td>0</td>\n",
       "      <td>0</td>\n",
       "      <td>1</td>\n",
       "      <td>0</td>\n",
       "      <td>...</td>\n",
       "      <td>0</td>\n",
       "      <td>0</td>\n",
       "      <td>0</td>\n",
       "      <td>1</td>\n",
       "      <td>0</td>\n",
       "      <td>0</td>\n",
       "      <td>0</td>\n",
       "      <td>1</td>\n",
       "      <td>0</td>\n",
       "      <td>0</td>\n",
       "    </tr>\n",
       "  </tbody>\n",
       "</table></div>"
      ],
      "text/plain": [
       "      tenure  gender_Male  partner_Yes  dependents_Yes  phone_service_Yes  \\\n",
       "5919      58            0            0               0                  1   \n",
       "1915      71            1            0               1                  1   \n",
       "5054      35            0            1               1                  1   \n",
       "2355       1            1            1               1                  1   \n",
       "6279      20            1            0               0                  1   \n",
       "\n",
       "      multiple_lines_No phone service  multiple_lines_Yes  \\\n",
       "5919                                0                   1   \n",
       "1915                                0                   1   \n",
       "5054                                0                   1   \n",
       "2355                                0                   0   \n",
       "6279                                0                   0   \n",
       "\n",
       "      online_security_No internet service  online_security_Yes  \\\n",
       "5919                                    0                    1   \n",
       "1915                                    0                    1   \n",
       "5054                                    1                    0   \n",
       "2355                                    1                    0   \n",
       "6279                                    0                    1   \n",
       "\n",
       "      online_backup_No internet service  ...  streaming_movies_Yes  \\\n",
       "5919                                  0  ...                     0   \n",
       "1915                                  0  ...                     0   \n",
       "5054                                  1  ...                     0   \n",
       "2355                                  1  ...                     0   \n",
       "6279                                  0  ...                     0   \n",
       "\n",
       "      paperless_billing_Yes  churn_Yes  contract_type_One year  \\\n",
       "5919                      1          0                       1   \n",
       "1915                      1          0                       1   \n",
       "5054                      1          0                       0   \n",
       "2355                      0          0                       0   \n",
       "6279                      0          0                       1   \n",
       "\n",
       "      contract_type_Two year  payment_type_Credit card (automatic)  \\\n",
       "5919                       0                                     1   \n",
       "1915                       0                                     1   \n",
       "5054                       0                                     0   \n",
       "2355                       0                                     0   \n",
       "6279                       0                                     0   \n",
       "\n",
       "      payment_type_Electronic check  payment_type_Mailed check  \\\n",
       "5919                              0                          0   \n",
       "1915                              0                          0   \n",
       "5054                              1                          0   \n",
       "2355                              0                          1   \n",
       "6279                              0                          1   \n",
       "\n",
       "      internet_service_type_Fiber optic  internet_service_type_None  \n",
       "5919                                  0                           0  \n",
       "1915                                  1                           0  \n",
       "5054                                  0                           1  \n",
       "2355                                  0                           1  \n",
       "6279                                  0                           0  \n",
       "\n",
       "[5 rows x 28 columns]"
      ]
     },
     "execution_count": 61,
     "metadata": {},
     "output_type": "execute_result"
    }
   ],
   "source": [
    "# time to split into train, validate and test sets\n",
    "train, validate, test = split.train_validate_test_split(df, 'churn_Yes')\n",
    "train.head()"
   ]
  },
  {
   "cell_type": "code",
   "execution_count": 62,
   "id": "4eab2663",
   "metadata": {},
   "outputs": [],
   "source": [
    "## the baseline prediction is the modal outcome:\n",
    "churn_odds = train.churn_Yes.mean()\n",
    "non_churn_odds = (1 - churn_odds)"
   ]
  },
  {
   "cell_type": "code",
   "execution_count": 63,
   "id": "6b31054b",
   "metadata": {},
   "outputs": [
    {
     "data": {
      "text/plain": [
       "0.2656845313690627"
      ]
     },
     "execution_count": 63,
     "metadata": {},
     "output_type": "execute_result"
    }
   ],
   "source": [
    "churn_odds"
   ]
  },
  {
   "cell_type": "code",
   "execution_count": 64,
   "id": "eb65986d",
   "metadata": {},
   "outputs": [
    {
     "data": {
      "text/plain": [
       "0.7343154686309372"
      ]
     },
     "execution_count": 64,
     "metadata": {},
     "output_type": "execute_result"
    }
   ],
   "source": [
    "non_churn_odds"
   ]
  },
  {
   "cell_type": "code",
   "execution_count": 65,
   "id": "01afa5f8",
   "metadata": {},
   "outputs": [
    {
     "name": "stdout",
     "output_type": "stream",
     "text": [
      "The baseline prediction is that a given customer will not churn\n"
     ]
    }
   ],
   "source": [
    "if non_churn_odds > churn_odds:\n",
    "    print(\"\"\"The baseline prediction is that a given customer will not churn\"\"\")\n",
    "else:\n",
    "    print(\"\"\"The baseline prediction is that a given customer will churn\"\"\")"
   ]
  },
  {
   "cell_type": "code",
   "execution_count": 66,
   "id": "bc41262c",
   "metadata": {},
   "outputs": [
    {
     "data": {
      "text/html": [
       "<div><div id=4a312cf6-7f4b-454d-85f3-5cc2d75a6be6 style=\"display:none; background-color:#9D6CFF; color:white; width:200px; height:30px; padding-left:5px; border-radius:4px; flex-direction:row; justify-content:space-around; align-items:center;\" onmouseover=\"this.style.backgroundColor='#BA9BF8'\" onmouseout=\"this.style.backgroundColor='#9D6CFF'\" onclick=\"window.commands?.execute('create-mitosheet-from-dataframe-output');\">See Full Dataframe in Mito</div> <script> if (window.commands?.hasCommand('create-mitosheet-from-dataframe-output')) document.getElementById('4a312cf6-7f4b-454d-85f3-5cc2d75a6be6').style.display = 'flex' </script> <table border=\"1\" class=\"dataframe\">\n",
       "  <thead>\n",
       "    <tr style=\"text-align: right;\">\n",
       "      <th></th>\n",
       "      <th>churn_Yes</th>\n",
       "    </tr>\n",
       "  </thead>\n",
       "  <tbody>\n",
       "    <tr>\n",
       "      <th>5919</th>\n",
       "      <td>0</td>\n",
       "    </tr>\n",
       "    <tr>\n",
       "      <th>1915</th>\n",
       "      <td>0</td>\n",
       "    </tr>\n",
       "    <tr>\n",
       "      <th>5054</th>\n",
       "      <td>0</td>\n",
       "    </tr>\n",
       "    <tr>\n",
       "      <th>2355</th>\n",
       "      <td>0</td>\n",
       "    </tr>\n",
       "    <tr>\n",
       "      <th>6279</th>\n",
       "      <td>0</td>\n",
       "    </tr>\n",
       "    <tr>\n",
       "      <th>...</th>\n",
       "      <td>...</td>\n",
       "    </tr>\n",
       "    <tr>\n",
       "      <th>394</th>\n",
       "      <td>0</td>\n",
       "    </tr>\n",
       "    <tr>\n",
       "      <th>3763</th>\n",
       "      <td>1</td>\n",
       "    </tr>\n",
       "    <tr>\n",
       "      <th>3444</th>\n",
       "      <td>0</td>\n",
       "    </tr>\n",
       "    <tr>\n",
       "      <th>1002</th>\n",
       "      <td>0</td>\n",
       "    </tr>\n",
       "    <tr>\n",
       "      <th>4192</th>\n",
       "      <td>0</td>\n",
       "    </tr>\n",
       "  </tbody>\n",
       "</table></div>"
      ],
      "text/plain": [
       "      churn_Yes\n",
       "5919          0\n",
       "1915          0\n",
       "5054          0\n",
       "2355          0\n",
       "6279          0\n",
       "...         ...\n",
       "394           0\n",
       "3763          1\n",
       "3444          0\n",
       "1002          0\n",
       "4192          0\n",
       "\n",
       "[3937 rows x 1 columns]"
      ]
     },
     "execution_count": 66,
     "metadata": {},
     "output_type": "execute_result"
    }
   ],
   "source": [
    "train_baseline = pd.DataFrame(train.churn_Yes)\n",
    "train_baseline"
   ]
  },
  {
   "cell_type": "code",
   "execution_count": 67,
   "id": "d8c625db",
   "metadata": {},
   "outputs": [
    {
     "data": {
      "text/html": [
       "<div><div id=9acf1125-979d-4ac4-9a12-4c33db9d091d style=\"display:none; background-color:#9D6CFF; color:white; width:200px; height:30px; padding-left:5px; border-radius:4px; flex-direction:row; justify-content:space-around; align-items:center;\" onmouseover=\"this.style.backgroundColor='#BA9BF8'\" onmouseout=\"this.style.backgroundColor='#9D6CFF'\" onclick=\"window.commands?.execute('create-mitosheet-from-dataframe-output');\">See Full Dataframe in Mito</div> <script> if (window.commands?.hasCommand('create-mitosheet-from-dataframe-output')) document.getElementById('9acf1125-979d-4ac4-9a12-4c33db9d091d').style.display = 'flex' </script> <table border=\"1\" class=\"dataframe\">\n",
       "  <thead>\n",
       "    <tr style=\"text-align: right;\">\n",
       "      <th></th>\n",
       "      <th>churn_Yes</th>\n",
       "      <th>baseline</th>\n",
       "    </tr>\n",
       "  </thead>\n",
       "  <tbody>\n",
       "    <tr>\n",
       "      <th>5919</th>\n",
       "      <td>0</td>\n",
       "      <td>0</td>\n",
       "    </tr>\n",
       "    <tr>\n",
       "      <th>1915</th>\n",
       "      <td>0</td>\n",
       "      <td>0</td>\n",
       "    </tr>\n",
       "    <tr>\n",
       "      <th>5054</th>\n",
       "      <td>0</td>\n",
       "      <td>0</td>\n",
       "    </tr>\n",
       "    <tr>\n",
       "      <th>2355</th>\n",
       "      <td>0</td>\n",
       "      <td>0</td>\n",
       "    </tr>\n",
       "    <tr>\n",
       "      <th>6279</th>\n",
       "      <td>0</td>\n",
       "      <td>0</td>\n",
       "    </tr>\n",
       "  </tbody>\n",
       "</table></div>"
      ],
      "text/plain": [
       "      churn_Yes  baseline\n",
       "5919          0         0\n",
       "1915          0         0\n",
       "5054          0         0\n",
       "2355          0         0\n",
       "6279          0         0"
      ]
     },
     "execution_count": 67,
     "metadata": {},
     "output_type": "execute_result"
    }
   ],
   "source": [
    "train_baseline['baseline'] = 0\n",
    "train_baseline.head()"
   ]
  },
  {
   "cell_type": "code",
   "execution_count": 68,
   "id": "bb3d1e4b",
   "metadata": {},
   "outputs": [
    {
     "data": {
      "text/plain": [
       "0.7343154686309372"
      ]
     },
     "execution_count": 68,
     "metadata": {},
     "output_type": "execute_result"
    }
   ],
   "source": [
    "# model accuracy\n",
    "(train_baseline.churn_Yes == train_baseline.baseline).mean()"
   ]
  },
  {
   "cell_type": "markdown",
   "id": "8336e92b",
   "metadata": {},
   "source": [
    "## 2. Fit the decision tree classifier to your training sample and transform (i.e. make predictions on the training sample)"
   ]
  },
  {
   "cell_type": "code",
   "execution_count": 69,
   "id": "e05c155d",
   "metadata": {},
   "outputs": [
    {
     "data": {
      "text/plain": [
       "tenure                                   0\n",
       "gender_Male                              0\n",
       "partner_Yes                              0\n",
       "dependents_Yes                           0\n",
       "phone_service_Yes                        0\n",
       "multiple_lines_No phone service          0\n",
       "multiple_lines_Yes                       0\n",
       "online_security_No internet service      0\n",
       "online_security_Yes                      0\n",
       "online_backup_No internet service        0\n",
       "online_backup_Yes                        0\n",
       "device_protection_No internet service    0\n",
       "device_protection_Yes                    0\n",
       "tech_support_No internet service         0\n",
       "tech_support_Yes                         0\n",
       "streaming_tv_No internet service         0\n",
       "streaming_tv_Yes                         0\n",
       "streaming_movies_No internet service     0\n",
       "streaming_movies_Yes                     0\n",
       "paperless_billing_Yes                    0\n",
       "churn_Yes                                0\n",
       "contract_type_One year                   0\n",
       "contract_type_Two year                   0\n",
       "payment_type_Credit card (automatic)     0\n",
       "payment_type_Electronic check            0\n",
       "payment_type_Mailed check                0\n",
       "internet_service_type_Fiber optic        0\n",
       "internet_service_type_None               0\n",
       "dtype: int64"
      ]
     },
     "execution_count": 69,
     "metadata": {},
     "output_type": "execute_result"
    }
   ],
   "source": [
    "train.isna().sum()"
   ]
  },
  {
   "cell_type": "code",
   "execution_count": 70,
   "id": "73a88c94",
   "metadata": {},
   "outputs": [
    {
     "data": {
      "text/plain": [
       "Index(['tenure', 'gender_Male', 'partner_Yes', 'dependents_Yes',\n",
       "       'phone_service_Yes', 'multiple_lines_No phone service',\n",
       "       'multiple_lines_Yes', 'online_security_No internet service',\n",
       "       'online_security_Yes', 'online_backup_No internet service',\n",
       "       'online_backup_Yes', 'device_protection_No internet service',\n",
       "       'device_protection_Yes', 'tech_support_No internet service',\n",
       "       'tech_support_Yes', 'streaming_tv_No internet service',\n",
       "       'streaming_tv_Yes', 'streaming_movies_No internet service',\n",
       "       'streaming_movies_Yes', 'paperless_billing_Yes', 'churn_Yes',\n",
       "       'contract_type_One year', 'contract_type_Two year',\n",
       "       'payment_type_Credit card (automatic)', 'payment_type_Electronic check',\n",
       "       'payment_type_Mailed check', 'internet_service_type_Fiber optic',\n",
       "       'internet_service_type_None'],\n",
       "      dtype='object')"
      ]
     },
     "execution_count": 70,
     "metadata": {},
     "output_type": "execute_result"
    }
   ],
   "source": [
    "train.columns"
   ]
  },
  {
   "cell_type": "code",
   "execution_count": 71,
   "id": "a45af99b",
   "metadata": {},
   "outputs": [],
   "source": [
    "#imputer = SimpleImputer(strategy='median', missing_values=np.nan)"
   ]
  },
  {
   "cell_type": "code",
   "execution_count": 72,
   "id": "f0c9951f",
   "metadata": {},
   "outputs": [],
   "source": [
    "#imputer = imputer.fit(train[['age']])"
   ]
  },
  {
   "cell_type": "code",
   "execution_count": 73,
   "id": "7babcdd8",
   "metadata": {},
   "outputs": [],
   "source": [
    "#train[['age']] = imputer.transform(train[['age']])"
   ]
  },
  {
   "cell_type": "code",
   "execution_count": 74,
   "id": "fb340edf",
   "metadata": {},
   "outputs": [],
   "source": [
    "#now impute age values to take care of nulls \n",
    "# train[['age']] = imputer.transform(train[['age']])\n",
    "# validate[['age']] = imputer.transform(validate[['age']])\n",
    "# test[['age']] = imputer.transform(test[['age']])"
   ]
  },
  {
   "cell_type": "code",
   "execution_count": 75,
   "id": "ea76bed0",
   "metadata": {},
   "outputs": [],
   "source": [
    "# Classification is supervied ML, so we seperate data and labels\n",
    "# first we need to split the datasets into x and y versions:\n",
    "# x version drops 'survived'\n",
    "# y version is only the survived column\n",
    "\n",
    "X_train = train.drop(columns = ['churn_Yes'])\n",
    "Y_train = train.churn_Yes\n",
    "\n",
    "X_validate = validate.drop(columns = ['churn_Yes'])\n",
    "Y_validate = validate.churn_Yes\n",
    "\n",
    "X_test = test.drop(columns = ['churn_Yes'])\n",
    "Y_test = test.churn_Yes"
   ]
  },
  {
   "cell_type": "code",
   "execution_count": 76,
   "id": "87f44f71",
   "metadata": {},
   "outputs": [],
   "source": [
    "# now we fit the model to the training data\n",
    "clf = DecisionTreeClassifier(max_depth=4, random_state=123)"
   ]
  },
  {
   "cell_type": "code",
   "execution_count": 77,
   "id": "27fe05e9",
   "metadata": {},
   "outputs": [],
   "source": [
    "clf = clf.fit(X_train, Y_train)"
   ]
  },
  {
   "cell_type": "code",
   "execution_count": 112,
   "id": "9a523ac8",
   "metadata": {},
   "outputs": [],
   "source": [
    "#plt.figure(figsize=(18, 10))\n",
    "#plot_tree(clf, feature_names=X_train.columns, class_names=clf.classes_.astype(str), rounded=True)\n"
   ]
  },
  {
   "cell_type": "code",
   "execution_count": 79,
   "id": "76aeb123",
   "metadata": {},
   "outputs": [
    {
     "data": {
      "text/plain": [
       "0    3173\n",
       "1     764\n",
       "dtype: int64"
      ]
     },
     "execution_count": 79,
     "metadata": {},
     "output_type": "execute_result"
    }
   ],
   "source": [
    "#make predictions:\n",
    "churn_prediction = pd.DataFrame(clf.predict(X_train))\n",
    "churn_prediction.value_counts()"
   ]
  },
  {
   "cell_type": "code",
   "execution_count": 80,
   "id": "ee8138d3",
   "metadata": {},
   "outputs": [
    {
     "data": {
      "text/html": [
       "<div><div id=303b86ac-7a8b-4a9a-b197-d03a14d3087b style=\"display:none; background-color:#9D6CFF; color:white; width:200px; height:30px; padding-left:5px; border-radius:4px; flex-direction:row; justify-content:space-around; align-items:center;\" onmouseover=\"this.style.backgroundColor='#BA9BF8'\" onmouseout=\"this.style.backgroundColor='#9D6CFF'\" onclick=\"window.commands?.execute('create-mitosheet-from-dataframe-output');\">See Full Dataframe in Mito</div> <script> if (window.commands?.hasCommand('create-mitosheet-from-dataframe-output')) document.getElementById('303b86ac-7a8b-4a9a-b197-d03a14d3087b').style.display = 'flex' </script> <table border=\"1\" class=\"dataframe\">\n",
       "  <thead>\n",
       "    <tr style=\"text-align: right;\">\n",
       "      <th></th>\n",
       "      <th>0</th>\n",
       "      <th>1</th>\n",
       "    </tr>\n",
       "  </thead>\n",
       "  <tbody>\n",
       "    <tr>\n",
       "      <th>0</th>\n",
       "      <td>0.935108</td>\n",
       "      <td>0.064892</td>\n",
       "    </tr>\n",
       "    <tr>\n",
       "      <th>1</th>\n",
       "      <td>0.780781</td>\n",
       "      <td>0.219219</td>\n",
       "    </tr>\n",
       "    <tr>\n",
       "      <th>2</th>\n",
       "      <td>0.935108</td>\n",
       "      <td>0.064892</td>\n",
       "    </tr>\n",
       "    <tr>\n",
       "      <th>3</th>\n",
       "      <td>0.725490</td>\n",
       "      <td>0.274510</td>\n",
       "    </tr>\n",
       "    <tr>\n",
       "      <th>4</th>\n",
       "      <td>0.935108</td>\n",
       "      <td>0.064892</td>\n",
       "    </tr>\n",
       "    <tr>\n",
       "      <th>...</th>\n",
       "      <td>...</td>\n",
       "      <td>...</td>\n",
       "    </tr>\n",
       "    <tr>\n",
       "      <th>3932</th>\n",
       "      <td>0.547667</td>\n",
       "      <td>0.452333</td>\n",
       "    </tr>\n",
       "    <tr>\n",
       "      <th>3933</th>\n",
       "      <td>0.268868</td>\n",
       "      <td>0.731132</td>\n",
       "    </tr>\n",
       "    <tr>\n",
       "      <th>3934</th>\n",
       "      <td>0.990783</td>\n",
       "      <td>0.009217</td>\n",
       "    </tr>\n",
       "    <tr>\n",
       "      <th>3935</th>\n",
       "      <td>0.547667</td>\n",
       "      <td>0.452333</td>\n",
       "    </tr>\n",
       "    <tr>\n",
       "      <th>3936</th>\n",
       "      <td>0.725490</td>\n",
       "      <td>0.274510</td>\n",
       "    </tr>\n",
       "  </tbody>\n",
       "</table></div>"
      ],
      "text/plain": [
       "             0         1\n",
       "0     0.935108  0.064892\n",
       "1     0.780781  0.219219\n",
       "2     0.935108  0.064892\n",
       "3     0.725490  0.274510\n",
       "4     0.935108  0.064892\n",
       "...        ...       ...\n",
       "3932  0.547667  0.452333\n",
       "3933  0.268868  0.731132\n",
       "3934  0.990783  0.009217\n",
       "3935  0.547667  0.452333\n",
       "3936  0.725490  0.274510\n",
       "\n",
       "[3937 rows x 2 columns]"
      ]
     },
     "execution_count": 80,
     "metadata": {},
     "output_type": "execute_result"
    }
   ],
   "source": [
    "# Predict probability\n",
    "churn_prediction_proba = pd.DataFrame(clf.predict_proba(X_train))\n",
    "churn_prediction_proba"
   ]
  },
  {
   "cell_type": "markdown",
   "id": "d8190271",
   "metadata": {},
   "source": [
    "## 3. Evaluate your in-sample results using the model score, confusion matrix, and classification report."
   ]
  },
  {
   "cell_type": "code",
   "execution_count": 81,
   "id": "cb9e5330",
   "metadata": {},
   "outputs": [
    {
     "name": "stdout",
     "output_type": "stream",
     "text": [
      "Accuracy of Decision Tree classifer on training set: 0.7993395986791973\n"
     ]
    }
   ],
   "source": [
    "# compute accuracy\n",
    "print(f\"Accuracy of Decision Tree classifer on training set: \"\\\n",
    "        f\"{clf.score(X_train, Y_train)}\")"
   ]
  },
  {
   "cell_type": "code",
   "execution_count": 82,
   "id": "ea642268",
   "metadata": {},
   "outputs": [
    {
     "data": {
      "text/plain": [
       "array([[2637,  254],\n",
       "       [ 536,  510]])"
      ]
     },
     "execution_count": 82,
     "metadata": {},
     "output_type": "execute_result"
    }
   ],
   "source": [
    "# confusion matrix\n",
    "confusion_matrix(Y_train, churn_prediction)"
   ]
  },
  {
   "cell_type": "code",
   "execution_count": 83,
   "id": "80e8f2c7",
   "metadata": {},
   "outputs": [
    {
     "data": {
      "text/plain": [
       "0    2891\n",
       "1    1046\n",
       "Name: churn_Yes, dtype: int64"
      ]
     },
     "execution_count": 83,
     "metadata": {},
     "output_type": "execute_result"
    }
   ],
   "source": [
    "Y_train.value_counts()"
   ]
  },
  {
   "cell_type": "code",
   "execution_count": 84,
   "id": "ffb68dc4",
   "metadata": {},
   "outputs": [
    {
     "data": {
      "text/html": [
       "<div><div id=aa98ff68-f175-40f4-8efa-7a6403eb86dc style=\"display:none; background-color:#9D6CFF; color:white; width:200px; height:30px; padding-left:5px; border-radius:4px; flex-direction:row; justify-content:space-around; align-items:center;\" onmouseover=\"this.style.backgroundColor='#BA9BF8'\" onmouseout=\"this.style.backgroundColor='#9D6CFF'\" onclick=\"window.commands?.execute('create-mitosheet-from-dataframe-output');\">See Full Dataframe in Mito</div> <script> if (window.commands?.hasCommand('create-mitosheet-from-dataframe-output')) document.getElementById('aa98ff68-f175-40f4-8efa-7a6403eb86dc').style.display = 'flex' </script> <table border=\"1\" class=\"dataframe\">\n",
       "  <thead>\n",
       "    <tr style=\"text-align: right;\">\n",
       "      <th></th>\n",
       "      <th>0</th>\n",
       "      <th>1</th>\n",
       "    </tr>\n",
       "  </thead>\n",
       "  <tbody>\n",
       "    <tr>\n",
       "      <th>0</th>\n",
       "      <td>2637</td>\n",
       "      <td>254</td>\n",
       "    </tr>\n",
       "    <tr>\n",
       "      <th>1</th>\n",
       "      <td>536</td>\n",
       "      <td>510</td>\n",
       "    </tr>\n",
       "  </tbody>\n",
       "</table></div>"
      ],
      "text/plain": [
       "      0    1\n",
       "0  2637  254\n",
       "1   536  510"
      ]
     },
     "execution_count": 84,
     "metadata": {},
     "output_type": "execute_result"
    }
   ],
   "source": [
    "labels = sorted(Y_train.unique())\n",
    "\n",
    "pd.DataFrame(confusion_matrix(Y_train, churn_prediction), index=labels, columns=labels)"
   ]
  },
  {
   "cell_type": "code",
   "execution_count": 85,
   "id": "9be3a8fc",
   "metadata": {},
   "outputs": [
    {
     "name": "stdout",
     "output_type": "stream",
     "text": [
      "              precision    recall  f1-score   support\n",
      "\n",
      "           0       0.83      0.91      0.87      2891\n",
      "           1       0.67      0.49      0.56      1046\n",
      "\n",
      "    accuracy                           0.80      3937\n",
      "   macro avg       0.75      0.70      0.72      3937\n",
      "weighted avg       0.79      0.80      0.79      3937\n",
      "\n"
     ]
    }
   ],
   "source": [
    "#classification report\n",
    "print(classification_report(Y_train, churn_prediction))"
   ]
  },
  {
   "cell_type": "markdown",
   "id": "b7ddc33e",
   "metadata": {},
   "source": [
    "## 4. Compute: Accuracy, true positive rate, false positive rate, true negative rate, false negative rate, precision, recall, f1-score, and support."
   ]
  },
  {
   "cell_type": "code",
   "execution_count": 86,
   "id": "e1ff9742",
   "metadata": {},
   "outputs": [
    {
     "name": "stdout",
     "output_type": "stream",
     "text": [
      "Accuracy of Decision Tree classifer on training set: 0.7993395986791973\n"
     ]
    }
   ],
   "source": [
    "# compute accuracy\n",
    "print(f\"Accuracy of Decision Tree classifer on training set: \"\\\n",
    "        f\"{clf.score(X_train, Y_train)}\")"
   ]
  },
  {
   "cell_type": "code",
   "execution_count": 87,
   "id": "25964584",
   "metadata": {},
   "outputs": [],
   "source": [
    "# true positive rate is the same as recall\n",
    "# Recall (True pos/ true pos + False neg) = 0.91 for churned, \n",
    "# 0.49 for non-churned\n",
    "\n",
    "# Precision (True pos/true pos + False pos) = 0.83 for churned, \n",
    "# 0.67 for non-churned"
   ]
  },
  {
   "cell_type": "markdown",
   "id": "854a9532",
   "metadata": {},
   "source": [
    "## 5. Run through steps 2-4 using a different max_depth value."
   ]
  },
  {
   "cell_type": "code",
   "execution_count": 88,
   "id": "d67f0f63",
   "metadata": {},
   "outputs": [],
   "source": [
    "# now we fit the model to the training data\n",
    "clf = DecisionTreeClassifier(max_depth=5, random_state=123)\n",
    "\n",
    "clf = clf.fit(X_train, Y_train)"
   ]
  },
  {
   "cell_type": "code",
   "execution_count": 89,
   "id": "79f92361",
   "metadata": {},
   "outputs": [
    {
     "data": {
      "text/plain": [
       "[Text(502.20000000000005, 498.3, 'tenure <= 15.5\\ngini = 0.39\\nsamples = 3937\\nvalue = [2891, 1046]\\nclass = 0'),\n",
       " Text(251.10000000000002, 407.70000000000005, 'internet_service_type_Fiber optic <= 0.5\\ngini = 0.498\\nsamples = 1371\\nvalue = [733, 638]\\nclass = 0'),\n",
       " Text(125.55000000000001, 317.1, 'tenure <= 3.5\\ngini = 0.416\\nsamples = 804\\nvalue = [567, 237]\\nclass = 0'),\n",
       " Text(62.775000000000006, 226.5, 'streaming_movies_No internet service <= 0.5\\ngini = 0.491\\nsamples = 356\\nvalue = [202, 154]\\nclass = 0'),\n",
       " Text(31.387500000000003, 135.89999999999998, 'tech_support_Yes <= 0.5\\ngini = 0.495\\nsamples = 203\\nvalue = [91, 112]\\nclass = 1'),\n",
       " Text(15.693750000000001, 45.299999999999955, 'gini = 0.483\\nsamples = 174\\nvalue = [71, 103]\\nclass = 1'),\n",
       " Text(47.081250000000004, 45.299999999999955, 'gini = 0.428\\nsamples = 29\\nvalue = [20, 9]\\nclass = 0'),\n",
       " Text(94.16250000000001, 135.89999999999998, 'tenure <= 1.5\\ngini = 0.398\\nsamples = 153\\nvalue = [111, 42]\\nclass = 0'),\n",
       " Text(78.46875, 45.299999999999955, 'gini = 0.451\\nsamples = 102\\nvalue = [67, 35]\\nclass = 0'),\n",
       " Text(109.85625000000002, 45.299999999999955, 'gini = 0.237\\nsamples = 51\\nvalue = [44, 7]\\nclass = 0'),\n",
       " Text(188.32500000000002, 226.5, 'internet_service_type_None <= 0.5\\ngini = 0.302\\nsamples = 448\\nvalue = [365, 83]\\nclass = 0'),\n",
       " Text(156.9375, 135.89999999999998, 'dependents_Yes <= 0.5\\ngini = 0.38\\nsamples = 271\\nvalue = [202, 69]\\nclass = 0'),\n",
       " Text(141.24375, 45.299999999999955, 'gini = 0.424\\nsamples = 190\\nvalue = [132, 58]\\nclass = 0'),\n",
       " Text(172.63125000000002, 45.299999999999955, 'gini = 0.235\\nsamples = 81\\nvalue = [70, 11]\\nclass = 0'),\n",
       " Text(219.71250000000003, 135.89999999999998, 'gender_Male <= 0.5\\ngini = 0.146\\nsamples = 177\\nvalue = [163, 14]\\nclass = 0'),\n",
       " Text(204.01875, 45.299999999999955, 'gini = 0.219\\nsamples = 88\\nvalue = [77, 11]\\nclass = 0'),\n",
       " Text(235.40625000000003, 45.299999999999955, 'gini = 0.065\\nsamples = 89\\nvalue = [86, 3]\\nclass = 0'),\n",
       " Text(376.65000000000003, 317.1, 'tenure <= 1.5\\ngini = 0.414\\nsamples = 567\\nvalue = [166, 401]\\nclass = 1'),\n",
       " Text(313.875, 226.5, 'tech_support_Yes <= 0.5\\ngini = 0.206\\nsamples = 129\\nvalue = [15, 114]\\nclass = 1'),\n",
       " Text(282.4875, 135.89999999999998, 'online_backup_Yes <= 0.5\\ngini = 0.176\\nsamples = 123\\nvalue = [12, 111]\\nclass = 1'),\n",
       " Text(266.79375000000005, 45.299999999999955, 'gini = 0.149\\nsamples = 111\\nvalue = [9, 102]\\nclass = 1'),\n",
       " Text(298.18125000000003, 45.299999999999955, 'gini = 0.375\\nsamples = 12\\nvalue = [3, 9]\\nclass = 1'),\n",
       " Text(345.26250000000005, 135.89999999999998, 'payment_type_Mailed check <= 0.5\\ngini = 0.5\\nsamples = 6\\nvalue = [3, 3]\\nclass = 0'),\n",
       " Text(329.56875, 45.299999999999955, 'gini = 0.48\\nsamples = 5\\nvalue = [2, 3]\\nclass = 1'),\n",
       " Text(360.95625, 45.299999999999955, 'gini = 0.0\\nsamples = 1\\nvalue = [1, 0]\\nclass = 0'),\n",
       " Text(439.42500000000007, 226.5, 'multiple_lines_Yes <= 0.5\\ngini = 0.452\\nsamples = 438\\nvalue = [151, 287]\\nclass = 1'),\n",
       " Text(408.0375, 135.89999999999998, 'payment_type_Mailed check <= 0.5\\ngini = 0.486\\nsamples = 226\\nvalue = [94, 132]\\nclass = 1'),\n",
       " Text(392.34375000000006, 45.299999999999955, 'gini = 0.475\\nsamples = 193\\nvalue = [75, 118]\\nclass = 1'),\n",
       " Text(423.73125000000005, 45.299999999999955, 'gini = 0.489\\nsamples = 33\\nvalue = [19, 14]\\nclass = 0'),\n",
       " Text(470.81250000000006, 135.89999999999998, 'online_security_Yes <= 0.5\\ngini = 0.393\\nsamples = 212\\nvalue = [57, 155]\\nclass = 1'),\n",
       " Text(455.11875000000003, 45.299999999999955, 'gini = 0.367\\nsamples = 190\\nvalue = [46, 144]\\nclass = 1'),\n",
       " Text(486.50625, 45.299999999999955, 'gini = 0.5\\nsamples = 22\\nvalue = [11, 11]\\nclass = 0'),\n",
       " Text(753.3000000000001, 407.70000000000005, 'internet_service_type_Fiber optic <= 0.5\\ngini = 0.267\\nsamples = 2566\\nvalue = [2158, 408]\\nclass = 0'),\n",
       " Text(627.75, 317.1, 'contract_type_Two year <= 0.5\\ngini = 0.099\\nsamples = 1411\\nvalue = [1337, 74]\\nclass = 0'),\n",
       " Text(564.975, 226.5, 'phone_service_Yes <= 0.5\\ngini = 0.155\\nsamples = 742\\nvalue = [679, 63]\\nclass = 0'),\n",
       " Text(533.5875000000001, 135.89999999999998, 'streaming_tv_Yes <= 0.5\\ngini = 0.282\\nsamples = 141\\nvalue = [117, 24]\\nclass = 0'),\n",
       " Text(517.8937500000001, 45.299999999999955, 'gini = 0.184\\nsamples = 78\\nvalue = [70, 8]\\nclass = 0'),\n",
       " Text(549.28125, 45.299999999999955, 'gini = 0.379\\nsamples = 63\\nvalue = [47, 16]\\nclass = 0'),\n",
       " Text(596.3625000000001, 135.89999999999998, 'streaming_tv_No internet service <= 0.5\\ngini = 0.121\\nsamples = 601\\nvalue = [562, 39]\\nclass = 0'),\n",
       " Text(580.66875, 45.299999999999955, 'gini = 0.162\\nsamples = 383\\nvalue = [349, 34]\\nclass = 0'),\n",
       " Text(612.0562500000001, 45.299999999999955, 'gini = 0.045\\nsamples = 218\\nvalue = [213, 5]\\nclass = 0'),\n",
       " Text(690.5250000000001, 226.5, 'streaming_tv_Yes <= 0.5\\ngini = 0.032\\nsamples = 669\\nvalue = [658, 11]\\nclass = 0'),\n",
       " Text(659.1375, 135.89999999999998, 'tenure <= 56.5\\ngini = 0.018\\nsamples = 434\\nvalue = [430, 4]\\nclass = 0'),\n",
       " Text(643.44375, 45.299999999999955, 'gini = 0.039\\nsamples = 199\\nvalue = [195, 4]\\nclass = 0'),\n",
       " Text(674.8312500000001, 45.299999999999955, 'gini = 0.0\\nsamples = 235\\nvalue = [235, 0]\\nclass = 0'),\n",
       " Text(721.9125, 135.89999999999998, 'tech_support_Yes <= 0.5\\ngini = 0.058\\nsamples = 235\\nvalue = [228, 7]\\nclass = 0'),\n",
       " Text(706.2187500000001, 45.299999999999955, 'gini = 0.153\\nsamples = 36\\nvalue = [33, 3]\\nclass = 0'),\n",
       " Text(737.60625, 45.299999999999955, 'gini = 0.039\\nsamples = 199\\nvalue = [195, 4]\\nclass = 0'),\n",
       " Text(878.8500000000001, 317.1, 'tenure <= 49.5\\ngini = 0.411\\nsamples = 1155\\nvalue = [821, 334]\\nclass = 0'),\n",
       " Text(816.075, 226.5, 'contract_type_One year <= 0.5\\ngini = 0.484\\nsamples = 597\\nvalue = [352, 245]\\nclass = 0'),\n",
       " Text(784.6875000000001, 135.89999999999998, 'contract_type_Two year <= 0.5\\ngini = 0.495\\nsamples = 493\\nvalue = [270, 223]\\nclass = 0'),\n",
       " Text(768.9937500000001, 45.299999999999955, 'gini = 0.498\\nsamples = 470\\nvalue = [250, 220]\\nclass = 0'),\n",
       " Text(800.38125, 45.299999999999955, 'gini = 0.227\\nsamples = 23\\nvalue = [20, 3]\\nclass = 0'),\n",
       " Text(847.4625000000001, 135.89999999999998, 'payment_type_Electronic check <= 0.5\\ngini = 0.334\\nsamples = 104\\nvalue = [82, 22]\\nclass = 0'),\n",
       " Text(831.7687500000001, 45.299999999999955, 'gini = 0.245\\nsamples = 63\\nvalue = [54, 9]\\nclass = 0'),\n",
       " Text(863.1562500000001, 45.299999999999955, 'gini = 0.433\\nsamples = 41\\nvalue = [28, 13]\\nclass = 0'),\n",
       " Text(941.6250000000001, 226.5, 'contract_type_Two year <= 0.5\\ngini = 0.268\\nsamples = 558\\nvalue = [469, 89]\\nclass = 0'),\n",
       " Text(910.2375000000001, 135.89999999999998, 'contract_type_One year <= 0.5\\ngini = 0.342\\nsamples = 333\\nvalue = [260, 73]\\nclass = 0'),\n",
       " Text(894.54375, 45.299999999999955, 'gini = 0.405\\nsamples = 138\\nvalue = [99, 39]\\nclass = 0'),\n",
       " Text(925.9312500000001, 45.299999999999955, 'gini = 0.288\\nsamples = 195\\nvalue = [161, 34]\\nclass = 0'),\n",
       " Text(973.0125, 135.89999999999998, 'tenure <= 57.5\\ngini = 0.132\\nsamples = 225\\nvalue = [209, 16]\\nclass = 0'),\n",
       " Text(957.3187500000001, 45.299999999999955, 'gini = 0.287\\nsamples = 23\\nvalue = [19, 4]\\nclass = 0'),\n",
       " Text(988.7062500000001, 45.299999999999955, 'gini = 0.112\\nsamples = 202\\nvalue = [190, 12]\\nclass = 0')]"
      ]
     },
     "execution_count": 89,
     "metadata": {},
     "output_type": "execute_result"
    },
    {
     "data": {
      "image/png": "[encoded data removed]",
      "text/plain": [
       "<Figure size 1296x720 with 1 Axes>"
      ]
     },
     "metadata": {
      "needs_background": "light"
     },
     "output_type": "display_data"
    }
   ],
   "source": [
    "plt.figure(figsize=(18, 10))\n",
    "plot_tree(clf, feature_names=X_train.columns, class_names=clf.classes_.astype(str), rounded=True)"
   ]
  },
  {
   "cell_type": "code",
   "execution_count": 90,
   "id": "0063f63c",
   "metadata": {},
   "outputs": [
    {
     "data": {
      "text/plain": [
       "0    3252\n",
       "1     685\n",
       "dtype: int64"
      ]
     },
     "execution_count": 90,
     "metadata": {},
     "output_type": "execute_result"
    }
   ],
   "source": [
    "#make predictions:\n",
    "churn_prediction = pd.DataFrame(clf.predict(X_train))\n",
    "churn_prediction.value_counts()"
   ]
  },
  {
   "cell_type": "code",
   "execution_count": 91,
   "id": "42de9791",
   "metadata": {},
   "outputs": [
    {
     "data": {
      "text/html": [
       "<div><div id=8cb5c466-f696-4269-b8be-998d3dddda85 style=\"display:none; background-color:#9D6CFF; color:white; width:200px; height:30px; padding-left:5px; border-radius:4px; flex-direction:row; justify-content:space-around; align-items:center;\" onmouseover=\"this.style.backgroundColor='#BA9BF8'\" onmouseout=\"this.style.backgroundColor='#9D6CFF'\" onclick=\"window.commands?.execute('create-mitosheet-from-dataframe-output');\">See Full Dataframe in Mito</div> <script> if (window.commands?.hasCommand('create-mitosheet-from-dataframe-output')) document.getElementById('8cb5c466-f696-4269-b8be-998d3dddda85').style.display = 'flex' </script> <table border=\"1\" class=\"dataframe\">\n",
       "  <thead>\n",
       "    <tr style=\"text-align: right;\">\n",
       "      <th></th>\n",
       "      <th>0</th>\n",
       "      <th>1</th>\n",
       "    </tr>\n",
       "  </thead>\n",
       "  <tbody>\n",
       "    <tr>\n",
       "      <th>0</th>\n",
       "      <td>0.911227</td>\n",
       "      <td>0.088773</td>\n",
       "    </tr>\n",
       "    <tr>\n",
       "      <th>1</th>\n",
       "      <td>0.825641</td>\n",
       "      <td>0.174359</td>\n",
       "    </tr>\n",
       "    <tr>\n",
       "      <th>2</th>\n",
       "      <td>0.977064</td>\n",
       "      <td>0.022936</td>\n",
       "    </tr>\n",
       "    <tr>\n",
       "      <th>3</th>\n",
       "      <td>0.656863</td>\n",
       "      <td>0.343137</td>\n",
       "    </tr>\n",
       "    <tr>\n",
       "      <th>4</th>\n",
       "      <td>0.911227</td>\n",
       "      <td>0.088773</td>\n",
       "    </tr>\n",
       "    <tr>\n",
       "      <th>...</th>\n",
       "      <td>...</td>\n",
       "      <td>...</td>\n",
       "    </tr>\n",
       "    <tr>\n",
       "      <th>3932</th>\n",
       "      <td>0.531915</td>\n",
       "      <td>0.468085</td>\n",
       "    </tr>\n",
       "    <tr>\n",
       "      <th>3933</th>\n",
       "      <td>0.500000</td>\n",
       "      <td>0.500000</td>\n",
       "    </tr>\n",
       "    <tr>\n",
       "      <th>3934</th>\n",
       "      <td>0.979899</td>\n",
       "      <td>0.020101</td>\n",
       "    </tr>\n",
       "    <tr>\n",
       "      <th>3935</th>\n",
       "      <td>0.531915</td>\n",
       "      <td>0.468085</td>\n",
       "    </tr>\n",
       "    <tr>\n",
       "      <th>3936</th>\n",
       "      <td>0.862745</td>\n",
       "      <td>0.137255</td>\n",
       "    </tr>\n",
       "  </tbody>\n",
       "</table></div>"
      ],
      "text/plain": [
       "             0         1\n",
       "0     0.911227  0.088773\n",
       "1     0.825641  0.174359\n",
       "2     0.977064  0.022936\n",
       "3     0.656863  0.343137\n",
       "4     0.911227  0.088773\n",
       "...        ...       ...\n",
       "3932  0.531915  0.468085\n",
       "3933  0.500000  0.500000\n",
       "3934  0.979899  0.020101\n",
       "3935  0.531915  0.468085\n",
       "3936  0.862745  0.137255\n",
       "\n",
       "[3937 rows x 2 columns]"
      ]
     },
     "execution_count": 91,
     "metadata": {},
     "output_type": "execute_result"
    }
   ],
   "source": [
    "# Predict probability\n",
    "churn_prediction_proba = pd.DataFrame(clf.predict_proba(X_train))\n",
    "churn_prediction_proba"
   ]
  },
  {
   "cell_type": "code",
   "execution_count": 92,
   "id": "8289914c",
   "metadata": {},
   "outputs": [
    {
     "name": "stdout",
     "output_type": "stream",
     "text": [
      "Accuracy of Decision Tree classifer on training set: 0.8036576073152146\n"
     ]
    }
   ],
   "source": [
    "# compute accuracy\n",
    "print(f\"Accuracy of Decision Tree classifer on training set: \"\\\n",
    "        f\"{clf.score(X_train, Y_train)}\")"
   ]
  },
  {
   "cell_type": "code",
   "execution_count": 93,
   "id": "3dc20637",
   "metadata": {},
   "outputs": [
    {
     "data": {
      "text/plain": [
       "array([[2685,  206],\n",
       "       [ 567,  479]])"
      ]
     },
     "execution_count": 93,
     "metadata": {},
     "output_type": "execute_result"
    }
   ],
   "source": [
    "# confusion matrix\n",
    "confusion_matrix(Y_train, churn_prediction)"
   ]
  },
  {
   "cell_type": "code",
   "execution_count": 94,
   "id": "b16fbc32",
   "metadata": {},
   "outputs": [
    {
     "data": {
      "text/plain": [
       "0    2891\n",
       "1    1046\n",
       "Name: churn_Yes, dtype: int64"
      ]
     },
     "execution_count": 94,
     "metadata": {},
     "output_type": "execute_result"
    }
   ],
   "source": [
    "Y_train.value_counts()"
   ]
  },
  {
   "cell_type": "code",
   "execution_count": 95,
   "id": "aeea39e9",
   "metadata": {},
   "outputs": [
    {
     "data": {
      "text/html": [
       "<div><div id=42af7fe8-f75c-4e73-ae51-62eb87b37404 style=\"display:none; background-color:#9D6CFF; color:white; width:200px; height:30px; padding-left:5px; border-radius:4px; flex-direction:row; justify-content:space-around; align-items:center;\" onmouseover=\"this.style.backgroundColor='#BA9BF8'\" onmouseout=\"this.style.backgroundColor='#9D6CFF'\" onclick=\"window.commands?.execute('create-mitosheet-from-dataframe-output');\">See Full Dataframe in Mito</div> <script> if (window.commands?.hasCommand('create-mitosheet-from-dataframe-output')) document.getElementById('42af7fe8-f75c-4e73-ae51-62eb87b37404').style.display = 'flex' </script> <table border=\"1\" class=\"dataframe\">\n",
       "  <thead>\n",
       "    <tr style=\"text-align: right;\">\n",
       "      <th></th>\n",
       "      <th>no churn</th>\n",
       "      <th>churn</th>\n",
       "    </tr>\n",
       "  </thead>\n",
       "  <tbody>\n",
       "    <tr>\n",
       "      <th>no churn</th>\n",
       "      <td>2685</td>\n",
       "      <td>206</td>\n",
       "    </tr>\n",
       "    <tr>\n",
       "      <th>churn</th>\n",
       "      <td>567</td>\n",
       "      <td>479</td>\n",
       "    </tr>\n",
       "  </tbody>\n",
       "</table></div>"
      ],
      "text/plain": [
       "          no churn  churn\n",
       "no churn      2685    206\n",
       "churn          567    479"
      ]
     },
     "execution_count": 95,
     "metadata": {},
     "output_type": "execute_result"
    }
   ],
   "source": [
    "labels = sorted(Y_train.unique())\n",
    "\n",
    "pd.DataFrame(confusion_matrix(Y_train, churn_prediction), index=['no churn','churn'], columns=['no churn','churn'])"
   ]
  },
  {
   "cell_type": "code",
   "execution_count": 96,
   "id": "06d62e17",
   "metadata": {},
   "outputs": [
    {
     "name": "stdout",
     "output_type": "stream",
     "text": [
      "              precision    recall  f1-score   support\n",
      "\n",
      "           0       0.83      0.93      0.87      2891\n",
      "           1       0.70      0.46      0.55      1046\n",
      "\n",
      "    accuracy                           0.80      3937\n",
      "   macro avg       0.76      0.69      0.71      3937\n",
      "weighted avg       0.79      0.80      0.79      3937\n",
      "\n"
     ]
    }
   ],
   "source": [
    "#classification report\n",
    "print(classification_report(Y_train, churn_prediction))"
   ]
  },
  {
   "cell_type": "markdown",
   "id": "325227d3",
   "metadata": {},
   "source": [
    "## 6. Which model performs better on your in-sample data?\n",
    "\n",
    "### Scores in sample all improve with additional max_depth (5 vs 4)."
   ]
  },
  {
   "cell_type": "markdown",
   "id": "2ac67fb7",
   "metadata": {},
   "source": [
    "## 7. Which model performs best on your out-of-sample data, the validate set?"
   ]
  },
  {
   "cell_type": "markdown",
   "id": "014472ee",
   "metadata": {},
   "source": [
    "## A. MAX DEPTH level 5"
   ]
  },
  {
   "cell_type": "code",
   "execution_count": 97,
   "id": "d705e9d2",
   "metadata": {},
   "outputs": [],
   "source": [
    "# MAX DEPTH: 5\n",
    "# now we fit the model to the validate data\n",
    "clf = DecisionTreeClassifier(max_depth=5, random_state=123)\n",
    "\n",
    "clf = clf.fit(X_validate, Y_validate)"
   ]
  },
  {
   "cell_type": "code",
   "execution_count": 98,
   "id": "e6748ffc",
   "metadata": {},
   "outputs": [
    {
     "data": {
      "text/plain": [
       "[Text(525.2175000000001, 498.3, 'payment_type_Electronic check <= 0.5\\ngini = 0.39\\nsamples = 1688\\nvalue = [1239, 449]\\nclass = 0'),\n",
       " Text(267.84000000000003, 407.70000000000005, 'tenure <= 16.5\\ngini = 0.274\\nsamples = 1106\\nvalue = [925, 181]\\nclass = 0'),\n",
       " Text(133.92000000000002, 317.1, 'internet_service_type_Fiber optic <= 0.5\\ngini = 0.44\\nsamples = 343\\nvalue = [231, 112]\\nclass = 0'),\n",
       " Text(66.96000000000001, 226.5, 'tenure <= 2.5\\ngini = 0.353\\nsamples = 245\\nvalue = [189, 56]\\nclass = 0'),\n",
       " Text(33.480000000000004, 135.89999999999998, 'paperless_billing_Yes <= 0.5\\ngini = 0.465\\nsamples = 79\\nvalue = [50, 29]\\nclass = 0'),\n",
       " Text(16.740000000000002, 45.299999999999955, 'gini = 0.369\\nsamples = 45\\nvalue = [34, 11]\\nclass = 0'),\n",
       " Text(50.220000000000006, 45.299999999999955, 'gini = 0.498\\nsamples = 34\\nvalue = [16, 18]\\nclass = 1'),\n",
       " Text(100.44000000000001, 135.89999999999998, 'streaming_tv_Yes <= 0.5\\ngini = 0.272\\nsamples = 166\\nvalue = [139, 27]\\nclass = 0'),\n",
       " Text(83.70000000000002, 45.299999999999955, 'gini = 0.236\\nsamples = 154\\nvalue = [133, 21]\\nclass = 0'),\n",
       " Text(117.18, 45.299999999999955, 'gini = 0.5\\nsamples = 12\\nvalue = [6, 6]\\nclass = 0'),\n",
       " Text(200.88000000000002, 226.5, 'tenure <= 15.5\\ngini = 0.49\\nsamples = 98\\nvalue = [42, 56]\\nclass = 1'),\n",
       " Text(167.40000000000003, 135.89999999999998, 'tenure <= 1.5\\ngini = 0.475\\nsamples = 90\\nvalue = [35, 55]\\nclass = 1'),\n",
       " Text(150.66000000000003, 45.299999999999955, 'gini = 0.337\\nsamples = 14\\nvalue = [3, 11]\\nclass = 1'),\n",
       " Text(184.14000000000001, 45.299999999999955, 'gini = 0.488\\nsamples = 76\\nvalue = [32, 44]\\nclass = 1'),\n",
       " Text(234.36, 135.89999999999998, 'multiple_lines_Yes <= 0.5\\ngini = 0.219\\nsamples = 8\\nvalue = [7, 1]\\nclass = 0'),\n",
       " Text(217.62000000000003, 45.299999999999955, 'gini = 0.0\\nsamples = 4\\nvalue = [4, 0]\\nclass = 0'),\n",
       " Text(251.10000000000002, 45.299999999999955, 'gini = 0.375\\nsamples = 4\\nvalue = [3, 1]\\nclass = 0'),\n",
       " Text(401.76000000000005, 317.1, 'contract_type_Two year <= 0.5\\ngini = 0.165\\nsamples = 763\\nvalue = [694, 69]\\nclass = 0'),\n",
       " Text(334.80000000000007, 226.5, 'internet_service_type_Fiber optic <= 0.5\\ngini = 0.25\\nsamples = 437\\nvalue = [373, 64]\\nclass = 0'),\n",
       " Text(301.32000000000005, 135.89999999999998, 'tenure <= 25.5\\ngini = 0.162\\nsamples = 247\\nvalue = [225, 22]\\nclass = 0'),\n",
       " Text(284.58000000000004, 45.299999999999955, 'gini = 0.266\\nsamples = 76\\nvalue = [64, 12]\\nclass = 0'),\n",
       " Text(318.06000000000006, 45.299999999999955, 'gini = 0.11\\nsamples = 171\\nvalue = [161, 10]\\nclass = 0'),\n",
       " Text(368.28000000000003, 135.89999999999998, 'dependents_Yes <= 0.5\\ngini = 0.344\\nsamples = 190\\nvalue = [148, 42]\\nclass = 0'),\n",
       " Text(351.54, 45.299999999999955, 'gini = 0.391\\nsamples = 135\\nvalue = [99, 36]\\nclass = 0'),\n",
       " Text(385.02000000000004, 45.299999999999955, 'gini = 0.194\\nsamples = 55\\nvalue = [49, 6]\\nclass = 0'),\n",
       " Text(468.72, 226.5, 'internet_service_type_Fiber optic <= 0.5\\ngini = 0.03\\nsamples = 326\\nvalue = [321, 5]\\nclass = 0'),\n",
       " Text(435.24000000000007, 135.89999999999998, 'tenure <= 33.5\\ngini = 0.008\\nsamples = 250\\nvalue = [249, 1]\\nclass = 0'),\n",
       " Text(418.50000000000006, 45.299999999999955, 'gini = 0.077\\nsamples = 25\\nvalue = [24, 1]\\nclass = 0'),\n",
       " Text(451.9800000000001, 45.299999999999955, 'gini = 0.0\\nsamples = 225\\nvalue = [225, 0]\\nclass = 0'),\n",
       " Text(502.20000000000005, 135.89999999999998, 'tenure <= 70.5\\ngini = 0.1\\nsamples = 76\\nvalue = [72, 4]\\nclass = 0'),\n",
       " Text(485.46000000000004, 45.299999999999955, 'gini = 0.162\\nsamples = 45\\nvalue = [41, 4]\\nclass = 0'),\n",
       " Text(518.94, 45.299999999999955, 'gini = 0.0\\nsamples = 31\\nvalue = [31, 0]\\nclass = 0'),\n",
       " Text(782.5950000000001, 407.70000000000005, 'tenure <= 26.5\\ngini = 0.497\\nsamples = 582\\nvalue = [314, 268]\\nclass = 0'),\n",
       " Text(669.6000000000001, 317.1, 'tenure <= 1.5\\ngini = 0.489\\nsamples = 351\\nvalue = [150, 201]\\nclass = 1'),\n",
       " Text(602.6400000000001, 226.5, 'streaming_movies_No internet service <= 0.5\\ngini = 0.298\\nsamples = 66\\nvalue = [12, 54]\\nclass = 1'),\n",
       " Text(569.1600000000001, 135.89999999999998, 'multiple_lines_Yes <= 0.5\\ngini = 0.267\\nsamples = 63\\nvalue = [10, 53]\\nclass = 1'),\n",
       " Text(552.4200000000001, 45.299999999999955, 'gini = 0.226\\nsamples = 54\\nvalue = [7, 47]\\nclass = 1'),\n",
       " Text(585.9000000000001, 45.299999999999955, 'gini = 0.444\\nsamples = 9\\nvalue = [3, 6]\\nclass = 1'),\n",
       " Text(636.1200000000001, 135.89999999999998, 'dependents_Yes <= 0.5\\ngini = 0.444\\nsamples = 3\\nvalue = [2, 1]\\nclass = 0'),\n",
       " Text(619.3800000000001, 45.299999999999955, 'gini = 0.0\\nsamples = 1\\nvalue = [0, 1]\\nclass = 1'),\n",
       " Text(652.8600000000001, 45.299999999999955, 'gini = 0.0\\nsamples = 2\\nvalue = [2, 0]\\nclass = 0'),\n",
       " Text(736.5600000000001, 226.5, 'streaming_movies_Yes <= 0.5\\ngini = 0.5\\nsamples = 285\\nvalue = [138, 147]\\nclass = 1'),\n",
       " Text(703.08, 135.89999999999998, 'gender_Male <= 0.5\\ngini = 0.481\\nsamples = 152\\nvalue = [91, 61]\\nclass = 0'),\n",
       " Text(686.34, 45.299999999999955, 'gini = 0.433\\nsamples = 82\\nvalue = [56, 26]\\nclass = 0'),\n",
       " Text(719.82, 45.299999999999955, 'gini = 0.5\\nsamples = 70\\nvalue = [35, 35]\\nclass = 0'),\n",
       " Text(770.0400000000001, 135.89999999999998, 'internet_service_type_Fiber optic <= 0.5\\ngini = 0.457\\nsamples = 133\\nvalue = [47, 86]\\nclass = 1'),\n",
       " Text(753.3000000000001, 45.299999999999955, 'gini = 0.488\\nsamples = 26\\nvalue = [15, 11]\\nclass = 0'),\n",
       " Text(786.7800000000001, 45.299999999999955, 'gini = 0.419\\nsamples = 107\\nvalue = [32, 75]\\nclass = 1'),\n",
       " Text(895.5900000000001, 317.1, 'internet_service_type_Fiber optic <= 0.5\\ngini = 0.412\\nsamples = 231\\nvalue = [164, 67]\\nclass = 0'),\n",
       " Text(853.7400000000001, 226.5, 'online_security_Yes <= 0.5\\ngini = 0.224\\nsamples = 70\\nvalue = [61, 9]\\nclass = 0'),\n",
       " Text(837.0000000000001, 135.89999999999998, 'dependents_Yes <= 0.5\\ngini = 0.343\\nsamples = 41\\nvalue = [32, 9]\\nclass = 0'),\n",
       " Text(820.2600000000001, 45.299999999999955, 'gini = 0.404\\nsamples = 32\\nvalue = [23, 9]\\nclass = 0'),\n",
       " Text(853.7400000000001, 45.299999999999955, 'gini = 0.0\\nsamples = 9\\nvalue = [9, 0]\\nclass = 0'),\n",
       " Text(870.4800000000001, 135.89999999999998, 'gini = 0.0\\nsamples = 29\\nvalue = [29, 0]\\nclass = 0'),\n",
       " Text(937.44, 226.5, 'tenure <= 69.5\\ngini = 0.461\\nsamples = 161\\nvalue = [103, 58]\\nclass = 0'),\n",
       " Text(903.9600000000002, 135.89999999999998, 'multiple_lines_Yes <= 0.5\\ngini = 0.481\\nsamples = 142\\nvalue = [85, 57]\\nclass = 0'),\n",
       " Text(887.2200000000001, 45.299999999999955, 'gini = 0.219\\nsamples = 24\\nvalue = [21, 3]\\nclass = 0'),\n",
       " Text(920.7000000000002, 45.299999999999955, 'gini = 0.496\\nsamples = 118\\nvalue = [64, 54]\\nclass = 0'),\n",
       " Text(970.9200000000001, 135.89999999999998, 'tenure <= 70.5\\ngini = 0.1\\nsamples = 19\\nvalue = [18, 1]\\nclass = 0'),\n",
       " Text(954.1800000000001, 45.299999999999955, 'gini = 0.219\\nsamples = 8\\nvalue = [7, 1]\\nclass = 0'),\n",
       " Text(987.6600000000001, 45.299999999999955, 'gini = 0.0\\nsamples = 11\\nvalue = [11, 0]\\nclass = 0')]"
      ]
     },
     "execution_count": 98,
     "metadata": {},
     "output_type": "execute_result"
    },
    {
     "data": {
      "image/png": "[encoded data removed]",
      "text/plain": [
       "<Figure size 1296x720 with 1 Axes>"
      ]
     },
     "metadata": {
      "needs_background": "light"
     },
     "output_type": "display_data"
    }
   ],
   "source": [
    "plt.figure(figsize=(18, 10))\n",
    "plot_tree(clf, feature_names=X_validate.columns, class_names=clf.classes_.astype(str), rounded=True)"
   ]
  },
  {
   "cell_type": "code",
   "execution_count": 99,
   "id": "8be0190e",
   "metadata": {},
   "outputs": [
    {
     "data": {
      "text/plain": [
       "0    1393\n",
       "1     295\n",
       "dtype: int64"
      ]
     },
     "execution_count": 99,
     "metadata": {},
     "output_type": "execute_result"
    }
   ],
   "source": [
    "#make predictions:\n",
    "churn_prediction = pd.DataFrame(clf.predict(X_validate))\n",
    "churn_prediction.value_counts()"
   ]
  },
  {
   "cell_type": "code",
   "execution_count": 100,
   "id": "e1de6690",
   "metadata": {},
   "outputs": [
    {
     "data": {
      "text/html": [
       "<div><div id=b16818f8-b194-40f0-a413-7822d76dd678 style=\"display:none; background-color:#9D6CFF; color:white; width:200px; height:30px; padding-left:5px; border-radius:4px; flex-direction:row; justify-content:space-around; align-items:center;\" onmouseover=\"this.style.backgroundColor='#BA9BF8'\" onmouseout=\"this.style.backgroundColor='#9D6CFF'\" onclick=\"window.commands?.execute('create-mitosheet-from-dataframe-output');\">See Full Dataframe in Mito</div> <script> if (window.commands?.hasCommand('create-mitosheet-from-dataframe-output')) document.getElementById('b16818f8-b194-40f0-a413-7822d76dd678').style.display = 'flex' </script> <table border=\"1\" class=\"dataframe\">\n",
       "  <thead>\n",
       "    <tr style=\"text-align: right;\">\n",
       "      <th></th>\n",
       "      <th>0</th>\n",
       "      <th>1</th>\n",
       "    </tr>\n",
       "  </thead>\n",
       "  <tbody>\n",
       "    <tr>\n",
       "      <th>0</th>\n",
       "      <td>0.733333</td>\n",
       "      <td>0.266667</td>\n",
       "    </tr>\n",
       "    <tr>\n",
       "      <th>1</th>\n",
       "      <td>1.000000</td>\n",
       "      <td>0.000000</td>\n",
       "    </tr>\n",
       "    <tr>\n",
       "      <th>2</th>\n",
       "      <td>1.000000</td>\n",
       "      <td>0.000000</td>\n",
       "    </tr>\n",
       "    <tr>\n",
       "      <th>3</th>\n",
       "      <td>0.960000</td>\n",
       "      <td>0.040000</td>\n",
       "    </tr>\n",
       "    <tr>\n",
       "      <th>4</th>\n",
       "      <td>1.000000</td>\n",
       "      <td>0.000000</td>\n",
       "    </tr>\n",
       "    <tr>\n",
       "      <th>...</th>\n",
       "      <td>...</td>\n",
       "      <td>...</td>\n",
       "    </tr>\n",
       "    <tr>\n",
       "      <th>1683</th>\n",
       "      <td>0.911111</td>\n",
       "      <td>0.088889</td>\n",
       "    </tr>\n",
       "    <tr>\n",
       "      <th>1684</th>\n",
       "      <td>0.733333</td>\n",
       "      <td>0.266667</td>\n",
       "    </tr>\n",
       "    <tr>\n",
       "      <th>1685</th>\n",
       "      <td>1.000000</td>\n",
       "      <td>0.000000</td>\n",
       "    </tr>\n",
       "    <tr>\n",
       "      <th>1686</th>\n",
       "      <td>0.576923</td>\n",
       "      <td>0.423077</td>\n",
       "    </tr>\n",
       "    <tr>\n",
       "      <th>1687</th>\n",
       "      <td>0.299065</td>\n",
       "      <td>0.700935</td>\n",
       "    </tr>\n",
       "  </tbody>\n",
       "</table></div>"
      ],
      "text/plain": [
       "             0         1\n",
       "0     0.733333  0.266667\n",
       "1     1.000000  0.000000\n",
       "2     1.000000  0.000000\n",
       "3     0.960000  0.040000\n",
       "4     1.000000  0.000000\n",
       "...        ...       ...\n",
       "1683  0.911111  0.088889\n",
       "1684  0.733333  0.266667\n",
       "1685  1.000000  0.000000\n",
       "1686  0.576923  0.423077\n",
       "1687  0.299065  0.700935\n",
       "\n",
       "[1688 rows x 2 columns]"
      ]
     },
     "execution_count": 100,
     "metadata": {},
     "output_type": "execute_result"
    }
   ],
   "source": [
    "# Predict probability\n",
    "churn_prediction_proba = pd.DataFrame(clf.predict_proba(X_validate))\n",
    "churn_prediction_proba"
   ]
  },
  {
   "cell_type": "code",
   "execution_count": 101,
   "id": "423a67c0",
   "metadata": {},
   "outputs": [
    {
     "name": "stdout",
     "output_type": "stream",
     "text": [
      "Accuracy of Decision Tree classifer on validation set: 0.7985781990521327\n"
     ]
    }
   ],
   "source": [
    "# compute accuracy\n",
    "print(f\"Accuracy of Decision Tree classifer on validation set: \"\\\n",
    "        f\"{clf.score(X_validate, Y_validate)}\")"
   ]
  },
  {
   "cell_type": "code",
   "execution_count": 102,
   "id": "8b9a4811",
   "metadata": {},
   "outputs": [
    {
     "data": {
      "text/plain": [
       "array([[1146,   93],\n",
       "       [ 247,  202]])"
      ]
     },
     "execution_count": 102,
     "metadata": {},
     "output_type": "execute_result"
    }
   ],
   "source": [
    "# confusion matrix\n",
    "confusion_matrix(Y_validate, churn_prediction)"
   ]
  },
  {
   "cell_type": "code",
   "execution_count": 103,
   "id": "513fae11",
   "metadata": {},
   "outputs": [
    {
     "data": {
      "text/plain": [
       "0    1239\n",
       "1     449\n",
       "Name: churn_Yes, dtype: int64"
      ]
     },
     "execution_count": 103,
     "metadata": {},
     "output_type": "execute_result"
    }
   ],
   "source": [
    "Y_validate.value_counts()"
   ]
  },
  {
   "cell_type": "code",
   "execution_count": 104,
   "id": "9fd5bc93",
   "metadata": {},
   "outputs": [
    {
     "data": {
      "text/html": [
       "<div><div id=bd4f923e-47e7-4886-9aac-287854fac4cc style=\"display:none; background-color:#9D6CFF; color:white; width:200px; height:30px; padding-left:5px; border-radius:4px; flex-direction:row; justify-content:space-around; align-items:center;\" onmouseover=\"this.style.backgroundColor='#BA9BF8'\" onmouseout=\"this.style.backgroundColor='#9D6CFF'\" onclick=\"window.commands?.execute('create-mitosheet-from-dataframe-output');\">See Full Dataframe in Mito</div> <script> if (window.commands?.hasCommand('create-mitosheet-from-dataframe-output')) document.getElementById('bd4f923e-47e7-4886-9aac-287854fac4cc').style.display = 'flex' </script> <table border=\"1\" class=\"dataframe\">\n",
       "  <thead>\n",
       "    <tr style=\"text-align: right;\">\n",
       "      <th></th>\n",
       "      <th>0</th>\n",
       "      <th>1</th>\n",
       "    </tr>\n",
       "  </thead>\n",
       "  <tbody>\n",
       "    <tr>\n",
       "      <th>0</th>\n",
       "      <td>1146</td>\n",
       "      <td>93</td>\n",
       "    </tr>\n",
       "    <tr>\n",
       "      <th>1</th>\n",
       "      <td>247</td>\n",
       "      <td>202</td>\n",
       "    </tr>\n",
       "  </tbody>\n",
       "</table></div>"
      ],
      "text/plain": [
       "      0    1\n",
       "0  1146   93\n",
       "1   247  202"
      ]
     },
     "execution_count": 104,
     "metadata": {},
     "output_type": "execute_result"
    }
   ],
   "source": [
    "labels = sorted(Y_validate.unique())\n",
    "\n",
    "pd.DataFrame(confusion_matrix(Y_validate, churn_prediction), index=labels, columns=labels)"
   ]
  },
  {
   "cell_type": "code",
   "execution_count": 105,
   "id": "7df58594",
   "metadata": {},
   "outputs": [
    {
     "name": "stdout",
     "output_type": "stream",
     "text": [
      "              precision    recall  f1-score   support\n",
      "\n",
      "           0       0.82      0.92      0.87      1239\n",
      "           1       0.68      0.45      0.54       449\n",
      "\n",
      "    accuracy                           0.80      1688\n",
      "   macro avg       0.75      0.69      0.71      1688\n",
      "weighted avg       0.79      0.80      0.78      1688\n",
      "\n"
     ]
    }
   ],
   "source": [
    "#classification report\n",
    "print(classification_report(Y_validate, churn_prediction))"
   ]
  },
  {
   "cell_type": "markdown",
   "id": "e734fca3",
   "metadata": {},
   "source": [
    "## A. MAX DEPTH level 4"
   ]
  },
  {
   "cell_type": "code",
   "execution_count": 106,
   "id": "c75ac53b",
   "metadata": {},
   "outputs": [
    {
     "data": {
      "text/plain": [
       "[Text(502.20000000000005, 489.24, 'payment_type_Electronic check <= 0.5\\ngini = 0.39\\nsamples = 1688\\nvalue = [1239, 449]\\nclass = 0'),\n",
       " Text(251.10000000000002, 380.52000000000004, 'tenure <= 16.5\\ngini = 0.274\\nsamples = 1106\\nvalue = [925, 181]\\nclass = 0'),\n",
       " Text(125.55000000000001, 271.8, 'internet_service_type_Fiber optic <= 0.5\\ngini = 0.44\\nsamples = 343\\nvalue = [231, 112]\\nclass = 0'),\n",
       " Text(62.775000000000006, 163.08000000000004, 'tenure <= 2.5\\ngini = 0.353\\nsamples = 245\\nvalue = [189, 56]\\nclass = 0'),\n",
       " Text(31.387500000000003, 54.360000000000014, 'gini = 0.465\\nsamples = 79\\nvalue = [50, 29]\\nclass = 0'),\n",
       " Text(94.16250000000001, 54.360000000000014, 'gini = 0.272\\nsamples = 166\\nvalue = [139, 27]\\nclass = 0'),\n",
       " Text(188.32500000000002, 163.08000000000004, 'tenure <= 15.5\\ngini = 0.49\\nsamples = 98\\nvalue = [42, 56]\\nclass = 1'),\n",
       " Text(156.9375, 54.360000000000014, 'gini = 0.475\\nsamples = 90\\nvalue = [35, 55]\\nclass = 1'),\n",
       " Text(219.71250000000003, 54.360000000000014, 'gini = 0.219\\nsamples = 8\\nvalue = [7, 1]\\nclass = 0'),\n",
       " Text(376.65000000000003, 271.8, 'contract_type_Two year <= 0.5\\ngini = 0.165\\nsamples = 763\\nvalue = [694, 69]\\nclass = 0'),\n",
       " Text(313.875, 163.08000000000004, 'internet_service_type_Fiber optic <= 0.5\\ngini = 0.25\\nsamples = 437\\nvalue = [373, 64]\\nclass = 0'),\n",
       " Text(282.4875, 54.360000000000014, 'gini = 0.162\\nsamples = 247\\nvalue = [225, 22]\\nclass = 0'),\n",
       " Text(345.26250000000005, 54.360000000000014, 'gini = 0.344\\nsamples = 190\\nvalue = [148, 42]\\nclass = 0'),\n",
       " Text(439.42500000000007, 163.08000000000004, 'internet_service_type_Fiber optic <= 0.5\\ngini = 0.03\\nsamples = 326\\nvalue = [321, 5]\\nclass = 0'),\n",
       " Text(408.0375, 54.360000000000014, 'gini = 0.008\\nsamples = 250\\nvalue = [249, 1]\\nclass = 0'),\n",
       " Text(470.81250000000006, 54.360000000000014, 'gini = 0.1\\nsamples = 76\\nvalue = [72, 4]\\nclass = 0'),\n",
       " Text(753.3000000000001, 380.52000000000004, 'tenure <= 26.5\\ngini = 0.497\\nsamples = 582\\nvalue = [314, 268]\\nclass = 0'),\n",
       " Text(627.75, 271.8, 'tenure <= 1.5\\ngini = 0.489\\nsamples = 351\\nvalue = [150, 201]\\nclass = 1'),\n",
       " Text(564.975, 163.08000000000004, 'streaming_tv_No internet service <= 0.5\\ngini = 0.298\\nsamples = 66\\nvalue = [12, 54]\\nclass = 1'),\n",
       " Text(533.5875000000001, 54.360000000000014, 'gini = 0.267\\nsamples = 63\\nvalue = [10, 53]\\nclass = 1'),\n",
       " Text(596.3625000000001, 54.360000000000014, 'gini = 0.444\\nsamples = 3\\nvalue = [2, 1]\\nclass = 0'),\n",
       " Text(690.5250000000001, 163.08000000000004, 'streaming_movies_Yes <= 0.5\\ngini = 0.5\\nsamples = 285\\nvalue = [138, 147]\\nclass = 1'),\n",
       " Text(659.1375, 54.360000000000014, 'gini = 0.481\\nsamples = 152\\nvalue = [91, 61]\\nclass = 0'),\n",
       " Text(721.9125, 54.360000000000014, 'gini = 0.457\\nsamples = 133\\nvalue = [47, 86]\\nclass = 1'),\n",
       " Text(878.8500000000001, 271.8, 'internet_service_type_Fiber optic <= 0.5\\ngini = 0.412\\nsamples = 231\\nvalue = [164, 67]\\nclass = 0'),\n",
       " Text(816.075, 163.08000000000004, 'online_security_Yes <= 0.5\\ngini = 0.224\\nsamples = 70\\nvalue = [61, 9]\\nclass = 0'),\n",
       " Text(784.6875000000001, 54.360000000000014, 'gini = 0.343\\nsamples = 41\\nvalue = [32, 9]\\nclass = 0'),\n",
       " Text(847.4625000000001, 54.360000000000014, 'gini = 0.0\\nsamples = 29\\nvalue = [29, 0]\\nclass = 0'),\n",
       " Text(941.6250000000001, 163.08000000000004, 'tenure <= 69.5\\ngini = 0.461\\nsamples = 161\\nvalue = [103, 58]\\nclass = 0'),\n",
       " Text(910.2375000000001, 54.360000000000014, 'gini = 0.481\\nsamples = 142\\nvalue = [85, 57]\\nclass = 0'),\n",
       " Text(973.0125, 54.360000000000014, 'gini = 0.1\\nsamples = 19\\nvalue = [18, 1]\\nclass = 0')]"
      ]
     },
     "execution_count": 106,
     "metadata": {},
     "output_type": "execute_result"
    },
    {
     "data": {
      "image/png": "[encoded data removed]",
      "text/plain": [
       "<Figure size 1296x720 with 1 Axes>"
      ]
     },
     "metadata": {
      "needs_background": "light"
     },
     "output_type": "display_data"
    }
   ],
   "source": [
    "# MAX DEPTH: 4\n",
    "# now we fit the model to the validate data\n",
    "clf = DecisionTreeClassifier(max_depth=4, random_state=123)\n",
    "\n",
    "clf = clf.fit(X_validate, Y_validate)\n",
    "\n",
    "plt.figure(figsize=(18, 10))\n",
    "plot_tree(clf, feature_names=X_validate.columns, class_names=clf.classes_.astype(str), rounded=True)"
   ]
  },
  {
   "cell_type": "code",
   "execution_count": 107,
   "id": "0dcfbfa7",
   "metadata": {},
   "outputs": [
    {
     "data": {
      "text/plain": [
       "0    1402\n",
       "1     286\n",
       "dtype: int64"
      ]
     },
     "execution_count": 107,
     "metadata": {},
     "output_type": "execute_result"
    }
   ],
   "source": [
    "#make predictions:\n",
    "churn_prediction = pd.DataFrame(clf.predict(X_validate))\n",
    "churn_prediction.value_counts()"
   ]
  },
  {
   "cell_type": "code",
   "execution_count": 108,
   "id": "a37d675c",
   "metadata": {},
   "outputs": [
    {
     "data": {
      "text/html": [
       "<div><div id=6b96c258-9814-41ba-8ff6-44dc7a92bc47 style=\"display:none; background-color:#9D6CFF; color:white; width:200px; height:30px; padding-left:5px; border-radius:4px; flex-direction:row; justify-content:space-around; align-items:center;\" onmouseover=\"this.style.backgroundColor='#BA9BF8'\" onmouseout=\"this.style.backgroundColor='#9D6CFF'\" onclick=\"window.commands?.execute('create-mitosheet-from-dataframe-output');\">See Full Dataframe in Mito</div> <script> if (window.commands?.hasCommand('create-mitosheet-from-dataframe-output')) document.getElementById('6b96c258-9814-41ba-8ff6-44dc7a92bc47').style.display = 'flex' </script> <table border=\"1\" class=\"dataframe\">\n",
       "  <thead>\n",
       "    <tr style=\"text-align: right;\">\n",
       "      <th></th>\n",
       "      <th>0</th>\n",
       "      <th>1</th>\n",
       "    </tr>\n",
       "  </thead>\n",
       "  <tbody>\n",
       "    <tr>\n",
       "      <th>0</th>\n",
       "      <td>0.778947</td>\n",
       "      <td>0.221053</td>\n",
       "    </tr>\n",
       "    <tr>\n",
       "      <th>1</th>\n",
       "      <td>0.996000</td>\n",
       "      <td>0.004000</td>\n",
       "    </tr>\n",
       "    <tr>\n",
       "      <th>2</th>\n",
       "      <td>1.000000</td>\n",
       "      <td>0.000000</td>\n",
       "    </tr>\n",
       "    <tr>\n",
       "      <th>3</th>\n",
       "      <td>0.996000</td>\n",
       "      <td>0.004000</td>\n",
       "    </tr>\n",
       "    <tr>\n",
       "      <th>4</th>\n",
       "      <td>0.996000</td>\n",
       "      <td>0.004000</td>\n",
       "    </tr>\n",
       "    <tr>\n",
       "      <th>...</th>\n",
       "      <td>...</td>\n",
       "      <td>...</td>\n",
       "    </tr>\n",
       "    <tr>\n",
       "      <th>1683</th>\n",
       "      <td>0.947368</td>\n",
       "      <td>0.052632</td>\n",
       "    </tr>\n",
       "    <tr>\n",
       "      <th>1684</th>\n",
       "      <td>0.778947</td>\n",
       "      <td>0.221053</td>\n",
       "    </tr>\n",
       "    <tr>\n",
       "      <th>1685</th>\n",
       "      <td>0.947368</td>\n",
       "      <td>0.052632</td>\n",
       "    </tr>\n",
       "    <tr>\n",
       "      <th>1686</th>\n",
       "      <td>0.353383</td>\n",
       "      <td>0.646617</td>\n",
       "    </tr>\n",
       "    <tr>\n",
       "      <th>1687</th>\n",
       "      <td>0.353383</td>\n",
       "      <td>0.646617</td>\n",
       "    </tr>\n",
       "  </tbody>\n",
       "</table></div>"
      ],
      "text/plain": [
       "             0         1\n",
       "0     0.778947  0.221053\n",
       "1     0.996000  0.004000\n",
       "2     1.000000  0.000000\n",
       "3     0.996000  0.004000\n",
       "4     0.996000  0.004000\n",
       "...        ...       ...\n",
       "1683  0.947368  0.052632\n",
       "1684  0.778947  0.221053\n",
       "1685  0.947368  0.052632\n",
       "1686  0.353383  0.646617\n",
       "1687  0.353383  0.646617\n",
       "\n",
       "[1688 rows x 2 columns]"
      ]
     },
     "execution_count": 108,
     "metadata": {},
     "output_type": "execute_result"
    }
   ],
   "source": [
    "# Predict probability\n",
    "churn_prediction_proba = pd.DataFrame(clf.predict_proba(X_validate))\n",
    "churn_prediction_proba"
   ]
  },
  {
   "cell_type": "code",
   "execution_count": 109,
   "id": "c8433e1d",
   "metadata": {},
   "outputs": [
    {
     "name": "stdout",
     "output_type": "stream",
     "text": [
      "Accuracy of Decision Tree classifer on validation set: 0.794431279620853\n"
     ]
    }
   ],
   "source": [
    "# compute accuracy\n",
    "print(f\"Accuracy of Decision Tree classifer on validation set: \"\\\n",
    "        f\"{clf.score(X_validate, Y_validate)}\")"
   ]
  },
  {
   "cell_type": "code",
   "execution_count": 110,
   "id": "0e26e86b",
   "metadata": {},
   "outputs": [
    {
     "data": {
      "text/html": [
       "<div><div id=89f4bd75-a1cc-47b3-884c-5430db1715f0 style=\"display:none; background-color:#9D6CFF; color:white; width:200px; height:30px; padding-left:5px; border-radius:4px; flex-direction:row; justify-content:space-around; align-items:center;\" onmouseover=\"this.style.backgroundColor='#BA9BF8'\" onmouseout=\"this.style.backgroundColor='#9D6CFF'\" onclick=\"window.commands?.execute('create-mitosheet-from-dataframe-output');\">See Full Dataframe in Mito</div> <script> if (window.commands?.hasCommand('create-mitosheet-from-dataframe-output')) document.getElementById('89f4bd75-a1cc-47b3-884c-5430db1715f0').style.display = 'flex' </script> <table border=\"1\" class=\"dataframe\">\n",
       "  <thead>\n",
       "    <tr style=\"text-align: right;\">\n",
       "      <th></th>\n",
       "      <th>0</th>\n",
       "      <th>1</th>\n",
       "    </tr>\n",
       "  </thead>\n",
       "  <tbody>\n",
       "    <tr>\n",
       "      <th>0</th>\n",
       "      <td>1147</td>\n",
       "      <td>92</td>\n",
       "    </tr>\n",
       "    <tr>\n",
       "      <th>1</th>\n",
       "      <td>255</td>\n",
       "      <td>194</td>\n",
       "    </tr>\n",
       "  </tbody>\n",
       "</table></div>"
      ],
      "text/plain": [
       "      0    1\n",
       "0  1147   92\n",
       "1   255  194"
      ]
     },
     "execution_count": 110,
     "metadata": {},
     "output_type": "execute_result"
    }
   ],
   "source": [
    "# confusion matrix\n",
    "confusion_matrix(Y_validate, churn_prediction)\n",
    "\n",
    "Y_validate.value_counts()\n",
    "\n",
    "labels = sorted(Y_validate.unique())\n",
    "\n",
    "pd.DataFrame(confusion_matrix(Y_validate, churn_prediction), index=labels, columns=labels)"
   ]
  },
  {
   "cell_type": "code",
   "execution_count": 111,
   "id": "4dfb6a06",
   "metadata": {},
   "outputs": [
    {
     "name": "stdout",
     "output_type": "stream",
     "text": [
      "              precision    recall  f1-score   support\n",
      "\n",
      "           0       0.82      0.93      0.87      1239\n",
      "           1       0.68      0.43      0.53       449\n",
      "\n",
      "    accuracy                           0.79      1688\n",
      "   macro avg       0.75      0.68      0.70      1688\n",
      "weighted avg       0.78      0.79      0.78      1688\n",
      "\n"
     ]
    }
   ],
   "source": [
    "#classification report\n",
    "print(classification_report(Y_validate, churn_prediction))"
   ]
  },
  {
   "cell_type": "markdown",
   "id": "d1193e89",
   "metadata": {},
   "source": [
    "## Takeaway:\n",
    "\n",
    "- 5 levels of depth is more accurate than 4 levels in this case:\n",
    "    - 79% vs 78%"
   ]
  },
  {
   "cell_type": "markdown",
   "id": "0581c3f6",
   "metadata": {},
   "source": [
    "# Random Forest Exercises"
   ]
  },
  {
   "cell_type": "markdown",
   "id": "119761e0",
   "metadata": {},
   "source": [
    "Continue working in your `model` file with titanic data to do the following: \n",
    "\n",
    "1. Fit the Random Forest classifier to your training sample and transform (i.e. make predictions on the training sample) setting the random_state accordingly and setting min_samples_leaf = 1 and max_depth = 10.\n",
    "\n",
    "1. Evaluate your results using the model score, confusion matrix, and classification report.\n",
    "\n",
    "1. Print and clearly label the following:  Accuracy, true positive rate, false positive rate, true negative rate, false negative rate, precision, recall, f1-score, and support.\n",
    "\n",
    "1. Run through steps increasing your min_samples_leaf and decreasing your max_depth. \n",
    "\n",
    "1. What are the differences in the evaluation metrics?  Which performs better on your in-sample data?  Why?\n",
    "\n",
    "After making a few models, which one has the best performance (or closest metrics) on both train and validate?"
   ]
  },
  {
   "cell_type": "code",
   "execution_count": 115,
   "id": "493b6db2",
   "metadata": {},
   "outputs": [],
   "source": [
    "# ignore warnings\n",
    "import warnings\n",
    "warnings.filterwarnings(\"ignore\")\n",
    "\n",
    "import numpy as np\n",
    "\n",
    "from sklearn.model_selection import train_test_split\n",
    "from sklearn.ensemble import RandomForestClassifier\n",
    "from sklearn.metrics import classification_report\n",
    "from sklearn.metrics import confusion_matrix\n",
    "\n",
    "\n",
    "import matplotlib.pyplot as plt\n",
    "%matplotlib inline\n",
    "import seaborn as sns\n",
    "\n",
    "\n",
    "from pydataset import data"
   ]
  },
  {
   "cell_type": "code",
   "execution_count": 116,
   "id": "f74d827b",
   "metadata": {},
   "outputs": [],
   "source": [
    "import acquire\n",
    "import prepare\n",
    "import split"
   ]
  },
  {
   "cell_type": "code",
   "execution_count": 117,
   "id": "92117ced",
   "metadata": {},
   "outputs": [
    {
     "data": {
      "text/html": [
       "<div><div id=aaf602ff-396c-4e8b-8206-6112e9244159 style=\"display:none; background-color:#9D6CFF; color:white; width:200px; height:30px; padding-left:5px; border-radius:4px; flex-direction:row; justify-content:space-around; align-items:center;\" onmouseover=\"this.style.backgroundColor='#BA9BF8'\" onmouseout=\"this.style.backgroundColor='#9D6CFF'\" onclick=\"window.commands?.execute('create-mitosheet-from-dataframe-output');\">See Full Dataframe in Mito</div> <script> if (window.commands?.hasCommand('create-mitosheet-from-dataframe-output')) document.getElementById('aaf602ff-396c-4e8b-8206-6112e9244159').style.display = 'flex' </script> <table border=\"1\" class=\"dataframe\">\n",
       "  <thead>\n",
       "    <tr style=\"text-align: right;\">\n",
       "      <th></th>\n",
       "      <th>survived</th>\n",
       "      <th>pclass</th>\n",
       "      <th>sex</th>\n",
       "      <th>age</th>\n",
       "      <th>sibsp</th>\n",
       "      <th>parch</th>\n",
       "      <th>fare</th>\n",
       "      <th>deck</th>\n",
       "      <th>embark_town</th>\n",
       "      <th>alone</th>\n",
       "      <th>embark_town_Queenstown</th>\n",
       "      <th>embark_town_Southampton</th>\n",
       "      <th>sex_male</th>\n",
       "      <th>deck_B</th>\n",
       "      <th>deck_C</th>\n",
       "      <th>deck_D</th>\n",
       "      <th>deck_E</th>\n",
       "      <th>deck_F</th>\n",
       "      <th>deck_G</th>\n",
       "    </tr>\n",
       "  </thead>\n",
       "  <tbody>\n",
       "    <tr>\n",
       "      <th>0</th>\n",
       "      <td>0</td>\n",
       "      <td>3</td>\n",
       "      <td>male</td>\n",
       "      <td>22.0</td>\n",
       "      <td>1</td>\n",
       "      <td>0</td>\n",
       "      <td>7.2500</td>\n",
       "      <td>NaN</td>\n",
       "      <td>Southampton</td>\n",
       "      <td>0</td>\n",
       "      <td>0</td>\n",
       "      <td>1</td>\n",
       "      <td>1</td>\n",
       "      <td>0</td>\n",
       "      <td>0</td>\n",
       "      <td>0</td>\n",
       "      <td>0</td>\n",
       "      <td>0</td>\n",
       "      <td>0</td>\n",
       "    </tr>\n",
       "    <tr>\n",
       "      <th>1</th>\n",
       "      <td>1</td>\n",
       "      <td>1</td>\n",
       "      <td>female</td>\n",
       "      <td>38.0</td>\n",
       "      <td>1</td>\n",
       "      <td>0</td>\n",
       "      <td>71.2833</td>\n",
       "      <td>C</td>\n",
       "      <td>Cherbourg</td>\n",
       "      <td>0</td>\n",
       "      <td>0</td>\n",
       "      <td>0</td>\n",
       "      <td>0</td>\n",
       "      <td>0</td>\n",
       "      <td>1</td>\n",
       "      <td>0</td>\n",
       "      <td>0</td>\n",
       "      <td>0</td>\n",
       "      <td>0</td>\n",
       "    </tr>\n",
       "    <tr>\n",
       "      <th>2</th>\n",
       "      <td>1</td>\n",
       "      <td>3</td>\n",
       "      <td>female</td>\n",
       "      <td>26.0</td>\n",
       "      <td>0</td>\n",
       "      <td>0</td>\n",
       "      <td>7.9250</td>\n",
       "      <td>NaN</td>\n",
       "      <td>Southampton</td>\n",
       "      <td>1</td>\n",
       "      <td>0</td>\n",
       "      <td>1</td>\n",
       "      <td>0</td>\n",
       "      <td>0</td>\n",
       "      <td>0</td>\n",
       "      <td>0</td>\n",
       "      <td>0</td>\n",
       "      <td>0</td>\n",
       "      <td>0</td>\n",
       "    </tr>\n",
       "    <tr>\n",
       "      <th>3</th>\n",
       "      <td>1</td>\n",
       "      <td>1</td>\n",
       "      <td>female</td>\n",
       "      <td>35.0</td>\n",
       "      <td>1</td>\n",
       "      <td>0</td>\n",
       "      <td>53.1000</td>\n",
       "      <td>C</td>\n",
       "      <td>Southampton</td>\n",
       "      <td>0</td>\n",
       "      <td>0</td>\n",
       "      <td>1</td>\n",
       "      <td>0</td>\n",
       "      <td>0</td>\n",
       "      <td>1</td>\n",
       "      <td>0</td>\n",
       "      <td>0</td>\n",
       "      <td>0</td>\n",
       "      <td>0</td>\n",
       "    </tr>\n",
       "    <tr>\n",
       "      <th>4</th>\n",
       "      <td>0</td>\n",
       "      <td>3</td>\n",
       "      <td>male</td>\n",
       "      <td>35.0</td>\n",
       "      <td>0</td>\n",
       "      <td>0</td>\n",
       "      <td>8.0500</td>\n",
       "      <td>NaN</td>\n",
       "      <td>Southampton</td>\n",
       "      <td>1</td>\n",
       "      <td>0</td>\n",
       "      <td>1</td>\n",
       "      <td>1</td>\n",
       "      <td>0</td>\n",
       "      <td>0</td>\n",
       "      <td>0</td>\n",
       "      <td>0</td>\n",
       "      <td>0</td>\n",
       "      <td>0</td>\n",
       "    </tr>\n",
       "  </tbody>\n",
       "</table></div>"
      ],
      "text/plain": [
       "   survived  pclass     sex   age  sibsp  parch     fare deck  embark_town  \\\n",
       "0         0       3    male  22.0      1      0   7.2500  NaN  Southampton   \n",
       "1         1       1  female  38.0      1      0  71.2833    C    Cherbourg   \n",
       "2         1       3  female  26.0      0      0   7.9250  NaN  Southampton   \n",
       "3         1       1  female  35.0      1      0  53.1000    C  Southampton   \n",
       "4         0       3    male  35.0      0      0   8.0500  NaN  Southampton   \n",
       "\n",
       "   alone  embark_town_Queenstown  embark_town_Southampton  sex_male  deck_B  \\\n",
       "0      0                       0                        1         1       0   \n",
       "1      0                       0                        0         0       0   \n",
       "2      1                       0                        1         0       0   \n",
       "3      0                       0                        1         0       0   \n",
       "4      1                       0                        1         1       0   \n",
       "\n",
       "   deck_C  deck_D  deck_E  deck_F  deck_G  \n",
       "0       0       0       0       0       0  \n",
       "1       1       0       0       0       0  \n",
       "2       0       0       0       0       0  \n",
       "3       1       0       0       0       0  \n",
       "4       0       0       0       0       0  "
      ]
     },
     "execution_count": 117,
     "metadata": {},
     "output_type": "execute_result"
    }
   ],
   "source": [
    "df = acquire.get_titanic_data()\n",
    "df = prepare.prep_titanic(df)\n",
    "df.head()"
   ]
  },
  {
   "cell_type": "code",
   "execution_count": 118,
   "id": "500abd35",
   "metadata": {},
   "outputs": [
    {
     "data": {
      "text/html": [
       "<div><div id=049166b3-4ef0-42b4-9cc6-e2a694d0da67 style=\"display:none; background-color:#9D6CFF; color:white; width:200px; height:30px; padding-left:5px; border-radius:4px; flex-direction:row; justify-content:space-around; align-items:center;\" onmouseover=\"this.style.backgroundColor='#BA9BF8'\" onmouseout=\"this.style.backgroundColor='#9D6CFF'\" onclick=\"window.commands?.execute('create-mitosheet-from-dataframe-output');\">See Full Dataframe in Mito</div> <script> if (window.commands?.hasCommand('create-mitosheet-from-dataframe-output')) document.getElementById('049166b3-4ef0-42b4-9cc6-e2a694d0da67').style.display = 'flex' </script> <table border=\"1\" class=\"dataframe\">\n",
       "  <thead>\n",
       "    <tr style=\"text-align: right;\">\n",
       "      <th></th>\n",
       "      <th>survived</th>\n",
       "      <th>pclass</th>\n",
       "      <th>age</th>\n",
       "      <th>sibsp</th>\n",
       "      <th>parch</th>\n",
       "      <th>fare</th>\n",
       "      <th>alone</th>\n",
       "      <th>embark_town_Queenstown</th>\n",
       "      <th>embark_town_Southampton</th>\n",
       "      <th>sex_male</th>\n",
       "      <th>deck_B</th>\n",
       "      <th>deck_C</th>\n",
       "      <th>deck_D</th>\n",
       "      <th>deck_E</th>\n",
       "      <th>deck_F</th>\n",
       "      <th>deck_G</th>\n",
       "    </tr>\n",
       "  </thead>\n",
       "  <tbody>\n",
       "    <tr>\n",
       "      <th>0</th>\n",
       "      <td>0</td>\n",
       "      <td>3</td>\n",
       "      <td>22.0</td>\n",
       "      <td>1</td>\n",
       "      <td>0</td>\n",
       "      <td>7.2500</td>\n",
       "      <td>0</td>\n",
       "      <td>0</td>\n",
       "      <td>1</td>\n",
       "      <td>1</td>\n",
       "      <td>0</td>\n",
       "      <td>0</td>\n",
       "      <td>0</td>\n",
       "      <td>0</td>\n",
       "      <td>0</td>\n",
       "      <td>0</td>\n",
       "    </tr>\n",
       "    <tr>\n",
       "      <th>1</th>\n",
       "      <td>1</td>\n",
       "      <td>1</td>\n",
       "      <td>38.0</td>\n",
       "      <td>1</td>\n",
       "      <td>0</td>\n",
       "      <td>71.2833</td>\n",
       "      <td>0</td>\n",
       "      <td>0</td>\n",
       "      <td>0</td>\n",
       "      <td>0</td>\n",
       "      <td>0</td>\n",
       "      <td>1</td>\n",
       "      <td>0</td>\n",
       "      <td>0</td>\n",
       "      <td>0</td>\n",
       "      <td>0</td>\n",
       "    </tr>\n",
       "    <tr>\n",
       "      <th>2</th>\n",
       "      <td>1</td>\n",
       "      <td>3</td>\n",
       "      <td>26.0</td>\n",
       "      <td>0</td>\n",
       "      <td>0</td>\n",
       "      <td>7.9250</td>\n",
       "      <td>1</td>\n",
       "      <td>0</td>\n",
       "      <td>1</td>\n",
       "      <td>0</td>\n",
       "      <td>0</td>\n",
       "      <td>0</td>\n",
       "      <td>0</td>\n",
       "      <td>0</td>\n",
       "      <td>0</td>\n",
       "      <td>0</td>\n",
       "    </tr>\n",
       "    <tr>\n",
       "      <th>3</th>\n",
       "      <td>1</td>\n",
       "      <td>1</td>\n",
       "      <td>35.0</td>\n",
       "      <td>1</td>\n",
       "      <td>0</td>\n",
       "      <td>53.1000</td>\n",
       "      <td>0</td>\n",
       "      <td>0</td>\n",
       "      <td>1</td>\n",
       "      <td>0</td>\n",
       "      <td>0</td>\n",
       "      <td>1</td>\n",
       "      <td>0</td>\n",
       "      <td>0</td>\n",
       "      <td>0</td>\n",
       "      <td>0</td>\n",
       "    </tr>\n",
       "    <tr>\n",
       "      <th>4</th>\n",
       "      <td>0</td>\n",
       "      <td>3</td>\n",
       "      <td>35.0</td>\n",
       "      <td>0</td>\n",
       "      <td>0</td>\n",
       "      <td>8.0500</td>\n",
       "      <td>1</td>\n",
       "      <td>0</td>\n",
       "      <td>1</td>\n",
       "      <td>1</td>\n",
       "      <td>0</td>\n",
       "      <td>0</td>\n",
       "      <td>0</td>\n",
       "      <td>0</td>\n",
       "      <td>0</td>\n",
       "      <td>0</td>\n",
       "    </tr>\n",
       "  </tbody>\n",
       "</table></div>"
      ],
      "text/plain": [
       "   survived  pclass   age  sibsp  parch     fare  alone  \\\n",
       "0         0       3  22.0      1      0   7.2500      0   \n",
       "1         1       1  38.0      1      0  71.2833      0   \n",
       "2         1       3  26.0      0      0   7.9250      1   \n",
       "3         1       1  35.0      1      0  53.1000      0   \n",
       "4         0       3  35.0      0      0   8.0500      1   \n",
       "\n",
       "   embark_town_Queenstown  embark_town_Southampton  sex_male  deck_B  deck_C  \\\n",
       "0                       0                        1         1       0       0   \n",
       "1                       0                        0         0       0       1   \n",
       "2                       0                        1         0       0       0   \n",
       "3                       0                        1         0       0       1   \n",
       "4                       0                        1         1       0       0   \n",
       "\n",
       "   deck_D  deck_E  deck_F  deck_G  \n",
       "0       0       0       0       0  \n",
       "1       0       0       0       0  \n",
       "2       0       0       0       0  \n",
       "3       0       0       0       0  \n",
       "4       0       0       0       0  "
      ]
     },
     "execution_count": 118,
     "metadata": {},
     "output_type": "execute_result"
    }
   ],
   "source": [
    "df = df.drop(columns = ['sex', 'deck', 'embark_town'])\n",
    "df.head()"
   ]
  },
  {
   "cell_type": "code",
   "execution_count": null,
   "id": "6f090fe8",
   "metadata": {},
   "outputs": [],
   "source": [
    "imputer = SimpleImputer(strategy='median', missing_values=np.nan)\n",
    "\n",
    "imputer = imputer.fit(df[['age']])\n",
    "\n",
    "df[['age']] = imputer.transform(df[['age']])"
   ]
  },
  {
   "cell_type": "code",
   "execution_count": 120,
   "id": "71d58e27",
   "metadata": {},
   "outputs": [
    {
     "data": {
      "text/plain": [
       "survived                   0\n",
       "pclass                     0\n",
       "age                        0\n",
       "sibsp                      0\n",
       "parch                      0\n",
       "fare                       0\n",
       "alone                      0\n",
       "embark_town_Queenstown     0\n",
       "embark_town_Southampton    0\n",
       "sex_male                   0\n",
       "deck_B                     0\n",
       "deck_C                     0\n",
       "deck_D                     0\n",
       "deck_E                     0\n",
       "deck_F                     0\n",
       "deck_G                     0\n",
       "dtype: int64"
      ]
     },
     "execution_count": 120,
     "metadata": {},
     "output_type": "execute_result"
    }
   ],
   "source": [
    "df.isna().sum()"
   ]
  },
  {
   "cell_type": "code",
   "execution_count": 121,
   "id": "2ffc4849",
   "metadata": {},
   "outputs": [
    {
     "data": {
      "text/html": [
       "<div><div id=8c473c9e-10fa-482c-b19a-d281f01d5582 style=\"display:none; background-color:#9D6CFF; color:white; width:200px; height:30px; padding-left:5px; border-radius:4px; flex-direction:row; justify-content:space-around; align-items:center;\" onmouseover=\"this.style.backgroundColor='#BA9BF8'\" onmouseout=\"this.style.backgroundColor='#9D6CFF'\" onclick=\"window.commands?.execute('create-mitosheet-from-dataframe-output');\">See Full Dataframe in Mito</div> <script> if (window.commands?.hasCommand('create-mitosheet-from-dataframe-output')) document.getElementById('8c473c9e-10fa-482c-b19a-d281f01d5582').style.display = 'flex' </script> <table border=\"1\" class=\"dataframe\">\n",
       "  <thead>\n",
       "    <tr style=\"text-align: right;\">\n",
       "      <th></th>\n",
       "      <th>survived</th>\n",
       "      <th>pclass</th>\n",
       "      <th>age</th>\n",
       "      <th>sibsp</th>\n",
       "      <th>parch</th>\n",
       "      <th>fare</th>\n",
       "      <th>alone</th>\n",
       "      <th>embark_town_Queenstown</th>\n",
       "      <th>embark_town_Southampton</th>\n",
       "      <th>sex_male</th>\n",
       "      <th>deck_B</th>\n",
       "      <th>deck_C</th>\n",
       "      <th>deck_D</th>\n",
       "      <th>deck_E</th>\n",
       "      <th>deck_F</th>\n",
       "      <th>deck_G</th>\n",
       "    </tr>\n",
       "  </thead>\n",
       "  <tbody>\n",
       "    <tr>\n",
       "      <th>583</th>\n",
       "      <td>0</td>\n",
       "      <td>1</td>\n",
       "      <td>36.0</td>\n",
       "      <td>0</td>\n",
       "      <td>0</td>\n",
       "      <td>40.1250</td>\n",
       "      <td>1</td>\n",
       "      <td>0</td>\n",
       "      <td>0</td>\n",
       "      <td>1</td>\n",
       "      <td>0</td>\n",
       "      <td>0</td>\n",
       "      <td>0</td>\n",
       "      <td>0</td>\n",
       "      <td>0</td>\n",
       "      <td>0</td>\n",
       "    </tr>\n",
       "    <tr>\n",
       "      <th>165</th>\n",
       "      <td>1</td>\n",
       "      <td>3</td>\n",
       "      <td>9.0</td>\n",
       "      <td>0</td>\n",
       "      <td>2</td>\n",
       "      <td>20.5250</td>\n",
       "      <td>0</td>\n",
       "      <td>0</td>\n",
       "      <td>1</td>\n",
       "      <td>1</td>\n",
       "      <td>0</td>\n",
       "      <td>0</td>\n",
       "      <td>0</td>\n",
       "      <td>0</td>\n",
       "      <td>0</td>\n",
       "      <td>0</td>\n",
       "    </tr>\n",
       "    <tr>\n",
       "      <th>50</th>\n",
       "      <td>0</td>\n",
       "      <td>3</td>\n",
       "      <td>7.0</td>\n",
       "      <td>4</td>\n",
       "      <td>1</td>\n",
       "      <td>39.6875</td>\n",
       "      <td>0</td>\n",
       "      <td>0</td>\n",
       "      <td>1</td>\n",
       "      <td>1</td>\n",
       "      <td>0</td>\n",
       "      <td>0</td>\n",
       "      <td>0</td>\n",
       "      <td>0</td>\n",
       "      <td>0</td>\n",
       "      <td>0</td>\n",
       "    </tr>\n",
       "    <tr>\n",
       "      <th>259</th>\n",
       "      <td>1</td>\n",
       "      <td>2</td>\n",
       "      <td>50.0</td>\n",
       "      <td>0</td>\n",
       "      <td>1</td>\n",
       "      <td>26.0000</td>\n",
       "      <td>0</td>\n",
       "      <td>0</td>\n",
       "      <td>1</td>\n",
       "      <td>0</td>\n",
       "      <td>0</td>\n",
       "      <td>0</td>\n",
       "      <td>0</td>\n",
       "      <td>0</td>\n",
       "      <td>0</td>\n",
       "      <td>0</td>\n",
       "    </tr>\n",
       "    <tr>\n",
       "      <th>306</th>\n",
       "      <td>1</td>\n",
       "      <td>1</td>\n",
       "      <td>28.0</td>\n",
       "      <td>0</td>\n",
       "      <td>0</td>\n",
       "      <td>110.8833</td>\n",
       "      <td>1</td>\n",
       "      <td>0</td>\n",
       "      <td>0</td>\n",
       "      <td>0</td>\n",
       "      <td>0</td>\n",
       "      <td>0</td>\n",
       "      <td>0</td>\n",
       "      <td>0</td>\n",
       "      <td>0</td>\n",
       "      <td>0</td>\n",
       "    </tr>\n",
       "  </tbody>\n",
       "</table></div>"
      ],
      "text/plain": [
       "     survived  pclass   age  sibsp  parch      fare  alone  \\\n",
       "583         0       1  36.0      0      0   40.1250      1   \n",
       "165         1       3   9.0      0      2   20.5250      0   \n",
       "50          0       3   7.0      4      1   39.6875      0   \n",
       "259         1       2  50.0      0      1   26.0000      0   \n",
       "306         1       1  28.0      0      0  110.8833      1   \n",
       "\n",
       "     embark_town_Queenstown  embark_town_Southampton  sex_male  deck_B  \\\n",
       "583                       0                        0         1       0   \n",
       "165                       0                        1         1       0   \n",
       "50                        0                        1         1       0   \n",
       "259                       0                        1         0       0   \n",
       "306                       0                        0         0       0   \n",
       "\n",
       "     deck_C  deck_D  deck_E  deck_F  deck_G  \n",
       "583       0       0       0       0       0  \n",
       "165       0       0       0       0       0  \n",
       "50        0       0       0       0       0  \n",
       "259       0       0       0       0       0  \n",
       "306       0       0       0       0       0  "
      ]
     },
     "execution_count": 121,
     "metadata": {},
     "output_type": "execute_result"
    }
   ],
   "source": [
    "train, validate, test = split.train_validate_test_split(df, 'survived')\n",
    "train.head()"
   ]
  },
  {
   "cell_type": "code",
   "execution_count": 122,
   "id": "f8b87c0f",
   "metadata": {},
   "outputs": [
    {
     "data": {
      "text/plain": [
       "(0.38353413654618473, 0.38317757009345793, 0.3854748603351955)"
      ]
     },
     "execution_count": 122,
     "metadata": {},
     "output_type": "execute_result"
    }
   ],
   "source": [
    "train.survived.mean(), validate.survived.mean(), test.survived.mean()"
   ]
  },
  {
   "cell_type": "code",
   "execution_count": 123,
   "id": "39deeb71",
   "metadata": {},
   "outputs": [],
   "source": [
    "#create x and y version, where y is the series with just target variable,\n",
    "# and x is the series without the target variable\n",
    "\n",
    "X_train = train.drop(columns=['survived'])\n",
    "y_train = train.survived\n",
    "\n",
    "X_validate = validate.drop(columns=['survived'])\n",
    "y_validate = validate.survived\n",
    "\n",
    "X_test = test.drop(columns=['survived'])\n",
    "y_test = test.survived"
   ]
  },
  {
   "cell_type": "markdown",
   "id": "5ff977a9",
   "metadata": {},
   "source": [
    "## 1. Fit the Random Forest classifier to your training sample and transform (i.e. make predictions on the training sample) setting the random_state accordingly and setting min_samples_leaf = 1 and max_depth = 10."
   ]
  },
  {
   "cell_type": "code",
   "execution_count": 141,
   "id": "31d0a7a0",
   "metadata": {},
   "outputs": [
    {
     "name": "stdout",
     "output_type": "stream",
     "text": [
      "[{'max_depth': 1, 'training_accuracy': 0.7650602409638554, 'classification_report': '              precision    recall  f1-score   support\\n\\n           0       0.73      0.99      0.84       307\\n           1       0.96      0.40      0.57       191\\n\\n    accuracy                           0.77       498\\n   macro avg       0.84      0.70      0.70       498\\nweighted avg       0.82      0.77      0.73       498\\n', 'validate_accuracy': 0.7523364485981309}, {'max_depth': 2, 'training_accuracy': 0.8052208835341366, 'classification_report': '              precision    recall  f1-score   support\\n\\n           0       0.77      0.98      0.86       307\\n           1       0.95      0.52      0.67       191\\n\\n    accuracy                           0.81       498\\n   macro avg       0.86      0.75      0.77       498\\nweighted avg       0.84      0.81      0.79       498\\n', 'validate_accuracy': 0.7710280373831776}, {'max_depth': 3, 'training_accuracy': 0.8413654618473896, 'classification_report': '              precision    recall  f1-score   support\\n\\n           0       0.81      0.96      0.88       307\\n           1       0.91      0.65      0.76       191\\n\\n    accuracy                           0.84       498\\n   macro avg       0.86      0.81      0.82       498\\nweighted avg       0.85      0.84      0.83       498\\n', 'validate_accuracy': 0.7850467289719626}, {'max_depth': 4, 'training_accuracy': 0.8614457831325302, 'classification_report': '              precision    recall  f1-score   support\\n\\n           0       0.84      0.96      0.90       307\\n           1       0.92      0.70      0.80       191\\n\\n    accuracy                           0.86       498\\n   macro avg       0.88      0.83      0.85       498\\nweighted avg       0.87      0.86      0.86       498\\n', 'validate_accuracy': 0.7850467289719626}, {'max_depth': 5, 'training_accuracy': 0.8795180722891566, 'classification_report': '              precision    recall  f1-score   support\\n\\n           0       0.85      0.97      0.91       307\\n           1       0.94      0.73      0.82       191\\n\\n    accuracy                           0.88       498\\n   macro avg       0.90      0.85      0.87       498\\nweighted avg       0.89      0.88      0.88       498\\n', 'validate_accuracy': 0.794392523364486}, {'max_depth': 6, 'training_accuracy': 0.8955823293172691, 'classification_report': '              precision    recall  f1-score   support\\n\\n           0       0.87      0.97      0.92       307\\n           1       0.95      0.77      0.85       191\\n\\n    accuracy                           0.90       498\\n   macro avg       0.91      0.87      0.88       498\\nweighted avg       0.90      0.90      0.89       498\\n', 'validate_accuracy': 0.7850467289719626}, {'max_depth': 7, 'training_accuracy': 0.9056224899598394, 'classification_report': '              precision    recall  f1-score   support\\n\\n           0       0.88      0.98      0.93       307\\n           1       0.97      0.78      0.86       191\\n\\n    accuracy                           0.91       498\\n   macro avg       0.92      0.88      0.90       498\\nweighted avg       0.91      0.91      0.90       498\\n', 'validate_accuracy': 0.7990654205607477}, {'max_depth': 8, 'training_accuracy': 0.9317269076305221, 'classification_report': '              precision    recall  f1-score   support\\n\\n           0       0.91      0.99      0.95       307\\n           1       0.98      0.84      0.90       191\\n\\n    accuracy                           0.93       498\\n   macro avg       0.94      0.91      0.93       498\\nweighted avg       0.94      0.93      0.93       498\\n', 'validate_accuracy': 0.8177570093457944}, {'max_depth': 9, 'training_accuracy': 0.9417670682730924, 'classification_report': '              precision    recall  f1-score   support\\n\\n           0       0.92      0.99      0.95       307\\n           1       0.99      0.86      0.92       191\\n\\n    accuracy                           0.94       498\\n   macro avg       0.95      0.93      0.94       498\\nweighted avg       0.95      0.94      0.94       498\\n', 'validate_accuracy': 0.8130841121495327}, {'max_depth': 10, 'training_accuracy': 0.9538152610441767, 'classification_report': '              precision    recall  f1-score   support\\n\\n           0       0.93      1.00      0.96       307\\n           1       0.99      0.88      0.94       191\\n\\n    accuracy                           0.95       498\\n   macro avg       0.96      0.94      0.95       498\\nweighted avg       0.96      0.95      0.95       498\\n', 'validate_accuracy': 0.8084112149532711}]\n"
     ]
    }
   ],
   "source": [
    "max_depth_list = []\n",
    "\n",
    "for i in range(1, 11):\n",
    "    # create the random forest object with desired hyper-parameters:\n",
    "    rf = RandomForestClassifier(max_depth=i, random_state=123)\n",
    "    \n",
    "    # fit the random forest to the training data:\n",
    "    rf.fit(X_train, y_train)\n",
    "    \n",
    "    # Evaluate importance, or weight, of each feature.\n",
    "    rf.feature_importances_\n",
    "    \n",
    "    # Classify each passenger by its estimated survival.\n",
    "    y_pred = rf.predict(X_train)\n",
    "    \n",
    "    # Estimate the probability of survival, using the training data.\n",
    "    y_pred_proba = rf.predict_proba(X_train)\n",
    "    # compute the estimate accuracy\n",
    "    train_set_accuracy = rf.score(X_train, y_train)\n",
    "    \n",
    "    # Create a confusion matrix\n",
    "    confusion_matrix(y_train, y_pred)\n",
    "    \n",
    "    # Create a classification report\n",
    "    model_report = classification_report(y_train, y_pred)\n",
    "    \n",
    "    #evaluate on out-of-sample-date\n",
    "    validate_set_accuracy = rf.score(X_validate, y_validate)\n",
    "    \n",
    "    max_depth_list.append({'max_depth': i,\n",
    "                           'training_accuracy': train_set_accuracy,\n",
    "                           'classification_report': model_report,\n",
    "                          'validate_accuracy': validate_set_accuracy})\n",
    "\n",
    "print(max_depth_list)"
   ]
  },
  {
   "cell_type": "code",
   "execution_count": 144,
   "id": "aec403b2",
   "metadata": {},
   "outputs": [
    {
     "name": "stdout",
     "output_type": "stream",
     "text": [
      "Depth: 1\n",
      "Training Set Accuracy: 0.7650602409638554\n",
      "Classification Report:               precision    recall  f1-score   support\n",
      "\n",
      "           0       0.73      0.99      0.84       307\n",
      "           1       0.96      0.40      0.57       191\n",
      "\n",
      "    accuracy                           0.77       498\n",
      "   macro avg       0.84      0.70      0.70       498\n",
      "weighted avg       0.82      0.77      0.73       498\n",
      "\n",
      "Validate Set Accuracy: 0.7523364485981309\n",
      "\n",
      "Depth: 2\n",
      "Training Set Accuracy: 0.8052208835341366\n",
      "Classification Report:               precision    recall  f1-score   support\n",
      "\n",
      "           0       0.77      0.98      0.86       307\n",
      "           1       0.95      0.52      0.67       191\n",
      "\n",
      "    accuracy                           0.81       498\n",
      "   macro avg       0.86      0.75      0.77       498\n",
      "weighted avg       0.84      0.81      0.79       498\n",
      "\n",
      "Validate Set Accuracy: 0.7710280373831776\n",
      "\n",
      "Depth: 3\n",
      "Training Set Accuracy: 0.8413654618473896\n",
      "Classification Report:               precision    recall  f1-score   support\n",
      "\n",
      "           0       0.81      0.96      0.88       307\n",
      "           1       0.91      0.65      0.76       191\n",
      "\n",
      "    accuracy                           0.84       498\n",
      "   macro avg       0.86      0.81      0.82       498\n",
      "weighted avg       0.85      0.84      0.83       498\n",
      "\n",
      "Validate Set Accuracy: 0.7850467289719626\n",
      "\n",
      "Depth: 4\n",
      "Training Set Accuracy: 0.8614457831325302\n",
      "Classification Report:               precision    recall  f1-score   support\n",
      "\n",
      "           0       0.84      0.96      0.90       307\n",
      "           1       0.92      0.70      0.80       191\n",
      "\n",
      "    accuracy                           0.86       498\n",
      "   macro avg       0.88      0.83      0.85       498\n",
      "weighted avg       0.87      0.86      0.86       498\n",
      "\n",
      "Validate Set Accuracy: 0.7850467289719626\n",
      "\n",
      "Depth: 5\n",
      "Training Set Accuracy: 0.8795180722891566\n",
      "Classification Report:               precision    recall  f1-score   support\n",
      "\n",
      "           0       0.85      0.97      0.91       307\n",
      "           1       0.94      0.73      0.82       191\n",
      "\n",
      "    accuracy                           0.88       498\n",
      "   macro avg       0.90      0.85      0.87       498\n",
      "weighted avg       0.89      0.88      0.88       498\n",
      "\n",
      "Validate Set Accuracy: 0.794392523364486\n",
      "\n",
      "Depth: 6\n",
      "Training Set Accuracy: 0.8955823293172691\n",
      "Classification Report:               precision    recall  f1-score   support\n",
      "\n",
      "           0       0.87      0.97      0.92       307\n",
      "           1       0.95      0.77      0.85       191\n",
      "\n",
      "    accuracy                           0.90       498\n",
      "   macro avg       0.91      0.87      0.88       498\n",
      "weighted avg       0.90      0.90      0.89       498\n",
      "\n",
      "Validate Set Accuracy: 0.7850467289719626\n",
      "\n",
      "Depth: 7\n",
      "Training Set Accuracy: 0.9056224899598394\n",
      "Classification Report:               precision    recall  f1-score   support\n",
      "\n",
      "           0       0.88      0.98      0.93       307\n",
      "           1       0.97      0.78      0.86       191\n",
      "\n",
      "    accuracy                           0.91       498\n",
      "   macro avg       0.92      0.88      0.90       498\n",
      "weighted avg       0.91      0.91      0.90       498\n",
      "\n",
      "Validate Set Accuracy: 0.7990654205607477\n",
      "\n",
      "Depth: 8\n",
      "Training Set Accuracy: 0.9317269076305221\n",
      "Classification Report:               precision    recall  f1-score   support\n",
      "\n",
      "           0       0.91      0.99      0.95       307\n",
      "           1       0.98      0.84      0.90       191\n",
      "\n",
      "    accuracy                           0.93       498\n",
      "   macro avg       0.94      0.91      0.93       498\n",
      "weighted avg       0.94      0.93      0.93       498\n",
      "\n",
      "Validate Set Accuracy: 0.8177570093457944\n",
      "\n",
      "Depth: 9\n",
      "Training Set Accuracy: 0.9417670682730924\n",
      "Classification Report:               precision    recall  f1-score   support\n",
      "\n",
      "           0       0.92      0.99      0.95       307\n",
      "           1       0.99      0.86      0.92       191\n",
      "\n",
      "    accuracy                           0.94       498\n",
      "   macro avg       0.95      0.93      0.94       498\n",
      "weighted avg       0.95      0.94      0.94       498\n",
      "\n",
      "Validate Set Accuracy: 0.8130841121495327\n",
      "\n",
      "Depth: 10\n",
      "Training Set Accuracy: 0.9538152610441767\n",
      "Classification Report:               precision    recall  f1-score   support\n",
      "\n",
      "           0       0.93      1.00      0.96       307\n",
      "           1       0.99      0.88      0.94       191\n",
      "\n",
      "    accuracy                           0.95       498\n",
      "   macro avg       0.96      0.94      0.95       498\n",
      "weighted avg       0.96      0.95      0.95       498\n",
      "\n",
      "Validate Set Accuracy: 0.8084112149532711\n",
      "\n"
     ]
    }
   ],
   "source": [
    "for model in max_depth_list:\n",
    "    print(f\"Depth: {model['max_depth']}\")\n",
    "    print(f\"Training Set Accuracy: {model['training_accuracy']}\")\n",
    "    print(f\"Classification Report: {model['classification_report']}\")\n",
    "    print(f\"Validate Set Accuracy: {model['validate_accuracy']}\")\n",
    "    print()"
   ]
  },
  {
   "cell_type": "code",
   "execution_count": null,
   "id": "775a5f23",
   "metadata": {},
   "outputs": [],
   "source": []
  }
 ],
 "metadata": {
  "kernelspec": {
   "display_name": "Python 3 (ipykernel)",
   "language": "python",
   "name": "python3"
  },
  "language_info": {
   "codemirror_mode": {
    "name": "ipython",
    "version": 3
   },
   "file_extension": ".py",
   "mimetype": "text/x-python",
   "name": "python",
   "nbconvert_exporter": "python",
   "pygments_lexer": "ipython3",
   "version": "3.9.7"
  }
 },
 "nbformat": 4,
 "nbformat_minor": 5
}
